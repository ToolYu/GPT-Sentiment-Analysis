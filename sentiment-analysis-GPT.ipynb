{
 "cells": [
  {
   "cell_type": "markdown",
   "metadata": {
    "id": "ZelDjoXEdECv"
   },
   "source": [
    "# Evaluating GPT-4o's Performance in Public Opinion Analysis\n",
    "### Assessing its Ability in Determining Specific Brand Attributes from Social Media Images"
   ]
  },
  {
   "cell_type": "markdown",
   "metadata": {
    "id": "IzQzJb3ydECw"
   },
   "source": [
    "### 1. Preparation\n",
    "#### 1.1 Importing Required Packages"
   ]
  },
  {
   "cell_type": "code",
   "execution_count": null,
   "metadata": {
    "id": "355xAbmJzp1n"
   },
   "outputs": [],
   "source": [
    "import pandas as pd\n",
    "import requests\n",
    "from PIL import Image\n",
    "from io import BytesIO\n",
    "import matplotlib.pyplot as plt\n",
    "from sklearn.metrics import accuracy_score, roc_auc_score\n",
    "from tqdm import tqdm\n",
    "from openai import OpenAI\n",
    "from google.colab import drive\n",
    "import os\n",
    "import openai"
   ]
  },
  {
   "cell_type": "markdown",
   "metadata": {
    "id": "leW1VFrfdECx"
   },
   "source": [
    "#### 1.2 Setting Up the OpenAI API Key"
   ]
  },
  {
   "cell_type": "code",
   "execution_count": null,
   "metadata": {
    "id": "jc4uCgtQdECx"
   },
   "outputs": [],
   "source": [
    "client = OpenAI(api_key='')"
   ]
  },
  {
   "cell_type": "markdown",
   "metadata": {
    "id": "2MJzyhojdECy"
   },
   "source": [
    "#### 1.3 Defining the Prompt for Query"
   ]
  },
  {
   "cell_type": "code",
   "execution_count": null,
   "metadata": {
    "id": "1LGqGq5odECy"
   },
   "outputs": [],
   "source": [
    "label_attribution_prompt_text = \"\"\"\n",
    "Analyze the provided image, sourced from social media and related to a specific brand, to conduct a detailed public opinion analysis. Evaluate the image's content to determine whether it aligns with any of the following brand attributes. For each attribute, provide a label based on the visual and contextual cues observed in the image:\n",
    "\n",
    "1. Glamorous / Drab: Assess the level of sophistication, elegance, or appeal present in the image.\n",
    "2. Rugged / Gentle: Determine if the image conveys strength, toughness, or durability, versus softness, calmness, or subtlety.\n",
    "3. Healthy / Unhealthy: Evaluate whether the image promotes or symbolizes health, wellness, and vitality, or if it indicates a lack of these qualities.\n",
    "4. Fun / Dull: Assess whether the image conveys excitement, entertainment, or joy, compared to being uninteresting or lacking vibrancy.\n",
    "\n",
    "Ensure your analysis considers the cultural and social context of the image, as well as its visual elements, and provide clear and concise labels for each attribute. Justify your labels with a brief explanation when possible.\n",
    "\n",
    "When you answer, please only mention the label you choose. Do not include any other options. For example, if you choose \"drab\", do not mention \"glamorous\" at all in your answer.\n",
    "\"\"\""
   ]
  },
  {
   "cell_type": "markdown",
   "metadata": {
    "id": "9s-3EOvzdECy"
   },
   "source": [
    "### 2. Rugged vs. Gentle Classification Study"
   ]
  },
  {
   "cell_type": "code",
   "execution_count": null,
   "metadata": {
    "id": "UkSP_L3WdECz",
    "outputId": "9b13a44b-a2c5-49cd-d8df-13879e9fb292"
   },
   "outputs": [
    {
     "name": "stderr",
     "output_type": "stream",
     "text": [
      "Processing images:   0%|                                | 0/150 [00:00<?, ?it/s]"
     ]
    },
    {
     "name": "stdout",
     "output_type": "stream",
     "text": [
      "Processing image from URL: https://brandperception.s3.amazonaws.com/imagenet_eval_top50_middle50_bottom50/rugged/bottom50/1205441965593894330_1667356190.jpg\n"
     ]
    },
    {
     "name": "stderr",
     "output_type": "stream",
     "text": [
      "Processing images:   1%|▏                       | 1/150 [00:03<09:37,  3.88s/it]"
     ]
    },
    {
     "name": "stdout",
     "output_type": "stream",
     "text": [
      "True Label: 0, Predicted Label: 0\n",
      "Processing image from URL: https://brandperception.s3.amazonaws.com/imagenet_eval_top50_middle50_bottom50/rugged/middle50/1242416075848572373_42698094.jpg\n"
     ]
    },
    {
     "name": "stderr",
     "output_type": "stream",
     "text": [
      "Processing images:   1%|▎                       | 2/150 [00:07<09:42,  3.94s/it]"
     ]
    },
    {
     "name": "stdout",
     "output_type": "stream",
     "text": [
      "True Label: 0, Predicted Label: 0\n",
      "Processing image from URL: https://brandperception.s3.amazonaws.com/imagenet_eval_top50_middle50_bottom50/rugged/middle50/1242807253535554008_18749349.jpg\n"
     ]
    },
    {
     "name": "stderr",
     "output_type": "stream",
     "text": [
      "Processing images:   2%|▍                       | 3/150 [00:12<10:43,  4.38s/it]"
     ]
    },
    {
     "name": "stdout",
     "output_type": "stream",
     "text": [
      "True Label: 0, Predicted Label: 0\n",
      "Processing image from URL: https://brandperception.s3.amazonaws.com/imagenet_eval_top50_middle50_bottom50/rugged/top50/1169288_688275261183756_237765567_n.jpg\n"
     ]
    },
    {
     "name": "stderr",
     "output_type": "stream",
     "text": [
      "Processing images:   3%|▋                       | 4/150 [00:17<11:24,  4.69s/it]"
     ]
    },
    {
     "name": "stdout",
     "output_type": "stream",
     "text": [
      "True Label: 1, Predicted Label: 1\n",
      "Processing image from URL: https://brandperception.s3.amazonaws.com/imagenet_eval_top50_middle50_bottom50/rugged/bottom50/1238564124691376593_31799457.jpg\n"
     ]
    },
    {
     "name": "stderr",
     "output_type": "stream",
     "text": [
      "Processing images:   3%|▊                       | 5/150 [00:22<11:07,  4.61s/it]"
     ]
    },
    {
     "name": "stdout",
     "output_type": "stream",
     "text": [
      "True Label: 0, Predicted Label: 0\n",
      "Processing image from URL: https://brandperception.s3.amazonaws.com/imagenet_eval_top50_middle50_bottom50/rugged/middle50/11176030_422434391262019_1450527391_n.jpg\n"
     ]
    },
    {
     "name": "stderr",
     "output_type": "stream",
     "text": [
      "Processing images:   4%|▉                       | 6/150 [00:27<11:08,  4.64s/it]"
     ]
    },
    {
     "name": "stdout",
     "output_type": "stream",
     "text": [
      "True Label: 1, Predicted Label: 1\n",
      "Processing image from URL: https://brandperception.s3.amazonaws.com/imagenet_eval_top50_middle50_bottom50/rugged/middle50/10424639_286565941517966_463785614_n.jpg\n"
     ]
    },
    {
     "name": "stderr",
     "output_type": "stream",
     "text": [
      "Processing images:   5%|█                       | 7/150 [00:31<11:07,  4.67s/it]"
     ]
    },
    {
     "name": "stdout",
     "output_type": "stream",
     "text": [
      "True Label: 0, Predicted Label: 0\n",
      "Processing image from URL: https://brandperception.s3.amazonaws.com/imagenet_eval_top50_middle50_bottom50/rugged/top50/13774775_1764680940481588_1531254308_n.jpg\n"
     ]
    },
    {
     "name": "stderr",
     "output_type": "stream",
     "text": [
      "Processing images:   5%|█▎                      | 8/150 [00:35<10:40,  4.51s/it]"
     ]
    },
    {
     "name": "stdout",
     "output_type": "stream",
     "text": [
      "True Label: 1, Predicted Label: 1\n",
      "Processing image from URL: https://brandperception.s3.amazonaws.com/imagenet_eval_top50_middle50_bottom50/rugged/middle50/13118306_107118206363938_1117153929_n.jpg\n"
     ]
    },
    {
     "name": "stderr",
     "output_type": "stream",
     "text": [
      "Processing images:   6%|█▍                      | 9/150 [00:41<11:31,  4.90s/it]"
     ]
    },
    {
     "name": "stdout",
     "output_type": "stream",
     "text": [
      "True Label: 0, Predicted Label: 0\n",
      "Processing image from URL: https://brandperception.s3.amazonaws.com/imagenet_eval_top50_middle50_bottom50/rugged/middle50/1241635024025679049_1426913836.jpg\n"
     ]
    },
    {
     "name": "stderr",
     "output_type": "stream",
     "text": [
      "Processing images:   7%|█▌                     | 10/150 [00:46<11:17,  4.84s/it]"
     ]
    },
    {
     "name": "stdout",
     "output_type": "stream",
     "text": [
      "True Label: 1, Predicted Label: 1\n",
      "Processing image from URL: https://brandperception.s3.amazonaws.com/imagenet_eval_top50_middle50_bottom50/rugged/middle50/13712761_903531159759146_610929921_n.jpg\n"
     ]
    },
    {
     "name": "stderr",
     "output_type": "stream",
     "text": [
      "Processing images:   7%|█▋                     | 11/150 [00:51<11:07,  4.80s/it]"
     ]
    },
    {
     "name": "stdout",
     "output_type": "stream",
     "text": [
      "True Label: 0, Predicted Label: 0\n",
      "Processing image from URL: https://brandperception.s3.amazonaws.com/imagenet_eval_top50_middle50_bottom50/rugged/middle50/1239287974420324941_13798879.jpg\n"
     ]
    },
    {
     "name": "stderr",
     "output_type": "stream",
     "text": [
      "Processing images:   8%|█▊                     | 12/150 [00:55<10:37,  4.62s/it]"
     ]
    },
    {
     "name": "stdout",
     "output_type": "stream",
     "text": [
      "True Label: 0, Predicted Label: 0\n",
      "Processing image from URL: https://brandperception.s3.amazonaws.com/imagenet_eval_top50_middle50_bottom50/rugged/middle50/1230041254843825313_586665686.jpg\n"
     ]
    },
    {
     "name": "stderr",
     "output_type": "stream",
     "text": [
      "Processing images:   9%|█▉                     | 13/150 [00:59<10:10,  4.46s/it]"
     ]
    },
    {
     "name": "stdout",
     "output_type": "stream",
     "text": [
      "True Label: 0, Predicted Label: 1\n",
      "Processing image from URL: https://brandperception.s3.amazonaws.com/imagenet_eval_top50_middle50_bottom50/rugged/top50/11117087_1584544185127330_920138834_n.jpg\n"
     ]
    },
    {
     "name": "stderr",
     "output_type": "stream",
     "text": [
      "Processing images:   9%|██▏                    | 14/150 [01:03<10:08,  4.47s/it]"
     ]
    },
    {
     "name": "stdout",
     "output_type": "stream",
     "text": [
      "True Label: 1, Predicted Label: 1\n",
      "Processing image from URL: https://brandperception.s3.amazonaws.com/imagenet_eval_top50_middle50_bottom50/rugged/middle50/1242010792818226359_295832156.jpg\n"
     ]
    },
    {
     "name": "stderr",
     "output_type": "stream",
     "text": [
      "Processing images:  10%|██▎                    | 15/150 [01:08<10:09,  4.51s/it]"
     ]
    },
    {
     "name": "stdout",
     "output_type": "stream",
     "text": [
      "True Label: 1, Predicted Label: 1\n",
      "Processing image from URL: https://brandperception.s3.amazonaws.com/imagenet_eval_top50_middle50_bottom50/rugged/top50/1596767_724733030885031_1581306693_n.jpg\n"
     ]
    },
    {
     "name": "stderr",
     "output_type": "stream",
     "text": [
      "Processing images:  11%|██▍                    | 16/150 [01:14<10:55,  4.89s/it]"
     ]
    },
    {
     "name": "stdout",
     "output_type": "stream",
     "text": [
      "True Label: 1, Predicted Label: 1\n",
      "Processing image from URL: https://brandperception.s3.amazonaws.com/imagenet_eval_top50_middle50_bottom50/rugged/top50/10449026_1465974757043259_614559743_n.jpg\n"
     ]
    },
    {
     "name": "stderr",
     "output_type": "stream",
     "text": [
      "Processing images:  11%|██▌                    | 17/150 [01:19<11:09,  5.04s/it]"
     ]
    },
    {
     "name": "stdout",
     "output_type": "stream",
     "text": [
      "True Label: 1, Predicted Label: 1\n",
      "Processing image from URL: https://brandperception.s3.amazonaws.com/imagenet_eval_top50_middle50_bottom50/rugged/middle50/11378013_382945581895097_200978964_n.jpg\n"
     ]
    },
    {
     "name": "stderr",
     "output_type": "stream",
     "text": [
      "Processing images:  12%|██▊                    | 18/150 [01:24<10:44,  4.88s/it]"
     ]
    },
    {
     "name": "stdout",
     "output_type": "stream",
     "text": [
      "True Label: 0, Predicted Label: 0\n",
      "Processing image from URL: https://brandperception.s3.amazonaws.com/imagenet_eval_top50_middle50_bottom50/rugged/middle50/1238010449836200294_35788411.jpg\n"
     ]
    },
    {
     "name": "stderr",
     "output_type": "stream",
     "text": [
      "Processing images:  13%|██▉                    | 19/150 [01:28<10:20,  4.74s/it]"
     ]
    },
    {
     "name": "stdout",
     "output_type": "stream",
     "text": [
      "True Label: 0, Predicted Label: 0\n",
      "Processing image from URL: https://brandperception.s3.amazonaws.com/imagenet_eval_top50_middle50_bottom50/rugged/bottom50/1242923269510618114_44149054.jpg\n"
     ]
    },
    {
     "name": "stderr",
     "output_type": "stream",
     "text": [
      "Processing images:  13%|███                    | 20/150 [01:32<09:23,  4.33s/it]"
     ]
    },
    {
     "name": "stdout",
     "output_type": "stream",
     "text": [
      "True Label: 0, Predicted Label: 0\n",
      "Processing image from URL: https://brandperception.s3.amazonaws.com/imagenet_eval_top50_middle50_bottom50/rugged/top50/1169031_654394891372329_1227979273_n.jpg\n"
     ]
    },
    {
     "name": "stderr",
     "output_type": "stream",
     "text": [
      "Processing images:  14%|███▏                   | 21/150 [01:37<09:49,  4.57s/it]"
     ]
    },
    {
     "name": "stdout",
     "output_type": "stream",
     "text": [
      "True Label: 1, Predicted Label: 1\n",
      "Processing image from URL: https://brandperception.s3.amazonaws.com/imagenet_eval_top50_middle50_bottom50/rugged/middle50/12728423_1748867942013359_1559832116_n.jpg\n"
     ]
    },
    {
     "name": "stderr",
     "output_type": "stream",
     "text": [
      "Processing images:  15%|███▎                   | 22/150 [01:42<10:13,  4.79s/it]"
     ]
    },
    {
     "name": "stdout",
     "output_type": "stream",
     "text": [
      "True Label: 0, Predicted Label: 0\n",
      "Processing image from URL: https://brandperception.s3.amazonaws.com/imagenet_eval_top50_middle50_bottom50/rugged/top50/11246500_1643942369181454_1538337032_n.jpg\n"
     ]
    },
    {
     "name": "stderr",
     "output_type": "stream",
     "text": [
      "Processing images:  15%|███▌                   | 23/150 [01:47<10:13,  4.83s/it]"
     ]
    },
    {
     "name": "stdout",
     "output_type": "stream",
     "text": [
      "True Label: 1, Predicted Label: 1\n",
      "Processing image from URL: https://brandperception.s3.amazonaws.com/imagenet_eval_top50_middle50_bottom50/rugged/middle50/1077751748840790454_27433461.jpg\n"
     ]
    },
    {
     "name": "stderr",
     "output_type": "stream",
     "text": [
      "Processing images:  16%|███▋                   | 24/150 [01:51<09:33,  4.55s/it]"
     ]
    },
    {
     "name": "stdout",
     "output_type": "stream",
     "text": [
      "True Label: 1, Predicted Label: 1\n",
      "Processing image from URL: https://brandperception.s3.amazonaws.com/imagenet_eval_top50_middle50_bottom50/rugged/top50/11191116_1616075401972030_2044402853_n.jpg\n"
     ]
    },
    {
     "name": "stderr",
     "output_type": "stream",
     "text": [
      "Processing images:  17%|███▊                   | 25/150 [01:57<10:24,  5.00s/it]"
     ]
    },
    {
     "name": "stdout",
     "output_type": "stream",
     "text": [
      "True Label: 1, Predicted Label: 1\n",
      "Processing image from URL: https://brandperception.s3.amazonaws.com/imagenet_eval_top50_middle50_bottom50/rugged/bottom50/13129730_1862062994021036_265142267_n.jpg\n"
     ]
    },
    {
     "name": "stderr",
     "output_type": "stream",
     "text": [
      "Processing images:  17%|███▉                   | 26/150 [02:00<09:19,  4.51s/it]"
     ]
    },
    {
     "name": "stdout",
     "output_type": "stream",
     "text": [
      "True Label: 0, Predicted Label: 0\n",
      "Processing image from URL: https://brandperception.s3.amazonaws.com/imagenet_eval_top50_middle50_bottom50/rugged/bottom50/1244923971213165479_31355479.jpg\n"
     ]
    },
    {
     "name": "stderr",
     "output_type": "stream",
     "text": [
      "Processing images:  18%|████▏                  | 27/150 [02:05<09:08,  4.46s/it]"
     ]
    },
    {
     "name": "stdout",
     "output_type": "stream",
     "text": [
      "True Label: 0, Predicted Label: 0\n",
      "Processing image from URL: https://brandperception.s3.amazonaws.com/imagenet_eval_top50_middle50_bottom50/rugged/bottom50/1238447150701157485_328622246.jpg\n"
     ]
    },
    {
     "name": "stderr",
     "output_type": "stream",
     "text": [
      "Processing images:  19%|████▎                  | 28/150 [02:08<08:31,  4.19s/it]"
     ]
    },
    {
     "name": "stdout",
     "output_type": "stream",
     "text": [
      "True Label: 0, Predicted Label: 0\n",
      "Processing image from URL: https://brandperception.s3.amazonaws.com/imagenet_eval_top50_middle50_bottom50/rugged/bottom50/1206573109454674227_41431381.jpg\n"
     ]
    },
    {
     "name": "stderr",
     "output_type": "stream",
     "text": [
      "Processing images:  19%|████▍                  | 29/150 [02:12<08:26,  4.19s/it]"
     ]
    },
    {
     "name": "stdout",
     "output_type": "stream",
     "text": [
      "True Label: 0, Predicted Label: 0\n",
      "Processing image from URL: https://brandperception.s3.amazonaws.com/imagenet_eval_top50_middle50_bottom50/rugged/middle50/1230647042769325248_2440027466.jpg\n"
     ]
    },
    {
     "name": "stderr",
     "output_type": "stream",
     "text": [
      "Processing images:  20%|████▌                  | 30/150 [02:17<08:37,  4.31s/it]"
     ]
    },
    {
     "name": "stdout",
     "output_type": "stream",
     "text": [
      "True Label: 0, Predicted Label: 1\n",
      "Processing image from URL: https://brandperception.s3.amazonaws.com/imagenet_eval_top50_middle50_bottom50/rugged/top50/12107679_1681851568768065_2036554042_n.jpg\n"
     ]
    },
    {
     "name": "stderr",
     "output_type": "stream",
     "text": [
      "Processing images:  21%|████▊                  | 31/150 [02:22<08:44,  4.41s/it]"
     ]
    },
    {
     "name": "stdout",
     "output_type": "stream",
     "text": [
      "True Label: 1, Predicted Label: 1\n",
      "Processing image from URL: https://brandperception.s3.amazonaws.com/imagenet_eval_top50_middle50_bottom50/rugged/middle50/924416_291941554322168_1014557356_n.jpg\n"
     ]
    },
    {
     "name": "stderr",
     "output_type": "stream",
     "text": [
      "Processing images:  21%|████▉                  | 32/150 [02:26<08:35,  4.37s/it]"
     ]
    },
    {
     "name": "stdout",
     "output_type": "stream",
     "text": [
      "True Label: 1, Predicted Label: 1\n",
      "Processing image from URL: https://brandperception.s3.amazonaws.com/imagenet_eval_top50_middle50_bottom50/rugged/middle50/10957301_1536850809928084_1178826880_n.jpg\n"
     ]
    },
    {
     "name": "stderr",
     "output_type": "stream",
     "text": [
      "Processing images:  22%|█████                  | 33/150 [02:30<08:28,  4.35s/it]"
     ]
    },
    {
     "name": "stdout",
     "output_type": "stream",
     "text": [
      "True Label: 0, Predicted Label: 0\n",
      "Processing image from URL: https://brandperception.s3.amazonaws.com/imagenet_eval_top50_middle50_bottom50/rugged/middle50/12558896_926872690700134_1925788667_n.jpg\n"
     ]
    },
    {
     "name": "stderr",
     "output_type": "stream",
     "text": [
      "Processing images:  23%|█████▏                 | 34/150 [02:34<08:19,  4.30s/it]"
     ]
    },
    {
     "name": "stdout",
     "output_type": "stream",
     "text": [
      "True Label: 0, Predicted Label: 0\n",
      "Processing image from URL: https://brandperception.s3.amazonaws.com/imagenet_eval_top50_middle50_bottom50/rugged/top50/1232207185006686490_365950123.jpg\n"
     ]
    },
    {
     "name": "stderr",
     "output_type": "stream",
     "text": [
      "Processing images:  23%|█████▎                 | 35/150 [02:39<08:28,  4.42s/it]"
     ]
    },
    {
     "name": "stdout",
     "output_type": "stream",
     "text": [
      "True Label: 1, Predicted Label: 1\n",
      "Processing image from URL: https://brandperception.s3.amazonaws.com/imagenet_eval_top50_middle50_bottom50/rugged/middle50/1219364570012107005_3093559399.jpg\n"
     ]
    },
    {
     "name": "stderr",
     "output_type": "stream",
     "text": [
      "Processing images:  24%|█████▌                 | 36/150 [02:43<08:20,  4.39s/it]"
     ]
    },
    {
     "name": "stdout",
     "output_type": "stream",
     "text": [
      "True Label: 1, Predicted Label: 1\n",
      "Processing image from URL: https://brandperception.s3.amazonaws.com/imagenet_eval_top50_middle50_bottom50/rugged/middle50/13402539_249964948714859_620830867_n.jpg\n"
     ]
    },
    {
     "name": "stderr",
     "output_type": "stream",
     "text": [
      "Processing images:  25%|█████▋                 | 37/150 [02:48<08:24,  4.47s/it]"
     ]
    },
    {
     "name": "stdout",
     "output_type": "stream",
     "text": [
      "True Label: 0, Predicted Label: 1\n",
      "Processing image from URL: https://brandperception.s3.amazonaws.com/imagenet_eval_top50_middle50_bottom50/rugged/bottom50/1240263646987290414_676200128.jpg\n"
     ]
    },
    {
     "name": "stderr",
     "output_type": "stream",
     "text": [
      "Processing images:  25%|█████▊                 | 38/150 [02:52<08:20,  4.47s/it]"
     ]
    },
    {
     "name": "stdout",
     "output_type": "stream",
     "text": [
      "True Label: 0, Predicted Label: 0\n",
      "Processing image from URL: https://brandperception.s3.amazonaws.com/imagenet_eval_top50_middle50_bottom50/rugged/bottom50/11258658_1525963950957570_1207907002_n.jpg\n"
     ]
    },
    {
     "name": "stderr",
     "output_type": "stream",
     "text": [
      "Processing images:  26%|█████▉                 | 39/150 [02:57<08:03,  4.36s/it]"
     ]
    },
    {
     "name": "stdout",
     "output_type": "stream",
     "text": [
      "True Label: 0, Predicted Label: 0\n",
      "Processing image from URL: https://brandperception.s3.amazonaws.com/imagenet_eval_top50_middle50_bottom50/rugged/top50/1228304887122221915_184579853.jpg\n"
     ]
    },
    {
     "name": "stderr",
     "output_type": "stream",
     "text": [
      "Processing images:  27%|██████▏                | 40/150 [03:01<08:00,  4.37s/it]"
     ]
    },
    {
     "name": "stdout",
     "output_type": "stream",
     "text": [
      "True Label: 1, Predicted Label: 1\n",
      "Processing image from URL: https://brandperception.s3.amazonaws.com/imagenet_eval_top50_middle50_bottom50/rugged/middle50/11253967_907979835924246_831243222_n.jpg\n"
     ]
    },
    {
     "name": "stderr",
     "output_type": "stream",
     "text": [
      "Processing images:  27%|██████▎                | 41/150 [03:05<07:53,  4.35s/it]"
     ]
    },
    {
     "name": "stdout",
     "output_type": "stream",
     "text": [
      "True Label: 0, Predicted Label: 0\n",
      "Processing image from URL: https://brandperception.s3.amazonaws.com/imagenet_eval_top50_middle50_bottom50/rugged/middle50/13651971_1791495481085164_1345207829_n.jpg\n"
     ]
    },
    {
     "name": "stderr",
     "output_type": "stream",
     "text": [
      "Processing images:  28%|██████▍                | 42/150 [03:11<08:28,  4.71s/it]"
     ]
    },
    {
     "name": "stdout",
     "output_type": "stream",
     "text": [
      "True Label: 1, Predicted Label: 1\n",
      "Processing image from URL: https://brandperception.s3.amazonaws.com/imagenet_eval_top50_middle50_bottom50/rugged/bottom50/1103193305192923672_1365671855.jpg\n"
     ]
    },
    {
     "name": "stderr",
     "output_type": "stream",
     "text": [
      "Processing images:  29%|██████▌                | 43/150 [03:15<08:19,  4.67s/it]"
     ]
    },
    {
     "name": "stdout",
     "output_type": "stream",
     "text": [
      "True Label: 0, Predicted Label: 0\n",
      "Processing image from URL: https://brandperception.s3.amazonaws.com/imagenet_eval_top50_middle50_bottom50/rugged/bottom50/10948831_1537717843171121_743571477_n.jpg\n"
     ]
    },
    {
     "name": "stderr",
     "output_type": "stream",
     "text": [
      "Processing images:  29%|██████▋                | 44/150 [03:20<08:29,  4.81s/it]"
     ]
    },
    {
     "name": "stdout",
     "output_type": "stream",
     "text": [
      "True Label: 0, Predicted Label: 0\n",
      "Processing image from URL: https://brandperception.s3.amazonaws.com/imagenet_eval_top50_middle50_bottom50/rugged/top50/11232586_482616125227384_241619550_n.jpg\n"
     ]
    },
    {
     "name": "stderr",
     "output_type": "stream",
     "text": [
      "Processing images:  30%|██████▉                | 45/150 [03:25<08:05,  4.62s/it]"
     ]
    },
    {
     "name": "stdout",
     "output_type": "stream",
     "text": [
      "True Label: 1, Predicted Label: 1\n",
      "Processing image from URL: https://brandperception.s3.amazonaws.com/imagenet_eval_top50_middle50_bottom50/rugged/middle50/10245983_509960212441760_586902216_n.jpg\n"
     ]
    },
    {
     "name": "stderr",
     "output_type": "stream",
     "text": [
      "Processing images:  31%|███████                | 46/150 [03:29<07:53,  4.56s/it]"
     ]
    },
    {
     "name": "stdout",
     "output_type": "stream",
     "text": [
      "True Label: 0, Predicted Label: 1\n",
      "Processing image from URL: https://brandperception.s3.amazonaws.com/imagenet_eval_top50_middle50_bottom50/rugged/top50/11324986_1585999641653975_13253394_n.jpg\n"
     ]
    },
    {
     "name": "stderr",
     "output_type": "stream",
     "text": [
      "Processing images:  31%|███████▏               | 47/150 [03:34<08:00,  4.66s/it]"
     ]
    },
    {
     "name": "stdout",
     "output_type": "stream",
     "text": [
      "True Label: 1, Predicted Label: 1\n",
      "Processing image from URL: https://brandperception.s3.amazonaws.com/imagenet_eval_top50_middle50_bottom50/rugged/bottom50/10919715_1536840316585913_380288402_n.jpg\n"
     ]
    },
    {
     "name": "stderr",
     "output_type": "stream",
     "text": [
      "Processing images:  32%|███████▎               | 48/150 [03:38<07:43,  4.55s/it]"
     ]
    },
    {
     "name": "stdout",
     "output_type": "stream",
     "text": [
      "True Label: 0, Predicted Label: 0\n",
      "Processing image from URL: https://brandperception.s3.amazonaws.com/imagenet_eval_top50_middle50_bottom50/rugged/bottom50/1238043431267997072_12393844.jpg\n"
     ]
    },
    {
     "name": "stderr",
     "output_type": "stream",
     "text": [
      "Processing images:  33%|███████▌               | 49/150 [03:43<07:32,  4.48s/it]"
     ]
    },
    {
     "name": "stdout",
     "output_type": "stream",
     "text": [
      "True Label: 0, Predicted Label: 0\n",
      "Processing image from URL: https://brandperception.s3.amazonaws.com/imagenet_eval_top50_middle50_bottom50/rugged/middle50/11191476_831139406963820_468490922_n.jpg\n"
     ]
    },
    {
     "name": "stderr",
     "output_type": "stream",
     "text": [
      "Processing images:  33%|███████▋               | 50/150 [03:47<07:32,  4.52s/it]"
     ]
    },
    {
     "name": "stdout",
     "output_type": "stream",
     "text": [
      "True Label: 0, Predicted Label: 0\n",
      "Processing image from URL: https://brandperception.s3.amazonaws.com/imagenet_eval_top50_middle50_bottom50/rugged/top50/12317489_1540646509559507_1185002419_n.jpg\n"
     ]
    },
    {
     "name": "stderr",
     "output_type": "stream",
     "text": [
      "Processing images:  34%|███████▊               | 51/150 [03:52<07:36,  4.61s/it]"
     ]
    },
    {
     "name": "stdout",
     "output_type": "stream",
     "text": [
      "True Label: 1, Predicted Label: 1\n",
      "Processing image from URL: https://brandperception.s3.amazonaws.com/imagenet_eval_top50_middle50_bottom50/rugged/bottom50/1214769433793356994_1217329184.jpg\n"
     ]
    },
    {
     "name": "stderr",
     "output_type": "stream",
     "text": [
      "Processing images:  35%|███████▉               | 52/150 [03:56<07:19,  4.48s/it]"
     ]
    },
    {
     "name": "stdout",
     "output_type": "stream",
     "text": [
      "True Label: 0, Predicted Label: 0\n",
      "Processing image from URL: https://brandperception.s3.amazonaws.com/imagenet_eval_top50_middle50_bottom50/rugged/top50/11324493_1477392342575006_72050084_n.jpg\n"
     ]
    },
    {
     "name": "stderr",
     "output_type": "stream",
     "text": [
      "Processing images:  35%|████████▏              | 53/150 [04:01<07:18,  4.52s/it]"
     ]
    },
    {
     "name": "stdout",
     "output_type": "stream",
     "text": [
      "True Label: 1, Predicted Label: 1\n",
      "Processing image from URL: https://brandperception.s3.amazonaws.com/imagenet_eval_top50_middle50_bottom50/rugged/bottom50/1236839593892576262_2277486726.jpg\n"
     ]
    },
    {
     "name": "stderr",
     "output_type": "stream",
     "text": [
      "Processing images:  36%|████████▎              | 54/150 [04:05<06:57,  4.35s/it]"
     ]
    },
    {
     "name": "stdout",
     "output_type": "stream",
     "text": [
      "True Label: 0, Predicted Label: 0\n",
      "Processing image from URL: https://brandperception.s3.amazonaws.com/imagenet_eval_top50_middle50_bottom50/rugged/bottom50/11199458_107505079580464_2110791028_n.jpg\n"
     ]
    },
    {
     "name": "stderr",
     "output_type": "stream",
     "text": [
      "Processing images:  37%|████████▍              | 55/150 [04:10<07:09,  4.52s/it]"
     ]
    },
    {
     "name": "stdout",
     "output_type": "stream",
     "text": [
      "True Label: 0, Predicted Label: 0\n",
      "Processing image from URL: https://brandperception.s3.amazonaws.com/imagenet_eval_top50_middle50_bottom50/rugged/top50/13562017_517950075077943_2075489894_n.jpg\n"
     ]
    },
    {
     "name": "stderr",
     "output_type": "stream",
     "text": [
      "Processing images:  37%|████████▌              | 56/150 [04:15<07:17,  4.66s/it]"
     ]
    },
    {
     "name": "stdout",
     "output_type": "stream",
     "text": [
      "True Label: 1, Predicted Label: 1\n",
      "Processing image from URL: https://brandperception.s3.amazonaws.com/imagenet_eval_top50_middle50_bottom50/rugged/top50/10362241_299134260268360_2069987458_n.jpg\n"
     ]
    },
    {
     "name": "stderr",
     "output_type": "stream",
     "text": [
      "Processing images:  38%|████████▋              | 57/150 [04:19<07:02,  4.54s/it]"
     ]
    },
    {
     "name": "stdout",
     "output_type": "stream",
     "text": [
      "True Label: 1, Predicted Label: 1\n",
      "Processing image from URL: https://brandperception.s3.amazonaws.com/imagenet_eval_top50_middle50_bottom50/rugged/top50/10246172_1438604189715868_1719110727_n.jpg\n"
     ]
    },
    {
     "name": "stderr",
     "output_type": "stream",
     "text": [
      "Processing images:  39%|████████▉              | 58/150 [04:24<07:16,  4.75s/it]"
     ]
    },
    {
     "name": "stdout",
     "output_type": "stream",
     "text": [
      "True Label: 1, Predicted Label: 1\n",
      "Processing image from URL: https://brandperception.s3.amazonaws.com/imagenet_eval_top50_middle50_bottom50/rugged/top50/11820710_182196525454321_549201241_n.jpg\n"
     ]
    },
    {
     "name": "stderr",
     "output_type": "stream",
     "text": [
      "Processing images:  39%|█████████              | 59/150 [04:29<07:02,  4.64s/it]"
     ]
    },
    {
     "name": "stdout",
     "output_type": "stream",
     "text": [
      "True Label: 1, Predicted Label: 1\n",
      "Processing image from URL: https://brandperception.s3.amazonaws.com/imagenet_eval_top50_middle50_bottom50/rugged/middle50/1247087854238964883_1832191926.jpg\n"
     ]
    },
    {
     "name": "stderr",
     "output_type": "stream",
     "text": [
      "Processing images:  40%|█████████▏             | 60/150 [04:33<06:40,  4.45s/it]"
     ]
    },
    {
     "name": "stdout",
     "output_type": "stream",
     "text": [
      "True Label: 1, Predicted Label: 1\n",
      "Processing image from URL: https://brandperception.s3.amazonaws.com/imagenet_eval_top50_middle50_bottom50/rugged/middle50/10520345_498993180245014_1528027492_n.jpg\n"
     ]
    },
    {
     "name": "stderr",
     "output_type": "stream",
     "text": [
      "Processing images:  41%|█████████▎             | 61/150 [04:37<06:48,  4.59s/it]"
     ]
    },
    {
     "name": "stdout",
     "output_type": "stream",
     "text": [
      "True Label: 0, Predicted Label: 1\n",
      "Processing image from URL: https://brandperception.s3.amazonaws.com/imagenet_eval_top50_middle50_bottom50/rugged/bottom50/10724747_1492933770966246_530289731_n.jpg\n"
     ]
    },
    {
     "name": "stderr",
     "output_type": "stream",
     "text": [
      "Processing images:  41%|█████████▌             | 62/150 [04:42<06:30,  4.44s/it]"
     ]
    },
    {
     "name": "stdout",
     "output_type": "stream",
     "text": [
      "True Label: 0, Predicted Label: 0\n",
      "Processing image from URL: https://brandperception.s3.amazonaws.com/imagenet_eval_top50_middle50_bottom50/rugged/top50/1242815583463959176_941963097.jpg\n"
     ]
    },
    {
     "name": "stderr",
     "output_type": "stream",
     "text": [
      "Processing images:  42%|█████████▋             | 63/150 [04:47<06:52,  4.74s/it]"
     ]
    },
    {
     "name": "stdout",
     "output_type": "stream",
     "text": [
      "True Label: 1, Predicted Label: 1\n",
      "Processing image from URL: https://brandperception.s3.amazonaws.com/imagenet_eval_top50_middle50_bottom50/rugged/middle50/928525_1416157388660601_1941279321_n.jpg\n"
     ]
    },
    {
     "name": "stderr",
     "output_type": "stream",
     "text": [
      "Processing images:  43%|█████████▊             | 64/150 [04:52<06:41,  4.67s/it]"
     ]
    },
    {
     "name": "stdout",
     "output_type": "stream",
     "text": [
      "True Label: 1, Predicted Label: 1\n",
      "Processing image from URL: https://brandperception.s3.amazonaws.com/imagenet_eval_top50_middle50_bottom50/rugged/middle50/1240557513618443999_4492770.jpg\n"
     ]
    },
    {
     "name": "stderr",
     "output_type": "stream",
     "text": [
      "Processing images:  43%|█████████▉             | 65/150 [04:56<06:32,  4.62s/it]"
     ]
    },
    {
     "name": "stdout",
     "output_type": "stream",
     "text": [
      "True Label: 0, Predicted Label: 0\n",
      "Processing image from URL: https://brandperception.s3.amazonaws.com/imagenet_eval_top50_middle50_bottom50/rugged/bottom50/1225683146320517875_1405746925.jpg\n"
     ]
    },
    {
     "name": "stderr",
     "output_type": "stream",
     "text": [
      "Processing images:  44%|██████████             | 66/150 [05:00<06:19,  4.52s/it]"
     ]
    },
    {
     "name": "stdout",
     "output_type": "stream",
     "text": [
      "True Label: 0, Predicted Label: 0\n",
      "Processing image from URL: https://brandperception.s3.amazonaws.com/imagenet_eval_top50_middle50_bottom50/rugged/bottom50/1237804483462059178_2976712324.jpg\n"
     ]
    },
    {
     "name": "stderr",
     "output_type": "stream",
     "text": [
      "Processing images:  45%|██████████▎            | 67/150 [05:05<06:09,  4.46s/it]"
     ]
    },
    {
     "name": "stdout",
     "output_type": "stream",
     "text": [
      "True Label: 0, Predicted Label: 0\n",
      "Processing image from URL: https://brandperception.s3.amazonaws.com/imagenet_eval_top50_middle50_bottom50/rugged/bottom50/1243350194167909774_686844770.jpg\n"
     ]
    },
    {
     "name": "stderr",
     "output_type": "stream",
     "text": [
      "Processing images:  45%|██████████▍            | 68/150 [05:09<05:54,  4.32s/it]"
     ]
    },
    {
     "name": "stdout",
     "output_type": "stream",
     "text": [
      "True Label: 0, Predicted Label: 0\n",
      "Processing image from URL: https://brandperception.s3.amazonaws.com/imagenet_eval_top50_middle50_bottom50/rugged/top50/1238153081136159004_3097427885.jpg\n"
     ]
    },
    {
     "name": "stderr",
     "output_type": "stream",
     "text": [
      "Processing images:  46%|██████████▌            | 69/150 [05:13<05:46,  4.28s/it]"
     ]
    },
    {
     "name": "stdout",
     "output_type": "stream",
     "text": [
      "True Label: 1, Predicted Label: 0\n",
      "Processing image from URL: https://brandperception.s3.amazonaws.com/imagenet_eval_top50_middle50_bottom50/rugged/top50/11330756_1608508136056298_1935208334_n.jpg\n"
     ]
    },
    {
     "name": "stderr",
     "output_type": "stream",
     "text": [
      "Processing images:  47%|██████████▋            | 70/150 [05:17<05:45,  4.32s/it]"
     ]
    },
    {
     "name": "stdout",
     "output_type": "stream",
     "text": [
      "True Label: 1, Predicted Label: 1\n",
      "Processing image from URL: https://brandperception.s3.amazonaws.com/imagenet_eval_top50_middle50_bottom50/rugged/bottom50/1237340675647218585_2136036543.jpg\n"
     ]
    },
    {
     "name": "stderr",
     "output_type": "stream",
     "text": [
      "Processing images:  47%|██████████▉            | 71/150 [05:24<06:32,  4.96s/it]"
     ]
    },
    {
     "name": "stdout",
     "output_type": "stream",
     "text": [
      "True Label: 0, Predicted Label: 0\n",
      "Processing image from URL: https://brandperception.s3.amazonaws.com/imagenet_eval_top50_middle50_bottom50/rugged/bottom50/11325026_793965377385932_2099222970_n.jpg\n"
     ]
    },
    {
     "name": "stderr",
     "output_type": "stream",
     "text": [
      "Processing images:  48%|███████████            | 72/150 [05:29<06:25,  4.94s/it]"
     ]
    },
    {
     "name": "stdout",
     "output_type": "stream",
     "text": [
      "True Label: 0, Predicted Label: 0\n",
      "Processing image from URL: https://brandperception.s3.amazonaws.com/imagenet_eval_top50_middle50_bottom50/rugged/bottom50/1171619727638148716_1557648468.jpg\n"
     ]
    },
    {
     "name": "stderr",
     "output_type": "stream",
     "text": [
      "Processing images:  49%|███████████▏           | 73/150 [05:33<06:03,  4.72s/it]"
     ]
    },
    {
     "name": "stdout",
     "output_type": "stream",
     "text": [
      "True Label: 0, Predicted Label: 0\n",
      "Processing image from URL: https://brandperception.s3.amazonaws.com/imagenet_eval_top50_middle50_bottom50/rugged/bottom50/1211313590851430246_31224952.jpg\n"
     ]
    },
    {
     "name": "stderr",
     "output_type": "stream",
     "text": [
      "Processing images:  49%|███████████▎           | 74/150 [05:37<05:44,  4.53s/it]"
     ]
    },
    {
     "name": "stdout",
     "output_type": "stream",
     "text": [
      "True Label: 0, Predicted Label: 0\n",
      "Processing image from URL: https://brandperception.s3.amazonaws.com/imagenet_eval_top50_middle50_bottom50/rugged/bottom50/10895380_774848452590428_617672922_n.jpg\n"
     ]
    },
    {
     "name": "stderr",
     "output_type": "stream",
     "text": [
      "Processing images:  50%|███████████▌           | 75/150 [05:41<05:30,  4.40s/it]"
     ]
    },
    {
     "name": "stdout",
     "output_type": "stream",
     "text": [
      "True Label: 0, Predicted Label: 0\n",
      "Processing image from URL: https://brandperception.s3.amazonaws.com/imagenet_eval_top50_middle50_bottom50/rugged/top50/10547305_468597296644525_314987875_n.jpg\n"
     ]
    },
    {
     "name": "stderr",
     "output_type": "stream",
     "text": [
      "Processing images:  51%|███████████▋           | 76/150 [05:46<05:45,  4.67s/it]"
     ]
    },
    {
     "name": "stdout",
     "output_type": "stream",
     "text": [
      "True Label: 1, Predicted Label: 1\n",
      "Processing image from URL: https://brandperception.s3.amazonaws.com/imagenet_eval_top50_middle50_bottom50/rugged/bottom50/1238886750265423766_494015140.jpg\n"
     ]
    },
    {
     "name": "stderr",
     "output_type": "stream",
     "text": [
      "Processing images:  51%|███████████▊           | 77/150 [05:51<05:49,  4.78s/it]"
     ]
    },
    {
     "name": "stdout",
     "output_type": "stream",
     "text": [
      "True Label: 0, Predicted Label: 0\n",
      "Processing image from URL: https://brandperception.s3.amazonaws.com/imagenet_eval_top50_middle50_bottom50/rugged/bottom50/1241939216091931510_2307229695.jpg\n"
     ]
    },
    {
     "name": "stderr",
     "output_type": "stream",
     "text": [
      "Processing images:  52%|███████████▉           | 78/150 [05:56<05:49,  4.85s/it]"
     ]
    },
    {
     "name": "stdout",
     "output_type": "stream",
     "text": [
      "True Label: 0, Predicted Label: 0\n",
      "Processing image from URL: https://brandperception.s3.amazonaws.com/imagenet_eval_top50_middle50_bottom50/rugged/bottom50/1231912723815161934_3044104695.jpg\n"
     ]
    },
    {
     "name": "stderr",
     "output_type": "stream",
     "text": [
      "Processing images:  53%|████████████           | 79/150 [06:02<05:54,  4.99s/it]"
     ]
    },
    {
     "name": "stdout",
     "output_type": "stream",
     "text": [
      "True Label: 0, Predicted Label: 0\n",
      "Processing image from URL: https://brandperception.s3.amazonaws.com/imagenet_eval_top50_middle50_bottom50/rugged/bottom50/1236304805199647439_2037530547.jpg\n"
     ]
    },
    {
     "name": "stderr",
     "output_type": "stream",
     "text": [
      "Processing images:  53%|████████████▎          | 80/150 [06:06<05:32,  4.76s/it]"
     ]
    },
    {
     "name": "stdout",
     "output_type": "stream",
     "text": [
      "True Label: 0, Predicted Label: 0\n",
      "Processing image from URL: https://brandperception.s3.amazonaws.com/imagenet_eval_top50_middle50_bottom50/rugged/middle50/1243144831746042146_16046401.jpg\n"
     ]
    },
    {
     "name": "stderr",
     "output_type": "stream",
     "text": [
      "Processing images:  54%|████████████▍          | 81/150 [06:10<05:18,  4.62s/it]"
     ]
    },
    {
     "name": "stdout",
     "output_type": "stream",
     "text": [
      "True Label: 0, Predicted Label: 0\n",
      "Processing image from URL: https://brandperception.s3.amazonaws.com/imagenet_eval_top50_middle50_bottom50/rugged/bottom50/1200536726251756986_2996295758.jpg\n"
     ]
    },
    {
     "name": "stderr",
     "output_type": "stream",
     "text": [
      "Processing images:  55%|████████████▌          | 82/150 [06:15<05:20,  4.71s/it]"
     ]
    },
    {
     "name": "stdout",
     "output_type": "stream",
     "text": [
      "True Label: 0, Predicted Label: 0\n",
      "Processing image from URL: https://brandperception.s3.amazonaws.com/imagenet_eval_top50_middle50_bottom50/rugged/middle50/1235585701293255264_185297233.jpg\n"
     ]
    },
    {
     "name": "stderr",
     "output_type": "stream",
     "text": [
      "Processing images:  55%|████████████▋          | 83/150 [06:19<05:07,  4.59s/it]"
     ]
    },
    {
     "name": "stdout",
     "output_type": "stream",
     "text": [
      "True Label: 0, Predicted Label: 1\n",
      "Processing image from URL: https://brandperception.s3.amazonaws.com/imagenet_eval_top50_middle50_bottom50/rugged/top50/12142415_894567317278902_763359727_n.jpg\n"
     ]
    },
    {
     "name": "stderr",
     "output_type": "stream",
     "text": [
      "Processing images:  56%|████████████▉          | 84/150 [06:24<05:03,  4.59s/it]"
     ]
    },
    {
     "name": "stdout",
     "output_type": "stream",
     "text": [
      "True Label: 1, Predicted Label: 1\n",
      "Processing image from URL: https://brandperception.s3.amazonaws.com/imagenet_eval_top50_middle50_bottom50/rugged/top50/1241363727925037138_531320433.jpg\n"
     ]
    },
    {
     "name": "stderr",
     "output_type": "stream",
     "text": [
      "Processing images:  57%|█████████████          | 85/150 [06:30<05:16,  4.87s/it]"
     ]
    },
    {
     "name": "stdout",
     "output_type": "stream",
     "text": [
      "True Label: 1, Predicted Label: 1\n",
      "Processing image from URL: https://brandperception.s3.amazonaws.com/imagenet_eval_top50_middle50_bottom50/rugged/middle50/12940133_1019802724753792_611084995_n.jpg\n"
     ]
    },
    {
     "name": "stderr",
     "output_type": "stream",
     "text": [
      "Processing images:  57%|█████████████▏         | 86/150 [06:35<05:17,  4.96s/it]"
     ]
    },
    {
     "name": "stdout",
     "output_type": "stream",
     "text": [
      "True Label: 1, Predicted Label: 1\n",
      "Processing image from URL: https://brandperception.s3.amazonaws.com/imagenet_eval_top50_middle50_bottom50/rugged/middle50/1251784403668949188_3237266013.jpg\n"
     ]
    },
    {
     "name": "stderr",
     "output_type": "stream",
     "text": [
      "Processing images:  58%|█████████████▎         | 87/150 [06:39<05:03,  4.81s/it]"
     ]
    },
    {
     "name": "stdout",
     "output_type": "stream",
     "text": [
      "True Label: 0, Predicted Label: 0\n",
      "Processing image from URL: https://brandperception.s3.amazonaws.com/imagenet_eval_top50_middle50_bottom50/rugged/middle50/12783418_203233026703542_1686394964_n.jpg\n"
     ]
    },
    {
     "name": "stderr",
     "output_type": "stream",
     "text": [
      "Processing images:  59%|█████████████▍         | 88/150 [06:44<04:56,  4.78s/it]"
     ]
    },
    {
     "name": "stdout",
     "output_type": "stream",
     "text": [
      "True Label: 1, Predicted Label: 1\n",
      "Processing image from URL: https://brandperception.s3.amazonaws.com/imagenet_eval_top50_middle50_bottom50/rugged/bottom50/11376226_380392652156733_1667072503_n.jpg\n"
     ]
    },
    {
     "name": "stderr",
     "output_type": "stream",
     "text": [
      "Processing images:  59%|█████████████▋         | 89/150 [06:49<04:56,  4.86s/it]"
     ]
    },
    {
     "name": "stdout",
     "output_type": "stream",
     "text": [
      "True Label: 0, Predicted Label: 0\n",
      "Processing image from URL: https://brandperception.s3.amazonaws.com/imagenet_eval_top50_middle50_bottom50/rugged/top50/10809479_833600626756874_2044214657_n.jpg\n"
     ]
    },
    {
     "name": "stderr",
     "output_type": "stream",
     "text": [
      "Processing images:  60%|█████████████▊         | 90/150 [06:53<04:43,  4.73s/it]"
     ]
    },
    {
     "name": "stdout",
     "output_type": "stream",
     "text": [
      "True Label: 1, Predicted Label: 1\n",
      "Processing image from URL: https://brandperception.s3.amazonaws.com/imagenet_eval_top50_middle50_bottom50/rugged/top50/11909946_1623510704598023_692881117_n.jpg\n"
     ]
    },
    {
     "name": "stderr",
     "output_type": "stream",
     "text": [
      "Processing images:  61%|█████████████▉         | 91/150 [06:58<04:39,  4.74s/it]"
     ]
    },
    {
     "name": "stdout",
     "output_type": "stream",
     "text": [
      "True Label: 1, Predicted Label: 1\n",
      "Processing image from URL: https://brandperception.s3.amazonaws.com/imagenet_eval_top50_middle50_bottom50/rugged/bottom50/11358301_444057689106619_631190894_n.jpg\n"
     ]
    },
    {
     "name": "stderr",
     "output_type": "stream",
     "text": [
      "Processing images:  61%|██████████████         | 92/150 [07:02<04:18,  4.45s/it]"
     ]
    },
    {
     "name": "stdout",
     "output_type": "stream",
     "text": [
      "Failed to process image from URL: https://brandperception.s3.amazonaws.com/imagenet_eval_top50_middle50_bottom50/rugged/bottom50/11358301_444057689106619_631190894_n.jpg. Error: Error code: 400 - {'error': {'message': 'Error while downloading https://brandperception.s3.amazonaws.com/imagenet_eval_top50_middle50_bottom50/rugged/bottom50/11358301_444057689106619_631190894_n.jpg.', 'type': 'invalid_request_error', 'param': None, 'code': 'invalid_image_url'}}\n",
      "Processing image from URL: https://brandperception.s3.amazonaws.com/imagenet_eval_top50_middle50_bottom50/rugged/middle50/927231_437150946412897_690816166_n.jpg\n"
     ]
    },
    {
     "name": "stderr",
     "output_type": "stream",
     "text": [
      "Processing images:  62%|██████████████▎        | 93/150 [07:06<04:16,  4.50s/it]"
     ]
    },
    {
     "name": "stdout",
     "output_type": "stream",
     "text": [
      "True Label: 0, Predicted Label: 1\n",
      "Processing image from URL: https://brandperception.s3.amazonaws.com/imagenet_eval_top50_middle50_bottom50/rugged/middle50/12301236_1651811621773118_1777444777_n.jpg\n"
     ]
    },
    {
     "name": "stderr",
     "output_type": "stream",
     "text": [
      "Processing images:  63%|██████████████▍        | 94/150 [07:10<03:59,  4.27s/it]"
     ]
    },
    {
     "name": "stdout",
     "output_type": "stream",
     "text": [
      "True Label: 1, Predicted Label: 1\n",
      "Processing image from URL: https://brandperception.s3.amazonaws.com/imagenet_eval_top50_middle50_bottom50/rugged/middle50/928878_814719241956361_2027161363_n.jpg\n"
     ]
    },
    {
     "name": "stderr",
     "output_type": "stream",
     "text": [
      "Processing images:  63%|██████████████▌        | 95/150 [07:15<03:56,  4.30s/it]"
     ]
    },
    {
     "name": "stdout",
     "output_type": "stream",
     "text": [
      "True Label: 0, Predicted Label: 1\n",
      "Processing image from URL: https://brandperception.s3.amazonaws.com/imagenet_eval_top50_middle50_bottom50/rugged/top50/11007759_769968136406779_714532026_n.jpg\n"
     ]
    },
    {
     "name": "stderr",
     "output_type": "stream",
     "text": [
      "Processing images:  64%|██████████████▋        | 96/150 [07:19<03:58,  4.42s/it]"
     ]
    },
    {
     "name": "stdout",
     "output_type": "stream",
     "text": [
      "True Label: 1, Predicted Label: 1\n",
      "Processing image from URL: https://brandperception.s3.amazonaws.com/imagenet_eval_top50_middle50_bottom50/rugged/middle50/1240369052767418735_1801466469.jpg\n"
     ]
    },
    {
     "name": "stderr",
     "output_type": "stream",
     "text": [
      "Processing images:  65%|██████████████▊        | 97/150 [07:23<03:47,  4.29s/it]"
     ]
    },
    {
     "name": "stdout",
     "output_type": "stream",
     "text": [
      "True Label: 0, Predicted Label: 0\n",
      "Processing image from URL: https://brandperception.s3.amazonaws.com/imagenet_eval_top50_middle50_bottom50/rugged/middle50/11950701_1518609188458292_617172087_n.jpg\n"
     ]
    },
    {
     "name": "stderr",
     "output_type": "stream",
     "text": [
      "Processing images:  65%|███████████████        | 98/150 [07:31<04:31,  5.22s/it]"
     ]
    },
    {
     "name": "stdout",
     "output_type": "stream",
     "text": [
      "True Label: 1, Predicted Label: 1\n",
      "Processing image from URL: https://brandperception.s3.amazonaws.com/imagenet_eval_top50_middle50_bottom50/rugged/bottom50/1244949247241900604_1058708987.jpg\n"
     ]
    },
    {
     "name": "stderr",
     "output_type": "stream",
     "text": [
      "Processing images:  66%|███████████████▏       | 99/150 [07:35<04:08,  4.88s/it]"
     ]
    },
    {
     "name": "stdout",
     "output_type": "stream",
     "text": [
      "True Label: 0, Predicted Label: 0\n",
      "Processing image from URL: https://brandperception.s3.amazonaws.com/imagenet_eval_top50_middle50_bottom50/rugged/bottom50/11008213_387887778048031_2009236482_n.jpg\n"
     ]
    },
    {
     "name": "stderr",
     "output_type": "stream",
     "text": [
      "Processing images:  67%|██████████████▋       | 100/150 [07:39<03:53,  4.68s/it]"
     ]
    },
    {
     "name": "stdout",
     "output_type": "stream",
     "text": [
      "True Label: 0, Predicted Label: 0\n",
      "Processing image from URL: https://brandperception.s3.amazonaws.com/imagenet_eval_top50_middle50_bottom50/rugged/middle50/1240267681450503869_238999170.jpg\n"
     ]
    },
    {
     "name": "stderr",
     "output_type": "stream",
     "text": [
      "Processing images:  67%|██████████████▊       | 101/150 [07:43<03:39,  4.47s/it]"
     ]
    },
    {
     "name": "stdout",
     "output_type": "stream",
     "text": [
      "True Label: 0, Predicted Label: 0\n",
      "Processing image from URL: https://brandperception.s3.amazonaws.com/imagenet_eval_top50_middle50_bottom50/rugged/middle50/11189382_1430465033935738_306735602_n.jpg\n"
     ]
    },
    {
     "name": "stderr",
     "output_type": "stream",
     "text": [
      "Processing images:  68%|██████████████▉       | 102/150 [07:50<04:06,  5.13s/it]"
     ]
    },
    {
     "name": "stdout",
     "output_type": "stream",
     "text": [
      "True Label: 1, Predicted Label: 1\n",
      "Processing image from URL: https://brandperception.s3.amazonaws.com/imagenet_eval_top50_middle50_bottom50/rugged/top50/11254414_1689447401275090_1860068837_n.jpg\n"
     ]
    },
    {
     "name": "stderr",
     "output_type": "stream",
     "text": [
      "Processing images:  69%|███████████████       | 103/150 [07:57<04:29,  5.74s/it]"
     ]
    },
    {
     "name": "stdout",
     "output_type": "stream",
     "text": [
      "True Label: 1, Predicted Label: 1\n",
      "Processing image from URL: https://brandperception.s3.amazonaws.com/imagenet_eval_top50_middle50_bottom50/rugged/bottom50/1063804712109248842_1493962595.jpg\n"
     ]
    },
    {
     "name": "stderr",
     "output_type": "stream",
     "text": [
      "Processing images:  69%|███████████████▎      | 104/150 [08:01<04:06,  5.37s/it]"
     ]
    },
    {
     "name": "stdout",
     "output_type": "stream",
     "text": [
      "True Label: 0, Predicted Label: 0\n",
      "Processing image from URL: https://brandperception.s3.amazonaws.com/imagenet_eval_top50_middle50_bottom50/rugged/bottom50/1222572344414132165_240630340.jpg\n"
     ]
    },
    {
     "name": "stderr",
     "output_type": "stream",
     "text": [
      "Processing images:  70%|███████████████▍      | 105/150 [08:07<04:05,  5.46s/it]"
     ]
    },
    {
     "name": "stdout",
     "output_type": "stream",
     "text": [
      "True Label: 0, Predicted Label: 0\n",
      "Processing image from URL: https://brandperception.s3.amazonaws.com/imagenet_eval_top50_middle50_bottom50/rugged/bottom50/11425279_671807226254415_1066841961_n.jpg\n"
     ]
    },
    {
     "name": "stderr",
     "output_type": "stream",
     "text": [
      "Processing images:  71%|███████████████▌      | 106/150 [08:11<03:37,  4.95s/it]"
     ]
    },
    {
     "name": "stdout",
     "output_type": "stream",
     "text": [
      "True Label: 0, Predicted Label: 0\n",
      "Processing image from URL: https://brandperception.s3.amazonaws.com/imagenet_eval_top50_middle50_bottom50/rugged/top50/1243221991672282819_145091310.jpg\n"
     ]
    },
    {
     "name": "stderr",
     "output_type": "stream",
     "text": [
      "Processing images:  71%|███████████████▋      | 107/150 [08:15<03:24,  4.75s/it]"
     ]
    },
    {
     "name": "stdout",
     "output_type": "stream",
     "text": [
      "True Label: 1, Predicted Label: 1\n",
      "Processing image from URL: https://brandperception.s3.amazonaws.com/imagenet_eval_top50_middle50_bottom50/rugged/middle50/13259665_1716526405262008_2145282241_n.jpg\n"
     ]
    },
    {
     "name": "stderr",
     "output_type": "stream",
     "text": [
      "Processing images:  72%|███████████████▊      | 108/150 [08:22<03:46,  5.39s/it]"
     ]
    },
    {
     "name": "stdout",
     "output_type": "stream",
     "text": [
      "True Label: 0, Predicted Label: 0\n",
      "Processing image from URL: https://brandperception.s3.amazonaws.com/imagenet_eval_top50_middle50_bottom50/rugged/middle50/11254537_1001795323165516_1783208850_n.jpg\n"
     ]
    },
    {
     "name": "stderr",
     "output_type": "stream",
     "text": [
      "Processing images:  73%|███████████████▉      | 109/150 [08:30<04:16,  6.26s/it]"
     ]
    },
    {
     "name": "stdout",
     "output_type": "stream",
     "text": [
      "True Label: 0, Predicted Label: 0\n",
      "Processing image from URL: https://brandperception.s3.amazonaws.com/imagenet_eval_top50_middle50_bottom50/rugged/top50/13767556_1115985301823613_313725512_n.jpg\n"
     ]
    },
    {
     "name": "stderr",
     "output_type": "stream",
     "text": [
      "Processing images:  73%|████████████████▏     | 110/150 [08:37<04:17,  6.44s/it]"
     ]
    },
    {
     "name": "stdout",
     "output_type": "stream",
     "text": [
      "True Label: 1, Predicted Label: 1\n",
      "Processing image from URL: https://brandperception.s3.amazonaws.com/imagenet_eval_top50_middle50_bottom50/rugged/bottom50/1244230188439326726_1058708987.jpg\n"
     ]
    },
    {
     "name": "stderr",
     "output_type": "stream",
     "text": [
      "Processing images:  74%|████████████████▎     | 111/150 [08:42<03:54,  6.01s/it]"
     ]
    },
    {
     "name": "stdout",
     "output_type": "stream",
     "text": [
      "True Label: 0, Predicted Label: 0\n",
      "Processing image from URL: https://brandperception.s3.amazonaws.com/imagenet_eval_top50_middle50_bottom50/rugged/top50/11373922_1618834618381832_1480929900_n.jpg\n"
     ]
    },
    {
     "name": "stderr",
     "output_type": "stream",
     "text": [
      "Processing images:  75%|████████████████▍     | 112/150 [08:47<03:37,  5.71s/it]"
     ]
    },
    {
     "name": "stdout",
     "output_type": "stream",
     "text": [
      "True Label: 1, Predicted Label: 1\n",
      "Processing image from URL: https://brandperception.s3.amazonaws.com/imagenet_eval_top50_middle50_bottom50/rugged/top50/1222826871861973416_2888252211.jpg\n"
     ]
    },
    {
     "name": "stderr",
     "output_type": "stream",
     "text": [
      "Processing images:  75%|████████████████▌     | 113/150 [08:53<03:30,  5.69s/it]"
     ]
    },
    {
     "name": "stdout",
     "output_type": "stream",
     "text": [
      "True Label: 1, Predicted Label: 1\n",
      "Processing image from URL: https://brandperception.s3.amazonaws.com/imagenet_eval_top50_middle50_bottom50/rugged/top50/12940118_1680869942162617_213214106_n.jpg\n"
     ]
    },
    {
     "name": "stderr",
     "output_type": "stream",
     "text": [
      "Processing images:  76%|████████████████▋     | 114/150 [09:00<03:41,  6.16s/it]"
     ]
    },
    {
     "name": "stdout",
     "output_type": "stream",
     "text": [
      "True Label: 1, Predicted Label: 1\n",
      "Processing image from URL: https://brandperception.s3.amazonaws.com/imagenet_eval_top50_middle50_bottom50/rugged/bottom50/1245060789613459569_1913342909.jpg\n"
     ]
    },
    {
     "name": "stderr",
     "output_type": "stream",
     "text": [
      "Processing images:  77%|████████████████▊     | 115/150 [09:04<03:16,  5.60s/it]"
     ]
    },
    {
     "name": "stdout",
     "output_type": "stream",
     "text": [
      "True Label: 0, Predicted Label: 0\n",
      "Processing image from URL: https://brandperception.s3.amazonaws.com/imagenet_eval_top50_middle50_bottom50/rugged/bottom50/12543216_1654550514809592_2113481389_n.jpg\n"
     ]
    },
    {
     "name": "stderr",
     "output_type": "stream",
     "text": [
      "Processing images:  77%|█████████████████     | 116/150 [09:09<02:59,  5.28s/it]"
     ]
    },
    {
     "name": "stdout",
     "output_type": "stream",
     "text": [
      "True Label: 0, Predicted Label: 0\n",
      "Processing image from URL: https://brandperception.s3.amazonaws.com/imagenet_eval_top50_middle50_bottom50/rugged/top50/11334652_1570300336569610_1086638893_n.jpg\n"
     ]
    },
    {
     "name": "stderr",
     "output_type": "stream",
     "text": [
      "Processing images:  78%|█████████████████▏    | 117/150 [09:13<02:47,  5.07s/it]"
     ]
    },
    {
     "name": "stdout",
     "output_type": "stream",
     "text": [
      "True Label: 1, Predicted Label: 1\n",
      "Processing image from URL: https://brandperception.s3.amazonaws.com/imagenet_eval_top50_middle50_bottom50/rugged/bottom50/1245157652541092303_465726163.jpg\n"
     ]
    },
    {
     "name": "stderr",
     "output_type": "stream",
     "text": [
      "Processing images:  79%|█████████████████▎    | 118/150 [09:18<02:39,  5.00s/it]"
     ]
    },
    {
     "name": "stdout",
     "output_type": "stream",
     "text": [
      "True Label: 0, Predicted Label: 0\n",
      "Processing image from URL: https://brandperception.s3.amazonaws.com/imagenet_eval_top50_middle50_bottom50/rugged/top50/13267509_101594033599526_1023159436_n.jpg\n"
     ]
    },
    {
     "name": "stderr",
     "output_type": "stream",
     "text": [
      "Processing images:  79%|█████████████████▍    | 119/150 [09:25<02:50,  5.51s/it]"
     ]
    },
    {
     "name": "stdout",
     "output_type": "stream",
     "text": [
      "True Label: 1, Predicted Label: 1\n",
      "Processing image from URL: https://brandperception.s3.amazonaws.com/imagenet_eval_top50_middle50_bottom50/rugged/bottom50/1209426983763814849_218650233.jpg\n"
     ]
    },
    {
     "name": "stderr",
     "output_type": "stream",
     "text": [
      "Processing images:  80%|█████████████████▌    | 120/150 [09:29<02:29,  4.98s/it]"
     ]
    },
    {
     "name": "stdout",
     "output_type": "stream",
     "text": [
      "True Label: 0, Predicted Label: 0\n",
      "Processing image from URL: https://brandperception.s3.amazonaws.com/imagenet_eval_top50_middle50_bottom50/rugged/middle50/11111517_1628027230759993_1304514477_n.jpg\n"
     ]
    },
    {
     "name": "stderr",
     "output_type": "stream",
     "text": [
      "Processing images:  81%|█████████████████▋    | 121/150 [09:34<02:27,  5.08s/it]"
     ]
    },
    {
     "name": "stdout",
     "output_type": "stream",
     "text": [
      "True Label: 0, Predicted Label: 0\n",
      "Processing image from URL: https://brandperception.s3.amazonaws.com/imagenet_eval_top50_middle50_bottom50/rugged/middle50/10549913_780654332001864_1863863454_n.jpg\n"
     ]
    },
    {
     "name": "stderr",
     "output_type": "stream",
     "text": [
      "Processing images:  81%|█████████████████▉    | 122/150 [09:40<02:33,  5.50s/it]"
     ]
    },
    {
     "name": "stdout",
     "output_type": "stream",
     "text": [
      "True Label: 0, Predicted Label: 1\n",
      "Processing image from URL: https://brandperception.s3.amazonaws.com/imagenet_eval_top50_middle50_bottom50/rugged/bottom50/1214101529634497185_15252007.jpg\n"
     ]
    },
    {
     "name": "stderr",
     "output_type": "stream",
     "text": [
      "Processing images:  82%|██████████████████    | 123/150 [09:44<02:16,  5.07s/it]"
     ]
    },
    {
     "name": "stdout",
     "output_type": "stream",
     "text": [
      "True Label: 0, Predicted Label: 0\n",
      "Processing image from URL: https://brandperception.s3.amazonaws.com/imagenet_eval_top50_middle50_bottom50/rugged/top50/1211073986492870415_1321912026.jpg\n"
     ]
    },
    {
     "name": "stderr",
     "output_type": "stream",
     "text": [
      "Processing images:  83%|██████████████████▏   | 124/150 [09:50<02:12,  5.09s/it]"
     ]
    },
    {
     "name": "stdout",
     "output_type": "stream",
     "text": [
      "True Label: 1, Predicted Label: 1\n",
      "Processing image from URL: https://brandperception.s3.amazonaws.com/imagenet_eval_top50_middle50_bottom50/rugged/top50/10953315_1387434281563277_133290604_n.jpg\n"
     ]
    },
    {
     "name": "stderr",
     "output_type": "stream",
     "text": [
      "Processing images:  83%|██████████████████▎   | 125/150 [09:58<02:28,  5.94s/it]"
     ]
    },
    {
     "name": "stdout",
     "output_type": "stream",
     "text": [
      "True Label: 1, Predicted Label: 1\n",
      "Processing image from URL: https://brandperception.s3.amazonaws.com/imagenet_eval_top50_middle50_bottom50/rugged/middle50/1240225635214497424_1313309804.jpg\n"
     ]
    },
    {
     "name": "stderr",
     "output_type": "stream",
     "text": [
      "Processing images:  84%|██████████████████▍   | 126/150 [10:01<02:06,  5.28s/it]"
     ]
    },
    {
     "name": "stdout",
     "output_type": "stream",
     "text": [
      "True Label: 1, Predicted Label: 1\n",
      "Processing image from URL: https://brandperception.s3.amazonaws.com/imagenet_eval_top50_middle50_bottom50/rugged/top50/10817538_1519286035007900_1544157825_n.jpg\n"
     ]
    },
    {
     "name": "stderr",
     "output_type": "stream",
     "text": [
      "Processing images:  85%|██████████████████▋   | 127/150 [10:07<02:02,  5.32s/it]"
     ]
    },
    {
     "name": "stdout",
     "output_type": "stream",
     "text": [
      "True Label: 1, Predicted Label: 1\n",
      "Processing image from URL: https://brandperception.s3.amazonaws.com/imagenet_eval_top50_middle50_bottom50/rugged/bottom50/1241338146575290928_192624291.jpg\n"
     ]
    },
    {
     "name": "stderr",
     "output_type": "stream",
     "text": [
      "Processing images:  85%|██████████████████▊   | 128/150 [10:12<01:59,  5.45s/it]"
     ]
    },
    {
     "name": "stdout",
     "output_type": "stream",
     "text": [
      "True Label: 0, Predicted Label: 0\n",
      "Processing image from URL: https://brandperception.s3.amazonaws.com/imagenet_eval_top50_middle50_bottom50/rugged/middle50/11925899_977065465689383_16450328_n.jpg\n"
     ]
    },
    {
     "name": "stderr",
     "output_type": "stream",
     "text": [
      "Processing images:  86%|██████████████████▉   | 129/150 [10:21<02:11,  6.24s/it]"
     ]
    },
    {
     "name": "stdout",
     "output_type": "stream",
     "text": [
      "True Label: 1, Predicted Label: 1\n",
      "Processing image from URL: https://brandperception.s3.amazonaws.com/imagenet_eval_top50_middle50_bottom50/rugged/middle50/10616952_845716138878500_1886902151_n.jpg\n"
     ]
    },
    {
     "name": "stderr",
     "output_type": "stream",
     "text": [
      "Processing images:  87%|███████████████████   | 130/150 [10:26<02:01,  6.06s/it]"
     ]
    },
    {
     "name": "stdout",
     "output_type": "stream",
     "text": [
      "True Label: 1, Predicted Label: 1\n",
      "Processing image from URL: https://brandperception.s3.amazonaws.com/imagenet_eval_top50_middle50_bottom50/rugged/top50/13739392_172117436537879_1701112570_n.jpg\n"
     ]
    },
    {
     "name": "stderr",
     "output_type": "stream",
     "text": [
      "Processing images:  87%|███████████████████▏  | 131/150 [10:31<01:47,  5.67s/it]"
     ]
    },
    {
     "name": "stdout",
     "output_type": "stream",
     "text": [
      "True Label: 1, Predicted Label: 1\n",
      "Processing image from URL: https://brandperception.s3.amazonaws.com/imagenet_eval_top50_middle50_bottom50/rugged/bottom50/1215485257357616288_387705408.jpg\n"
     ]
    },
    {
     "name": "stderr",
     "output_type": "stream",
     "text": [
      "Processing images:  88%|███████████████████▎  | 132/150 [10:36<01:39,  5.55s/it]"
     ]
    },
    {
     "name": "stdout",
     "output_type": "stream",
     "text": [
      "True Label: 0, Predicted Label: 0\n",
      "Processing image from URL: https://brandperception.s3.amazonaws.com/imagenet_eval_top50_middle50_bottom50/rugged/middle50/1239483778661925922_2137645048.jpg\n"
     ]
    },
    {
     "name": "stderr",
     "output_type": "stream",
     "text": [
      "Processing images:  89%|███████████████████▌  | 133/150 [10:41<01:28,  5.18s/it]"
     ]
    },
    {
     "name": "stdout",
     "output_type": "stream",
     "text": [
      "True Label: 0, Predicted Label: 0\n",
      "Processing image from URL: https://brandperception.s3.amazonaws.com/imagenet_eval_top50_middle50_bottom50/rugged/top50/1202251432888552195_1592435433.jpg\n"
     ]
    },
    {
     "name": "stderr",
     "output_type": "stream",
     "text": [
      "Processing images:  89%|███████████████████▋  | 134/150 [10:47<01:28,  5.56s/it]"
     ]
    },
    {
     "name": "stdout",
     "output_type": "stream",
     "text": [
      "True Label: 1, Predicted Label: 1\n",
      "Processing image from URL: https://brandperception.s3.amazonaws.com/imagenet_eval_top50_middle50_bottom50/rugged/middle50/12424499_579542935532665_1749073543_n.jpg\n"
     ]
    },
    {
     "name": "stderr",
     "output_type": "stream",
     "text": [
      "Processing images:  90%|███████████████████▊  | 135/150 [10:54<01:29,  5.95s/it]"
     ]
    },
    {
     "name": "stdout",
     "output_type": "stream",
     "text": [
      "True Label: 0, Predicted Label: 0\n",
      "Processing image from URL: https://brandperception.s3.amazonaws.com/imagenet_eval_top50_middle50_bottom50/rugged/bottom50/938626665713288841_232730816.jpg\n"
     ]
    },
    {
     "name": "stderr",
     "output_type": "stream",
     "text": [
      "Processing images:  91%|███████████████████▉  | 136/150 [10:58<01:14,  5.33s/it]"
     ]
    },
    {
     "name": "stdout",
     "output_type": "stream",
     "text": [
      "True Label: 0, Predicted Label: 0\n",
      "Processing image from URL: https://brandperception.s3.amazonaws.com/imagenet_eval_top50_middle50_bottom50/rugged/bottom50/1177750484499609918_2211852349.jpg\n"
     ]
    },
    {
     "name": "stderr",
     "output_type": "stream",
     "text": [
      "Processing images:  91%|████████████████████  | 137/150 [11:07<01:26,  6.65s/it]"
     ]
    },
    {
     "name": "stdout",
     "output_type": "stream",
     "text": [
      "True Label: 0, Predicted Label: 0\n",
      "Processing image from URL: https://brandperception.s3.amazonaws.com/imagenet_eval_top50_middle50_bottom50/rugged/top50/1244384973514562810_203457774.jpg\n"
     ]
    },
    {
     "name": "stderr",
     "output_type": "stream",
     "text": [
      "Processing images:  92%|████████████████████▏ | 138/150 [11:12<01:10,  5.88s/it]"
     ]
    },
    {
     "name": "stdout",
     "output_type": "stream",
     "text": [
      "True Label: 1, Predicted Label: 1\n",
      "Processing image from URL: https://brandperception.s3.amazonaws.com/imagenet_eval_top50_middle50_bottom50/rugged/top50/13397662_1389437574403466_701410974_n.jpg\n"
     ]
    },
    {
     "name": "stderr",
     "output_type": "stream",
     "text": [
      "Processing images:  93%|████████████████████▍ | 139/150 [11:19<01:10,  6.45s/it]"
     ]
    },
    {
     "name": "stdout",
     "output_type": "stream",
     "text": [
      "True Label: 1, Predicted Label: 1\n",
      "Processing image from URL: https://brandperception.s3.amazonaws.com/imagenet_eval_top50_middle50_bottom50/rugged/top50/11191181_439724369568002_1502925667_n.jpg\n"
     ]
    },
    {
     "name": "stderr",
     "output_type": "stream",
     "text": [
      "Processing images:  93%|████████████████████▌ | 140/150 [11:24<00:59,  5.93s/it]"
     ]
    },
    {
     "name": "stdout",
     "output_type": "stream",
     "text": [
      "True Label: 1, Predicted Label: 1\n",
      "Processing image from URL: https://brandperception.s3.amazonaws.com/imagenet_eval_top50_middle50_bottom50/rugged/top50/1097803901202522960_970183511.jpg\n"
     ]
    },
    {
     "name": "stderr",
     "output_type": "stream",
     "text": [
      "Processing images:  94%|████████████████████▋ | 141/150 [11:28<00:48,  5.44s/it]"
     ]
    },
    {
     "name": "stdout",
     "output_type": "stream",
     "text": [
      "True Label: 1, Predicted Label: 1\n",
      "Processing image from URL: https://brandperception.s3.amazonaws.com/imagenet_eval_top50_middle50_bottom50/rugged/top50/11296717_1865211550371609_646031866_n.jpg\n"
     ]
    },
    {
     "name": "stderr",
     "output_type": "stream",
     "text": [
      "Processing images:  95%|████████████████████▊ | 142/150 [11:34<00:43,  5.41s/it]"
     ]
    },
    {
     "name": "stdout",
     "output_type": "stream",
     "text": [
      "True Label: 1, Predicted Label: 1\n",
      "Processing image from URL: https://brandperception.s3.amazonaws.com/imagenet_eval_top50_middle50_bottom50/rugged/top50/13269580_1010731385688779_1676778595_n.jpg\n"
     ]
    },
    {
     "name": "stderr",
     "output_type": "stream",
     "text": [
      "Processing images:  95%|████████████████████▉ | 143/150 [11:41<00:41,  5.96s/it]"
     ]
    },
    {
     "name": "stdout",
     "output_type": "stream",
     "text": [
      "True Label: 1, Predicted Label: 1\n",
      "Processing image from URL: https://brandperception.s3.amazonaws.com/imagenet_eval_top50_middle50_bottom50/rugged/bottom50/1136189659989482640_1551217374.jpg\n"
     ]
    },
    {
     "name": "stderr",
     "output_type": "stream",
     "text": [
      "Processing images:  96%|█████████████████████ | 144/150 [11:46<00:34,  5.77s/it]"
     ]
    },
    {
     "name": "stdout",
     "output_type": "stream",
     "text": [
      "True Label: 0, Predicted Label: 0\n",
      "Processing image from URL: https://brandperception.s3.amazonaws.com/imagenet_eval_top50_middle50_bottom50/rugged/bottom50/1236106944075455959_22430182.jpg\n"
     ]
    },
    {
     "name": "stderr",
     "output_type": "stream",
     "text": [
      "Processing images:  97%|█████████████████████▎| 145/150 [11:52<00:28,  5.76s/it]"
     ]
    },
    {
     "name": "stdout",
     "output_type": "stream",
     "text": [
      "True Label: 0, Predicted Label: 0\n",
      "Processing image from URL: https://brandperception.s3.amazonaws.com/imagenet_eval_top50_middle50_bottom50/rugged/bottom50/992177183758432231_1268132764.jpg\n"
     ]
    },
    {
     "name": "stderr",
     "output_type": "stream",
     "text": [
      "Processing images:  97%|█████████████████████▍| 146/150 [11:56<00:20,  5.14s/it]"
     ]
    },
    {
     "name": "stdout",
     "output_type": "stream",
     "text": [
      "True Label: 0, Predicted Label: 0\n",
      "Processing image from URL: https://brandperception.s3.amazonaws.com/imagenet_eval_top50_middle50_bottom50/rugged/top50/12502056_557027677793445_2045327763_n.jpg\n"
     ]
    },
    {
     "name": "stderr",
     "output_type": "stream",
     "text": [
      "Processing images:  98%|█████████████████████▌| 147/150 [12:03<00:17,  5.69s/it]"
     ]
    },
    {
     "name": "stdout",
     "output_type": "stream",
     "text": [
      "True Label: 1, Predicted Label: 1\n",
      "Processing image from URL: https://brandperception.s3.amazonaws.com/imagenet_eval_top50_middle50_bottom50/rugged/middle50/1240149037407174838_346033231.jpg\n"
     ]
    },
    {
     "name": "stderr",
     "output_type": "stream",
     "text": [
      "Processing images:  99%|█████████████████████▋| 148/150 [12:07<00:10,  5.42s/it]"
     ]
    },
    {
     "name": "stdout",
     "output_type": "stream",
     "text": [
      "True Label: 0, Predicted Label: 1\n",
      "Processing image from URL: https://brandperception.s3.amazonaws.com/imagenet_eval_top50_middle50_bottom50/rugged/top50/12142151_1636383456627988_1700666281_n.jpg\n"
     ]
    },
    {
     "name": "stderr",
     "output_type": "stream",
     "text": [
      "Processing images:  99%|█████████████████████▊| 149/150 [12:11<00:04,  4.99s/it]"
     ]
    },
    {
     "name": "stdout",
     "output_type": "stream",
     "text": [
      "True Label: 1, Predicted Label: 1\n",
      "Processing image from URL: https://brandperception.s3.amazonaws.com/imagenet_eval_top50_middle50_bottom50/rugged/top50/13721276_1082949678451875_1748287275_n.jpg\n"
     ]
    },
    {
     "name": "stderr",
     "output_type": "stream",
     "text": [
      "Processing images: 100%|██████████████████████| 150/150 [12:16<00:00,  4.91s/it]"
     ]
    },
    {
     "name": "stdout",
     "output_type": "stream",
     "text": [
      "True Label: 1, Predicted Label: 0\n"
     ]
    },
    {
     "name": "stderr",
     "output_type": "stream",
     "text": [
      "\n"
     ]
    }
   ],
   "source": [
    "drive.mount('/content/drive')\n",
    "file_path = '/content/drive/My Drive/Colab Notebooks/CV_task/rugged_dataset.csv'\n",
    "data = pd.read_csv(file_path)\n",
    "\n",
    "# data = data.head(10) # test if our code works fine\n",
    "\n",
    "true_labels = []\n",
    "predicted_labels = []  # 1 for rugged, 0 for gentle\n",
    "rugged_probs = []\n",
    "\n",
    "group_results = {\"top50\": [], \"middle50\": [], \"bottom50\": []}\n",
    "consumer_results = {}\n",
    "\n",
    "for _, row in tqdm(data.iterrows(), desc=\"Processing images\", total=len(data)):\n",
    "    image_url = row['image_url']\n",
    "    true_label = 1 if row['rugged'].strip().lower() == 'yes' else 0\n",
    "    group = row['top_middle_bottom']  # Group classification (top50, middle50, bottom50)\n",
    "    consumer = row['consumer_official']  # Consumer or official image\n",
    "\n",
    "    if consumer not in consumer_results:\n",
    "        consumer_results[consumer] = {\"true_labels\": [], \"predicted_labels\": []}\n",
    "\n",
    "    # Get the image from the URL\n",
    "    try:\n",
    "        response = requests.get(image_url)\n",
    "        # img = Image.open(BytesIO(response.content))\n",
    "\n",
    "        print(f\"Processing image from URL: {image_url}\")\n",
    "        # plt.imshow(img)\n",
    "        # plt.axis('off')\n",
    "        # plt.show()\n",
    "\n",
    "        # Send the image URL to the GPT model\n",
    "        response = client.chat.completions.create(\n",
    "            model=\"gpt-4o\",\n",
    "            messages=[\n",
    "                {\n",
    "                    \"role\": \"user\",\n",
    "                    \"content\": [\n",
    "                        {\n",
    "                            \"type\": \"text\",\n",
    "                            \"text\": label_attribution_prompt_text,\n",
    "                        },\n",
    "                        {\n",
    "                            \"type\": \"image_url\",\n",
    "                            \"image_url\": {\"url\": image_url},\n",
    "                        },\n",
    "                    ],\n",
    "                }\n",
    "            ],\n",
    "        )\n",
    "        result = response.choices[0].message.content.lower()\n",
    "\n",
    "        # Determine predicted label (1 if rugged, 0 otherwise)\n",
    "        predicted_label = 1 if \"rugged\" in result else 0\n",
    "        predicted_labels.append(predicted_label)\n",
    "        rugged_probs.append(1.0 if \"rugged\" in result else 0.0)\n",
    "        true_labels.append(true_label)\n",
    "\n",
    "        group_results[group].append((true_label, predicted_label))\n",
    "\n",
    "        consumer_results[consumer][\"true_labels\"].append(true_label)\n",
    "        consumer_results[consumer][\"predicted_labels\"].append(predicted_label)\n",
    "\n",
    "        print(f\"True Label: {true_label}, Predicted Label: {predicted_label}\")\n",
    "    except Exception as e:\n",
    "        print(f\"Failed to process image from URL: {image_url}. Error: {e}\")"
   ]
  },
  {
   "cell_type": "code",
   "execution_count": null,
   "metadata": {
    "id": "Kxl6vx2kdEC0",
    "outputId": "00635ab3-0757-4152-d016-8356da587ec8"
   },
   "outputs": [
    {
     "name": "stdout",
     "output_type": "stream",
     "text": [
      "Overall Accuracy: 0.9194630872483222\n",
      "Overall AUC: 0.9240990171095741\n",
      "Accuracy for top50: 0.96\n",
      "Accuracy for middle50: 0.8\n",
      "Accuracy for bottom50: 1.0\n",
      "Accuracy for consumer user: 0.9264705882352942\n",
      "Accuracy for consumer official: 0.9135802469135802\n"
     ]
    }
   ],
   "source": [
    "results_list = []\n",
    "\n",
    "# Calculate Overall Accuracy\n",
    "overall_accuracy = accuracy_score(true_labels, predicted_labels)\n",
    "results_list.append([\"Overall Accuracy\", overall_accuracy])\n",
    "print(f\"Overall Accuracy: {overall_accuracy}\")\n",
    "\n",
    "# Calculate Overall AUC\n",
    "if len(set(true_labels)) > 1:\n",
    "    overall_auc = roc_auc_score(true_labels, rugged_probs)\n",
    "    results_list.append([\"Overall AUC\", overall_auc])\n",
    "    print(f\"Overall AUC: {overall_auc}\")\n",
    "else:\n",
    "    print(\"AUC cannot be calculated as there is only one class in true labels.\")\n",
    "\n",
    "# Group-wise accuracy\n",
    "for group, values in group_results.items():\n",
    "    if values:  # Ensure the group has data\n",
    "        group_true_labels, group_predicted_labels = zip(*values)\n",
    "        group_accuracy = accuracy_score(group_true_labels, group_predicted_labels)\n",
    "        results_list.append([f\"Accuracy for group {group}\", group_accuracy])\n",
    "        print(f\"Accuracy for {group}: {group_accuracy}\")\n",
    "    else:\n",
    "        print(f\"No data for group {group}.\")\n",
    "\n",
    "# Consumer/official accuracy\n",
    "for consumer, results_dict in consumer_results.items():\n",
    "    if results_dict[\"true_labels\"]:  # Ensure the consumer has data\n",
    "        consumer_accuracy = accuracy_score(results_dict[\"true_labels\"], results_dict[\"predicted_labels\"])\n",
    "        results_list.append([f\"Accuracy for consumer {consumer}\", consumer_accuracy])\n",
    "        print(f\"Accuracy for consumer {consumer}: {consumer_accuracy}\")\n",
    "    else:\n",
    "        print(f\"No data for consumer {consumer}.\")\n",
    "\n",
    "df_results = pd.DataFrame(results_list, columns=[\"Metric\", \"Value\"])\n",
    "df_results.to_csv('test_results_rugged.csv', index=False)"
   ]
  },
  {
   "cell_type": "markdown",
   "metadata": {
    "id": "JyyfaCXpdEC0"
   },
   "source": [
    "### 3. Glamorous / Drab Classification Study"
   ]
  },
  {
   "cell_type": "code",
   "execution_count": null,
   "metadata": {
    "id": "dRs6wGV-dEC0",
    "outputId": "fe477143-db45-40cc-d82b-e798b8fd6367"
   },
   "outputs": [
    {
     "name": "stderr",
     "output_type": "stream",
     "text": [
      "Processing images:   0%|                                | 0/150 [00:00<?, ?it/s]"
     ]
    },
    {
     "name": "stdout",
     "output_type": "stream",
     "text": [
      "Processing image from URL: https://brandperception.s3.amazonaws.com/imagenet_eval_top50_middle50_bottom50/glamorous/top50/12599203_1708675169344248_1887841860_n.jpg\n"
     ]
    },
    {
     "name": "stderr",
     "output_type": "stream",
     "text": [
      "Processing images:   1%|▏                       | 1/150 [00:12<31:08, 12.54s/it]"
     ]
    },
    {
     "name": "stdout",
     "output_type": "stream",
     "text": [
      "True Label: 1, Predicted Label: 1\n",
      "Processing image from URL: https://brandperception.s3.amazonaws.com/imagenet_eval_top50_middle50_bottom50/glamorous/middle50/1251832648518440479_2302182916.jpg\n"
     ]
    },
    {
     "name": "stderr",
     "output_type": "stream",
     "text": [
      "Processing images:   1%|▎                       | 2/150 [00:17<19:59,  8.10s/it]"
     ]
    },
    {
     "name": "stdout",
     "output_type": "stream",
     "text": [
      "True Label: 0, Predicted Label: 1\n",
      "Processing image from URL: https://brandperception.s3.amazonaws.com/imagenet_eval_top50_middle50_bottom50/glamorous/top50/12135467_1086878434669748_352108688_n.jpg\n"
     ]
    },
    {
     "name": "stderr",
     "output_type": "stream",
     "text": [
      "Processing images:   2%|▍                       | 3/150 [00:21<15:35,  6.37s/it]"
     ]
    },
    {
     "name": "stdout",
     "output_type": "stream",
     "text": [
      "True Label: 1, Predicted Label: 1\n",
      "Processing image from URL: https://brandperception.s3.amazonaws.com/imagenet_eval_top50_middle50_bottom50/glamorous/top50/11176375_102937926705127_1288309507_n.jpg\n"
     ]
    },
    {
     "name": "stderr",
     "output_type": "stream",
     "text": [
      "Processing images:   3%|▋                       | 4/150 [00:26<13:57,  5.74s/it]"
     ]
    },
    {
     "name": "stdout",
     "output_type": "stream",
     "text": [
      "True Label: 1, Predicted Label: 1\n",
      "Processing image from URL: https://brandperception.s3.amazonaws.com/imagenet_eval_top50_middle50_bottom50/glamorous/bottom50/1060432462317373800_1183601.jpg\n"
     ]
    },
    {
     "name": "stderr",
     "output_type": "stream",
     "text": [
      "Processing images:   3%|▊                       | 5/150 [00:31<12:55,  5.35s/it]"
     ]
    },
    {
     "name": "stdout",
     "output_type": "stream",
     "text": [
      "True Label: 0, Predicted Label: 0\n",
      "Processing image from URL: https://brandperception.s3.amazonaws.com/imagenet_eval_top50_middle50_bottom50/glamorous/bottom50/1058076241137072731_104804189.jpg\n"
     ]
    },
    {
     "name": "stderr",
     "output_type": "stream",
     "text": [
      "Processing images:   4%|▉                       | 6/150 [00:36<12:23,  5.16s/it]"
     ]
    },
    {
     "name": "stdout",
     "output_type": "stream",
     "text": [
      "True Label: 0, Predicted Label: 0\n",
      "Processing image from URL: https://brandperception.s3.amazonaws.com/imagenet_eval_top50_middle50_bottom50/glamorous/middle50/1242046333613883325_350447158.jpg\n"
     ]
    },
    {
     "name": "stderr",
     "output_type": "stream",
     "text": [
      "Processing images:   5%|█                       | 7/150 [00:43<13:56,  5.85s/it]"
     ]
    },
    {
     "name": "stdout",
     "output_type": "stream",
     "text": [
      "True Label: 0, Predicted Label: 0\n",
      "Processing image from URL: https://brandperception.s3.amazonaws.com/imagenet_eval_top50_middle50_bottom50/glamorous/bottom50/1234688424650629263_36236431.jpg\n"
     ]
    },
    {
     "name": "stderr",
     "output_type": "stream",
     "text": [
      "Processing images:   5%|█▎                      | 8/150 [00:47<12:27,  5.26s/it]"
     ]
    },
    {
     "name": "stdout",
     "output_type": "stream",
     "text": [
      "True Label: 0, Predicted Label: 1\n",
      "Processing image from URL: https://brandperception.s3.amazonaws.com/imagenet_eval_top50_middle50_bottom50/glamorous/bottom50/11256701_1615915595321551_490703185_n.jpg\n"
     ]
    },
    {
     "name": "stderr",
     "output_type": "stream",
     "text": [
      "Processing images:   6%|█▍                      | 9/150 [00:53<13:13,  5.63s/it]"
     ]
    },
    {
     "name": "stdout",
     "output_type": "stream",
     "text": [
      "True Label: 0, Predicted Label: 0\n",
      "Processing image from URL: https://brandperception.s3.amazonaws.com/imagenet_eval_top50_middle50_bottom50/glamorous/bottom50/1118563345606298439_792225.jpg\n"
     ]
    },
    {
     "name": "stderr",
     "output_type": "stream",
     "text": [
      "Processing images:   7%|█▌                     | 10/150 [00:59<13:18,  5.70s/it]"
     ]
    },
    {
     "name": "stdout",
     "output_type": "stream",
     "text": [
      "True Label: 0, Predicted Label: 0\n",
      "Processing image from URL: https://brandperception.s3.amazonaws.com/imagenet_eval_top50_middle50_bottom50/glamorous/bottom50/1200536726251756986_2996295758.jpg\n"
     ]
    },
    {
     "name": "stderr",
     "output_type": "stream",
     "text": [
      "Processing images:   7%|█▋                     | 11/150 [01:05<13:27,  5.81s/it]"
     ]
    },
    {
     "name": "stdout",
     "output_type": "stream",
     "text": [
      "True Label: 0, Predicted Label: 0\n",
      "Processing image from URL: https://brandperception.s3.amazonaws.com/imagenet_eval_top50_middle50_bottom50/glamorous/middle50/1242955438445219076_790592738.jpg\n"
     ]
    },
    {
     "name": "stderr",
     "output_type": "stream",
     "text": [
      "Processing images:   8%|█▊                     | 12/150 [01:10<12:56,  5.63s/it]"
     ]
    },
    {
     "name": "stdout",
     "output_type": "stream",
     "text": [
      "True Label: 0, Predicted Label: 0\n",
      "Processing image from URL: https://brandperception.s3.amazonaws.com/imagenet_eval_top50_middle50_bottom50/glamorous/middle50/1723988_631236270275752_840278376_n.jpg\n"
     ]
    },
    {
     "name": "stderr",
     "output_type": "stream",
     "text": [
      "Processing images:   9%|█▉                     | 13/150 [01:15<12:17,  5.38s/it]"
     ]
    },
    {
     "name": "stdout",
     "output_type": "stream",
     "text": [
      "True Label: 1, Predicted Label: 1\n",
      "Processing image from URL: https://brandperception.s3.amazonaws.com/imagenet_eval_top50_middle50_bottom50/glamorous/top50/10949070_1038192612863324_1832799465_n.jpg\n"
     ]
    },
    {
     "name": "stderr",
     "output_type": "stream",
     "text": [
      "Processing images:   9%|██▏                    | 14/150 [01:20<11:48,  5.21s/it]"
     ]
    },
    {
     "name": "stdout",
     "output_type": "stream",
     "text": [
      "True Label: 1, Predicted Label: 1\n",
      "Processing image from URL: https://brandperception.s3.amazonaws.com/imagenet_eval_top50_middle50_bottom50/glamorous/bottom50/1204802821866484590_36688931.jpg\n"
     ]
    },
    {
     "name": "stderr",
     "output_type": "stream",
     "text": [
      "Processing images:  10%|██▎                    | 15/150 [01:24<11:10,  4.97s/it]"
     ]
    },
    {
     "name": "stdout",
     "output_type": "stream",
     "text": [
      "True Label: 0, Predicted Label: 0\n",
      "Processing image from URL: https://brandperception.s3.amazonaws.com/imagenet_eval_top50_middle50_bottom50/glamorous/top50/924439_591415140971022_1200646475_n.jpg\n"
     ]
    },
    {
     "name": "stderr",
     "output_type": "stream",
     "text": [
      "Processing images:  11%|██▍                    | 16/150 [01:29<10:51,  4.86s/it]"
     ]
    },
    {
     "name": "stdout",
     "output_type": "stream",
     "text": [
      "True Label: 1, Predicted Label: 1\n",
      "Processing image from URL: https://brandperception.s3.amazonaws.com/imagenet_eval_top50_middle50_bottom50/glamorous/bottom50/11351957_365173703673355_486256626_n.jpg\n"
     ]
    },
    {
     "name": "stderr",
     "output_type": "stream",
     "text": [
      "Processing images:  11%|██▌                    | 17/150 [01:34<10:32,  4.75s/it]"
     ]
    },
    {
     "name": "stdout",
     "output_type": "stream",
     "text": [
      "True Label: 0, Predicted Label: 0\n",
      "Processing image from URL: https://brandperception.s3.amazonaws.com/imagenet_eval_top50_middle50_bottom50/glamorous/top50/10948831_1537717843171121_743571477_n.jpg\n"
     ]
    },
    {
     "name": "stderr",
     "output_type": "stream",
     "text": [
      "Processing images:  12%|██▊                    | 18/150 [01:39<10:54,  4.96s/it]"
     ]
    },
    {
     "name": "stdout",
     "output_type": "stream",
     "text": [
      "True Label: 1, Predicted Label: 1\n",
      "Processing image from URL: https://brandperception.s3.amazonaws.com/imagenet_eval_top50_middle50_bottom50/glamorous/middle50/11355164_1439770176340130_806465835_n.jpg\n"
     ]
    },
    {
     "name": "stderr",
     "output_type": "stream",
     "text": [
      "Processing images:  13%|██▉                    | 19/150 [01:46<12:16,  5.62s/it]"
     ]
    },
    {
     "name": "stdout",
     "output_type": "stream",
     "text": [
      "True Label: 1, Predicted Label: 1\n",
      "Processing image from URL: https://brandperception.s3.amazonaws.com/imagenet_eval_top50_middle50_bottom50/glamorous/bottom50/11325026_793965377385932_2099222970_n.jpg\n"
     ]
    },
    {
     "name": "stderr",
     "output_type": "stream",
     "text": [
      "Processing images:  13%|███                    | 20/150 [01:51<11:23,  5.26s/it]"
     ]
    },
    {
     "name": "stdout",
     "output_type": "stream",
     "text": [
      "True Label: 0, Predicted Label: 1\n",
      "Processing image from URL: https://brandperception.s3.amazonaws.com/imagenet_eval_top50_middle50_bottom50/glamorous/top50/11258837_111176895880712_1652037811_n.jpg\n"
     ]
    },
    {
     "name": "stderr",
     "output_type": "stream",
     "text": [
      "Processing images:  14%|███▏                   | 21/150 [01:55<10:41,  4.97s/it]"
     ]
    },
    {
     "name": "stdout",
     "output_type": "stream",
     "text": [
      "True Label: 1, Predicted Label: 1\n",
      "Processing image from URL: https://brandperception.s3.amazonaws.com/imagenet_eval_top50_middle50_bottom50/glamorous/top50/10643829_752122444849889_2017375592_n.jpg\n"
     ]
    },
    {
     "name": "stderr",
     "output_type": "stream",
     "text": [
      "Processing images:  15%|███▎                   | 22/150 [02:01<11:09,  5.23s/it]"
     ]
    },
    {
     "name": "stdout",
     "output_type": "stream",
     "text": [
      "True Label: 1, Predicted Label: 1\n",
      "Processing image from URL: https://brandperception.s3.amazonaws.com/imagenet_eval_top50_middle50_bottom50/glamorous/middle50/1527483_1425453054358507_817786988_n.jpg\n"
     ]
    },
    {
     "name": "stderr",
     "output_type": "stream",
     "text": [
      "Processing images:  15%|███▌                   | 23/150 [02:07<11:35,  5.48s/it]"
     ]
    },
    {
     "name": "stdout",
     "output_type": "stream",
     "text": [
      "True Label: 0, Predicted Label: 0\n",
      "Processing image from URL: https://brandperception.s3.amazonaws.com/imagenet_eval_top50_middle50_bottom50/glamorous/top50/10522196_469963353140030_354349661_n.jpg\n"
     ]
    },
    {
     "name": "stderr",
     "output_type": "stream",
     "text": [
      "Processing images:  16%|███▋                   | 24/150 [02:12<11:08,  5.30s/it]"
     ]
    },
    {
     "name": "stdout",
     "output_type": "stream",
     "text": [
      "True Label: 1, Predicted Label: 1\n",
      "Processing image from URL: https://brandperception.s3.amazonaws.com/imagenet_eval_top50_middle50_bottom50/glamorous/top50/10817816_1606523696235474_159155303_n.jpg\n"
     ]
    },
    {
     "name": "stderr",
     "output_type": "stream",
     "text": [
      "Processing images:  17%|███▊                   | 25/150 [02:16<10:37,  5.10s/it]"
     ]
    },
    {
     "name": "stdout",
     "output_type": "stream",
     "text": [
      "True Label: 1, Predicted Label: 1\n",
      "Processing image from URL: https://brandperception.s3.amazonaws.com/imagenet_eval_top50_middle50_bottom50/glamorous/middle50/1240212702594112980_497885806.jpg\n"
     ]
    },
    {
     "name": "stderr",
     "output_type": "stream",
     "text": [
      "Processing images:  17%|███▉                   | 26/150 [02:22<10:52,  5.26s/it]"
     ]
    },
    {
     "name": "stdout",
     "output_type": "stream",
     "text": [
      "True Label: 0, Predicted Label: 0\n",
      "Processing image from URL: https://brandperception.s3.amazonaws.com/imagenet_eval_top50_middle50_bottom50/glamorous/bottom50/1245264251735017795_339182593.jpg\n"
     ]
    },
    {
     "name": "stderr",
     "output_type": "stream",
     "text": [
      "Processing images:  18%|████▏                  | 27/150 [02:28<11:19,  5.52s/it]"
     ]
    },
    {
     "name": "stdout",
     "output_type": "stream",
     "text": [
      "True Label: 0, Predicted Label: 0\n",
      "Processing image from URL: https://brandperception.s3.amazonaws.com/imagenet_eval_top50_middle50_bottom50/glamorous/middle50/1239936206855985768_2275284853.jpg\n"
     ]
    },
    {
     "name": "stderr",
     "output_type": "stream",
     "text": [
      "Processing images:  19%|████▎                  | 28/150 [02:32<10:21,  5.09s/it]"
     ]
    },
    {
     "name": "stdout",
     "output_type": "stream",
     "text": [
      "True Label: 1, Predicted Label: 1\n",
      "Processing image from URL: https://brandperception.s3.amazonaws.com/imagenet_eval_top50_middle50_bottom50/glamorous/top50/11335158_946299368753802_556298485_n.jpg\n"
     ]
    },
    {
     "name": "stderr",
     "output_type": "stream",
     "text": [
      "Processing images:  19%|████▍                  | 29/150 [02:38<10:58,  5.44s/it]"
     ]
    },
    {
     "name": "stdout",
     "output_type": "stream",
     "text": [
      "True Label: 1, Predicted Label: 1\n",
      "Processing image from URL: https://brandperception.s3.amazonaws.com/imagenet_eval_top50_middle50_bottom50/glamorous/middle50/11078916_504287809721489_832330515_n.jpg\n"
     ]
    },
    {
     "name": "stderr",
     "output_type": "stream",
     "text": [
      "Processing images:  20%|████▌                  | 30/150 [02:45<11:32,  5.77s/it]"
     ]
    },
    {
     "name": "stdout",
     "output_type": "stream",
     "text": [
      "True Label: 1, Predicted Label: 1\n",
      "Processing image from URL: https://brandperception.s3.amazonaws.com/imagenet_eval_top50_middle50_bottom50/glamorous/top50/11856624_460983710752906_851829205_n.jpg\n"
     ]
    },
    {
     "name": "stderr",
     "output_type": "stream",
     "text": [
      "Processing images:  21%|████▊                  | 31/150 [02:52<12:13,  6.16s/it]"
     ]
    },
    {
     "name": "stdout",
     "output_type": "stream",
     "text": [
      "True Label: 1, Predicted Label: 1\n",
      "Processing image from URL: https://brandperception.s3.amazonaws.com/imagenet_eval_top50_middle50_bottom50/glamorous/middle50/1241181672644575873_230543359.jpg\n"
     ]
    },
    {
     "name": "stderr",
     "output_type": "stream",
     "text": [
      "Processing images:  21%|████▉                  | 32/150 [02:59<12:20,  6.28s/it]"
     ]
    },
    {
     "name": "stdout",
     "output_type": "stream",
     "text": [
      "True Label: 0, Predicted Label: 0\n",
      "Processing image from URL: https://brandperception.s3.amazonaws.com/imagenet_eval_top50_middle50_bottom50/glamorous/bottom50/1136189659989482640_1551217374.jpg\n"
     ]
    },
    {
     "name": "stderr",
     "output_type": "stream",
     "text": [
      "Processing images:  22%|█████                  | 33/150 [03:04<11:44,  6.02s/it]"
     ]
    },
    {
     "name": "stdout",
     "output_type": "stream",
     "text": [
      "True Label: 0, Predicted Label: 0\n",
      "Processing image from URL: https://brandperception.s3.amazonaws.com/imagenet_eval_top50_middle50_bottom50/glamorous/middle50/1241569179800603314_1471741441.jpg\n"
     ]
    },
    {
     "name": "stderr",
     "output_type": "stream",
     "text": [
      "Processing images:  23%|█████▏                 | 34/150 [03:10<11:21,  5.88s/it]"
     ]
    },
    {
     "name": "stdout",
     "output_type": "stream",
     "text": [
      "True Label: 0, Predicted Label: 1\n",
      "Processing image from URL: https://brandperception.s3.amazonaws.com/imagenet_eval_top50_middle50_bottom50/glamorous/top50/11386565_109489622719647_860677739_n.jpg\n"
     ]
    },
    {
     "name": "stderr",
     "output_type": "stream",
     "text": [
      "Processing images:  23%|█████▎                 | 35/150 [03:16<11:28,  5.99s/it]"
     ]
    },
    {
     "name": "stdout",
     "output_type": "stream",
     "text": [
      "True Label: 1, Predicted Label: 1\n",
      "Processing image from URL: https://brandperception.s3.amazonaws.com/imagenet_eval_top50_middle50_bottom50/glamorous/middle50/11939546_1656247361325932_43836209_n.jpg\n"
     ]
    },
    {
     "name": "stderr",
     "output_type": "stream",
     "text": [
      "Processing images:  24%|█████▌                 | 36/150 [03:24<12:24,  6.53s/it]"
     ]
    },
    {
     "name": "stdout",
     "output_type": "stream",
     "text": [
      "True Label: 1, Predicted Label: 1\n",
      "Processing image from URL: https://brandperception.s3.amazonaws.com/imagenet_eval_top50_middle50_bottom50/glamorous/middle50/1243318261753547171_1560476249.jpg\n"
     ]
    },
    {
     "name": "stderr",
     "output_type": "stream",
     "text": [
      "Processing images:  25%|█████▋                 | 37/150 [03:29<11:40,  6.19s/it]"
     ]
    },
    {
     "name": "stdout",
     "output_type": "stream",
     "text": [
      "True Label: 1, Predicted Label: 1\n",
      "Processing image from URL: https://brandperception.s3.amazonaws.com/imagenet_eval_top50_middle50_bottom50/glamorous/middle50/1251248306540305914_2289257358.jpg\n"
     ]
    },
    {
     "name": "stderr",
     "output_type": "stream",
     "text": [
      "Processing images:  25%|█████▊                 | 38/150 [03:34<10:57,  5.87s/it]"
     ]
    },
    {
     "name": "stdout",
     "output_type": "stream",
     "text": [
      "True Label: 0, Predicted Label: 0\n",
      "Processing image from URL: https://brandperception.s3.amazonaws.com/imagenet_eval_top50_middle50_bottom50/glamorous/bottom50/1249411016211116259_208628659.jpg\n"
     ]
    },
    {
     "name": "stderr",
     "output_type": "stream",
     "text": [
      "Processing images:  26%|█████▉                 | 39/150 [03:39<10:26,  5.65s/it]"
     ]
    },
    {
     "name": "stdout",
     "output_type": "stream",
     "text": [
      "True Label: 0, Predicted Label: 0\n",
      "Processing image from URL: https://brandperception.s3.amazonaws.com/imagenet_eval_top50_middle50_bottom50/glamorous/top50/1740137_716778921675224_513325779_n.jpg\n"
     ]
    },
    {
     "name": "stderr",
     "output_type": "stream",
     "text": [
      "Processing images:  27%|██████▏                | 40/150 [03:44<09:50,  5.37s/it]"
     ]
    },
    {
     "name": "stdout",
     "output_type": "stream",
     "text": [
      "True Label: 1, Predicted Label: 1\n",
      "Processing image from URL: https://brandperception.s3.amazonaws.com/imagenet_eval_top50_middle50_bottom50/glamorous/top50/1242972713509452617_3174878837.jpg\n"
     ]
    },
    {
     "name": "stderr",
     "output_type": "stream",
     "text": [
      "Processing images:  27%|██████▎                | 41/150 [03:50<10:03,  5.54s/it]"
     ]
    },
    {
     "name": "stdout",
     "output_type": "stream",
     "text": [
      "True Label: 1, Predicted Label: 1\n",
      "Processing image from URL: https://brandperception.s3.amazonaws.com/imagenet_eval_top50_middle50_bottom50/glamorous/top50/11296736_714889671989910_1984516365_n.jpg\n"
     ]
    },
    {
     "name": "stderr",
     "output_type": "stream",
     "text": [
      "Processing images:  28%|██████▍                | 42/150 [04:05<15:13,  8.45s/it]"
     ]
    },
    {
     "name": "stdout",
     "output_type": "stream",
     "text": [
      "True Label: 1, Predicted Label: 1\n",
      "Processing image from URL: https://brandperception.s3.amazonaws.com/imagenet_eval_top50_middle50_bottom50/glamorous/middle50/926015_169931603216372_1566996594_n.jpg\n"
     ]
    },
    {
     "name": "stderr",
     "output_type": "stream",
     "text": [
      "Processing images:  29%|██████▌                | 43/150 [04:10<12:57,  7.27s/it]"
     ]
    },
    {
     "name": "stdout",
     "output_type": "stream",
     "text": [
      "True Label: 0, Predicted Label: 1\n",
      "Processing image from URL: https://brandperception.s3.amazonaws.com/imagenet_eval_top50_middle50_bottom50/glamorous/middle50/1238857582585347217_7049894.jpg\n"
     ]
    },
    {
     "name": "stderr",
     "output_type": "stream",
     "text": [
      "Processing images:  29%|██████▋                | 44/150 [04:14<11:15,  6.37s/it]"
     ]
    },
    {
     "name": "stdout",
     "output_type": "stream",
     "text": [
      "True Label: 0, Predicted Label: 1\n",
      "Processing image from URL: https://brandperception.s3.amazonaws.com/imagenet_eval_top50_middle50_bottom50/glamorous/top50/1242423583041362428_1522889069.jpg\n"
     ]
    },
    {
     "name": "stderr",
     "output_type": "stream",
     "text": [
      "Processing images:  30%|██████▉                | 45/150 [04:21<11:44,  6.71s/it]"
     ]
    },
    {
     "name": "stdout",
     "output_type": "stream",
     "text": [
      "True Label: 1, Predicted Label: 1\n",
      "Processing image from URL: https://brandperception.s3.amazonaws.com/imagenet_eval_top50_middle50_bottom50/glamorous/bottom50/1246399184334020654_1577901079.jpg\n"
     ]
    },
    {
     "name": "stderr",
     "output_type": "stream",
     "text": [
      "Processing images:  31%|███████                | 46/150 [04:28<11:35,  6.69s/it]"
     ]
    },
    {
     "name": "stdout",
     "output_type": "stream",
     "text": [
      "True Label: 0, Predicted Label: 0\n",
      "Processing image from URL: https://brandperception.s3.amazonaws.com/imagenet_eval_top50_middle50_bottom50/glamorous/bottom50/1240277450660219449_320190481.jpg\n"
     ]
    },
    {
     "name": "stderr",
     "output_type": "stream",
     "text": [
      "Processing images:  31%|███████▏               | 47/150 [04:32<10:05,  5.88s/it]"
     ]
    },
    {
     "name": "stdout",
     "output_type": "stream",
     "text": [
      "True Label: 0, Predicted Label: 0\n",
      "Processing image from URL: https://brandperception.s3.amazonaws.com/imagenet_eval_top50_middle50_bottom50/glamorous/middle50/1241916414738183300_168212.jpg\n"
     ]
    },
    {
     "name": "stderr",
     "output_type": "stream",
     "text": [
      "Processing images:  32%|███████▎               | 48/150 [04:37<09:42,  5.72s/it]"
     ]
    },
    {
     "name": "stdout",
     "output_type": "stream",
     "text": [
      "True Label: 0, Predicted Label: 0\n",
      "Processing image from URL: https://brandperception.s3.amazonaws.com/imagenet_eval_top50_middle50_bottom50/glamorous/top50/11375940_503015593193483_515165058_n.jpg\n"
     ]
    },
    {
     "name": "stderr",
     "output_type": "stream",
     "text": [
      "Processing images:  33%|███████▌               | 49/150 [04:42<09:16,  5.51s/it]"
     ]
    },
    {
     "name": "stdout",
     "output_type": "stream",
     "text": [
      "True Label: 1, Predicted Label: 1\n",
      "Processing image from URL: https://brandperception.s3.amazonaws.com/imagenet_eval_top50_middle50_bottom50/glamorous/bottom50/13329200_1573818726249200_1072347654_n.jpg\n"
     ]
    },
    {
     "name": "stderr",
     "output_type": "stream",
     "text": [
      "Processing images:  33%|███████▋               | 50/150 [04:50<10:09,  6.09s/it]"
     ]
    },
    {
     "name": "stdout",
     "output_type": "stream",
     "text": [
      "True Label: 0, Predicted Label: 1\n",
      "Processing image from URL: https://brandperception.s3.amazonaws.com/imagenet_eval_top50_middle50_bottom50/glamorous/middle50/1515169_1590411044528243_1449709367_n.jpg\n"
     ]
    },
    {
     "name": "stderr",
     "output_type": "stream",
     "text": [
      "Processing images:  34%|███████▊               | 51/150 [04:54<09:16,  5.62s/it]"
     ]
    },
    {
     "name": "stdout",
     "output_type": "stream",
     "text": [
      "True Label: 0, Predicted Label: 1\n",
      "Processing image from URL: https://brandperception.s3.amazonaws.com/imagenet_eval_top50_middle50_bottom50/glamorous/top50/10950566_1416510271974655_1366707200_n.jpg\n"
     ]
    },
    {
     "name": "stderr",
     "output_type": "stream",
     "text": [
      "Processing images:  35%|███████▉               | 52/150 [05:07<12:37,  7.73s/it]"
     ]
    },
    {
     "name": "stdout",
     "output_type": "stream",
     "text": [
      "True Label: 1, Predicted Label: 1\n",
      "Processing image from URL: https://brandperception.s3.amazonaws.com/imagenet_eval_top50_middle50_bottom50/glamorous/bottom50/11240329_1596060333996540_1514098898_n.jpg\n"
     ]
    },
    {
     "name": "stderr",
     "output_type": "stream",
     "text": [
      "Processing images:  35%|████████▏              | 53/150 [05:14<12:08,  7.51s/it]"
     ]
    },
    {
     "name": "stdout",
     "output_type": "stream",
     "text": [
      "True Label: 0, Predicted Label: 0\n",
      "Processing image from URL: https://brandperception.s3.amazonaws.com/imagenet_eval_top50_middle50_bottom50/glamorous/top50/11004992_712601435526723_1109541692_n.jpg\n"
     ]
    },
    {
     "name": "stderr",
     "output_type": "stream",
     "text": [
      "Processing images:  36%|████████▎              | 54/150 [05:20<11:30,  7.19s/it]"
     ]
    },
    {
     "name": "stdout",
     "output_type": "stream",
     "text": [
      "True Label: 1, Predicted Label: 1\n",
      "Processing image from URL: https://brandperception.s3.amazonaws.com/imagenet_eval_top50_middle50_bottom50/glamorous/middle50/1121917921556617448_251905437.jpg\n"
     ]
    },
    {
     "name": "stderr",
     "output_type": "stream",
     "text": [
      "Processing images:  37%|████████▍              | 55/150 [05:25<09:57,  6.29s/it]"
     ]
    },
    {
     "name": "stdout",
     "output_type": "stream",
     "text": [
      "True Label: 0, Predicted Label: 0\n",
      "Processing image from URL: https://brandperception.s3.amazonaws.com/imagenet_eval_top50_middle50_bottom50/glamorous/top50/12256669_1677275382519463_1738548549_n.jpg\n"
     ]
    },
    {
     "name": "stderr",
     "output_type": "stream",
     "text": [
      "Processing images:  37%|████████▌              | 56/150 [05:31<09:51,  6.29s/it]"
     ]
    },
    {
     "name": "stdout",
     "output_type": "stream",
     "text": [
      "True Label: 1, Predicted Label: 1\n",
      "Processing image from URL: https://brandperception.s3.amazonaws.com/imagenet_eval_top50_middle50_bottom50/glamorous/top50/11280432_468611143296252_108266575_n.jpg\n"
     ]
    },
    {
     "name": "stderr",
     "output_type": "stream",
     "text": [
      "Processing images:  38%|████████▋              | 57/150 [05:37<09:37,  6.21s/it]"
     ]
    },
    {
     "name": "stdout",
     "output_type": "stream",
     "text": [
      "True Label: 1, Predicted Label: 1\n",
      "Processing image from URL: https://brandperception.s3.amazonaws.com/imagenet_eval_top50_middle50_bottom50/glamorous/bottom50/1245060789613459569_1913342909.jpg\n"
     ]
    },
    {
     "name": "stderr",
     "output_type": "stream",
     "text": [
      "Processing images:  39%|████████▉              | 58/150 [05:43<09:31,  6.21s/it]"
     ]
    },
    {
     "name": "stdout",
     "output_type": "stream",
     "text": [
      "True Label: 0, Predicted Label: 0\n",
      "Processing image from URL: https://brandperception.s3.amazonaws.com/imagenet_eval_top50_middle50_bottom50/glamorous/bottom50/11008213_387887778048031_2009236482_n.jpg\n"
     ]
    },
    {
     "name": "stderr",
     "output_type": "stream",
     "text": [
      "Processing images:  39%|█████████              | 59/150 [05:49<09:26,  6.23s/it]"
     ]
    },
    {
     "name": "stdout",
     "output_type": "stream",
     "text": [
      "True Label: 0, Predicted Label: 1\n",
      "Processing image from URL: https://brandperception.s3.amazonaws.com/imagenet_eval_top50_middle50_bottom50/glamorous/top50/12093362_1675437206076266_323412430_n.jpg\n"
     ]
    },
    {
     "name": "stderr",
     "output_type": "stream",
     "text": [
      "Processing images:  40%|█████████▏             | 60/150 [05:54<08:36,  5.74s/it]"
     ]
    },
    {
     "name": "stdout",
     "output_type": "stream",
     "text": [
      "True Label: 1, Predicted Label: 1\n",
      "Processing image from URL: https://brandperception.s3.amazonaws.com/imagenet_eval_top50_middle50_bottom50/glamorous/middle50/1239249355471718336_222890384.jpg\n"
     ]
    },
    {
     "name": "stderr",
     "output_type": "stream",
     "text": [
      "Processing images:  41%|█████████▎             | 61/150 [06:00<08:41,  5.86s/it]"
     ]
    },
    {
     "name": "stdout",
     "output_type": "stream",
     "text": [
      "True Label: 0, Predicted Label: 1\n",
      "Processing image from URL: https://brandperception.s3.amazonaws.com/imagenet_eval_top50_middle50_bottom50/glamorous/middle50/12317819_790831587689693_387490483_n.jpg\n"
     ]
    },
    {
     "name": "stderr",
     "output_type": "stream",
     "text": [
      "Processing images:  41%|█████████▌             | 62/150 [06:05<08:13,  5.61s/it]"
     ]
    },
    {
     "name": "stdout",
     "output_type": "stream",
     "text": [
      "True Label: 0, Predicted Label: 1\n",
      "Processing image from URL: https://brandperception.s3.amazonaws.com/imagenet_eval_top50_middle50_bottom50/glamorous/top50/1242501388341921127_2304115816.jpg\n"
     ]
    },
    {
     "name": "stderr",
     "output_type": "stream",
     "text": [
      "Processing images:  42%|█████████▋             | 63/150 [06:10<07:44,  5.34s/it]"
     ]
    },
    {
     "name": "stdout",
     "output_type": "stream",
     "text": [
      "True Label: 1, Predicted Label: 1\n",
      "Processing image from URL: https://brandperception.s3.amazonaws.com/imagenet_eval_top50_middle50_bottom50/glamorous/top50/11296672_382917778560576_1328914995_n.jpg\n"
     ]
    },
    {
     "name": "stderr",
     "output_type": "stream",
     "text": [
      "Processing images:  43%|█████████▊             | 64/150 [06:16<08:05,  5.64s/it]"
     ]
    },
    {
     "name": "stdout",
     "output_type": "stream",
     "text": [
      "True Label: 1, Predicted Label: 1\n",
      "Processing image from URL: https://brandperception.s3.amazonaws.com/imagenet_eval_top50_middle50_bottom50/glamorous/bottom50/13129730_1862062994021036_265142267_n.jpg\n"
     ]
    },
    {
     "name": "stderr",
     "output_type": "stream",
     "text": [
      "Processing images:  43%|█████████▉             | 65/150 [06:21<07:46,  5.49s/it]"
     ]
    },
    {
     "name": "stdout",
     "output_type": "stream",
     "text": [
      "True Label: 0, Predicted Label: 0\n",
      "Processing image from URL: https://brandperception.s3.amazonaws.com/imagenet_eval_top50_middle50_bottom50/glamorous/middle50/11246084_998240463534268_1261336239_n.jpg\n"
     ]
    },
    {
     "name": "stderr",
     "output_type": "stream",
     "text": [
      "Processing images:  44%|██████████             | 66/150 [06:27<07:44,  5.53s/it]"
     ]
    },
    {
     "name": "stdout",
     "output_type": "stream",
     "text": [
      "True Label: 1, Predicted Label: 1\n",
      "Processing image from URL: https://brandperception.s3.amazonaws.com/imagenet_eval_top50_middle50_bottom50/glamorous/top50/11280201_917295291662475_1459860404_n.jpg\n"
     ]
    },
    {
     "name": "stderr",
     "output_type": "stream",
     "text": [
      "Processing images:  45%|██████████▎            | 67/150 [06:31<07:00,  5.07s/it]"
     ]
    },
    {
     "name": "stdout",
     "output_type": "stream",
     "text": [
      "True Label: 1, Predicted Label: 1\n",
      "Processing image from URL: https://brandperception.s3.amazonaws.com/imagenet_eval_top50_middle50_bottom50/glamorous/middle50/11199550_833035526779155_1814725607_n.jpg\n"
     ]
    },
    {
     "name": "stderr",
     "output_type": "stream",
     "text": [
      "Processing images:  45%|██████████▍            | 68/150 [06:37<07:17,  5.33s/it]"
     ]
    },
    {
     "name": "stdout",
     "output_type": "stream",
     "text": [
      "True Label: 0, Predicted Label: 1\n",
      "Processing image from URL: https://brandperception.s3.amazonaws.com/imagenet_eval_top50_middle50_bottom50/glamorous/bottom50/1244863705867389227_1737055033.jpg\n"
     ]
    },
    {
     "name": "stderr",
     "output_type": "stream",
     "text": [
      "Processing images:  46%|██████████▌            | 69/150 [06:42<06:59,  5.18s/it]"
     ]
    },
    {
     "name": "stdout",
     "output_type": "stream",
     "text": [
      "True Label: 0, Predicted Label: 0\n",
      "Processing image from URL: https://brandperception.s3.amazonaws.com/imagenet_eval_top50_middle50_bottom50/glamorous/middle50/1239956603777982199_1821966414.jpg\n"
     ]
    },
    {
     "name": "stderr",
     "output_type": "stream",
     "text": [
      "Processing images:  47%|██████████▋            | 70/150 [06:46<06:40,  5.00s/it]"
     ]
    },
    {
     "name": "stdout",
     "output_type": "stream",
     "text": [
      "True Label: 0, Predicted Label: 0\n",
      "Processing image from URL: https://brandperception.s3.amazonaws.com/imagenet_eval_top50_middle50_bottom50/glamorous/top50/1661857_269624233195807_168177940_n.jpg\n"
     ]
    },
    {
     "name": "stderr",
     "output_type": "stream",
     "text": [
      "Processing images:  47%|██████████▉            | 71/150 [06:51<06:25,  4.89s/it]"
     ]
    },
    {
     "name": "stdout",
     "output_type": "stream",
     "text": [
      "True Label: 1, Predicted Label: 1\n",
      "Processing image from URL: https://brandperception.s3.amazonaws.com/imagenet_eval_top50_middle50_bottom50/glamorous/bottom50/1063804712109248842_1493962595.jpg\n"
     ]
    },
    {
     "name": "stderr",
     "output_type": "stream",
     "text": [
      "Processing images:  48%|███████████            | 72/150 [06:56<06:33,  5.05s/it]"
     ]
    },
    {
     "name": "stdout",
     "output_type": "stream",
     "text": [
      "True Label: 0, Predicted Label: 0\n",
      "Processing image from URL: https://brandperception.s3.amazonaws.com/imagenet_eval_top50_middle50_bottom50/glamorous/bottom50/1177750484499609918_2211852349.jpg\n"
     ]
    },
    {
     "name": "stderr",
     "output_type": "stream",
     "text": [
      "Processing images:  49%|███████████▏           | 73/150 [07:02<06:49,  5.31s/it]"
     ]
    },
    {
     "name": "stdout",
     "output_type": "stream",
     "text": [
      "True Label: 0, Predicted Label: 0\n",
      "Processing image from URL: https://brandperception.s3.amazonaws.com/imagenet_eval_top50_middle50_bottom50/glamorous/middle50/10296836_232214430311454_1656460558_n.jpg\n"
     ]
    },
    {
     "name": "stderr",
     "output_type": "stream",
     "text": [
      "Processing images:  49%|███████████▎           | 74/150 [07:12<08:20,  6.58s/it]"
     ]
    },
    {
     "name": "stdout",
     "output_type": "stream",
     "text": [
      "True Label: 0, Predicted Label: 1\n",
      "Processing image from URL: https://brandperception.s3.amazonaws.com/imagenet_eval_top50_middle50_bottom50/glamorous/middle50/1224823875023687772_1279598347.jpg\n"
     ]
    },
    {
     "name": "stderr",
     "output_type": "stream",
     "text": [
      "Processing images:  50%|███████████▌           | 75/150 [07:16<07:15,  5.80s/it]"
     ]
    },
    {
     "name": "stdout",
     "output_type": "stream",
     "text": [
      "True Label: 0, Predicted Label: 1\n",
      "Processing image from URL: https://brandperception.s3.amazonaws.com/imagenet_eval_top50_middle50_bottom50/glamorous/middle50/1251590483232025978_1966239986.jpg\n"
     ]
    },
    {
     "name": "stderr",
     "output_type": "stream",
     "text": [
      "Processing images:  51%|███████████▋           | 76/150 [07:21<07:03,  5.72s/it]"
     ]
    },
    {
     "name": "stdout",
     "output_type": "stream",
     "text": [
      "True Label: 0, Predicted Label: 0\n",
      "Processing image from URL: https://brandperception.s3.amazonaws.com/imagenet_eval_top50_middle50_bottom50/glamorous/middle50/1029458704422779772_1817900877.jpg\n"
     ]
    },
    {
     "name": "stderr",
     "output_type": "stream",
     "text": [
      "Processing images:  51%|███████████▊           | 77/150 [07:27<06:46,  5.57s/it]"
     ]
    },
    {
     "name": "stdout",
     "output_type": "stream",
     "text": [
      "True Label: 0, Predicted Label: 0\n",
      "Processing image from URL: https://brandperception.s3.amazonaws.com/imagenet_eval_top50_middle50_bottom50/glamorous/bottom50/1228957292536353877_2542364180.jpg\n"
     ]
    },
    {
     "name": "stderr",
     "output_type": "stream",
     "text": [
      "Processing images:  52%|███████████▉           | 78/150 [07:33<06:55,  5.78s/it]"
     ]
    },
    {
     "name": "stdout",
     "output_type": "stream",
     "text": [
      "True Label: 0, Predicted Label: 0\n",
      "Processing image from URL: https://brandperception.s3.amazonaws.com/imagenet_eval_top50_middle50_bottom50/glamorous/middle50/917827_549794728447931_1204087139_n.jpg\n"
     ]
    },
    {
     "name": "stderr",
     "output_type": "stream",
     "text": [
      "Processing images:  53%|████████████           | 79/150 [07:39<06:49,  5.76s/it]"
     ]
    },
    {
     "name": "stdout",
     "output_type": "stream",
     "text": [
      "True Label: 1, Predicted Label: 1\n",
      "Processing image from URL: https://brandperception.s3.amazonaws.com/imagenet_eval_top50_middle50_bottom50/glamorous/middle50/924370_519752694817110_1806464539_n.jpg\n"
     ]
    },
    {
     "name": "stderr",
     "output_type": "stream",
     "text": [
      "Processing images:  53%|████████████▎          | 80/150 [07:49<08:23,  7.20s/it]"
     ]
    },
    {
     "name": "stdout",
     "output_type": "stream",
     "text": [
      "True Label: 0, Predicted Label: 1\n",
      "Processing image from URL: https://brandperception.s3.amazonaws.com/imagenet_eval_top50_middle50_bottom50/glamorous/top50/10246229_652017988187468_2069330820_n.jpg\n"
     ]
    },
    {
     "name": "stderr",
     "output_type": "stream",
     "text": [
      "Processing images:  54%|████████████▍          | 81/150 [07:56<08:09,  7.10s/it]"
     ]
    },
    {
     "name": "stdout",
     "output_type": "stream",
     "text": [
      "True Label: 0, Predicted Label: 1\n",
      "Processing image from URL: https://brandperception.s3.amazonaws.com/imagenet_eval_top50_middle50_bottom50/glamorous/top50/1222389032211010722_1674989436.jpg\n"
     ]
    },
    {
     "name": "stderr",
     "output_type": "stream",
     "text": [
      "Processing images:  55%|████████████▌          | 82/150 [08:02<07:34,  6.69s/it]"
     ]
    },
    {
     "name": "stdout",
     "output_type": "stream",
     "text": [
      "True Label: 1, Predicted Label: 1\n",
      "Processing image from URL: https://brandperception.s3.amazonaws.com/imagenet_eval_top50_middle50_bottom50/glamorous/top50/12383251_1110529708992180_1097631384_n.jpg\n"
     ]
    },
    {
     "name": "stderr",
     "output_type": "stream",
     "text": [
      "Processing images:  55%|████████████▋          | 83/150 [08:09<07:47,  6.99s/it]"
     ]
    },
    {
     "name": "stdout",
     "output_type": "stream",
     "text": [
      "True Label: 1, Predicted Label: 1\n",
      "Processing image from URL: https://brandperception.s3.amazonaws.com/imagenet_eval_top50_middle50_bottom50/glamorous/middle50/1250504677999437450_1790086976.jpg\n"
     ]
    },
    {
     "name": "stderr",
     "output_type": "stream",
     "text": [
      "Processing images:  56%|████████████▉          | 84/150 [08:16<07:42,  7.01s/it]"
     ]
    },
    {
     "name": "stdout",
     "output_type": "stream",
     "text": [
      "True Label: 0, Predicted Label: 0\n",
      "Processing image from URL: https://brandperception.s3.amazonaws.com/imagenet_eval_top50_middle50_bottom50/glamorous/bottom50/1237340675647218585_2136036543.jpg\n"
     ]
    },
    {
     "name": "stderr",
     "output_type": "stream",
     "text": [
      "Processing images:  57%|█████████████          | 85/150 [08:23<07:32,  6.96s/it]"
     ]
    },
    {
     "name": "stdout",
     "output_type": "stream",
     "text": [
      "True Label: 0, Predicted Label: 0\n",
      "Processing image from URL: https://brandperception.s3.amazonaws.com/imagenet_eval_top50_middle50_bottom50/glamorous/top50/1242972713509452617_3174878837.jpg\n"
     ]
    },
    {
     "name": "stderr",
     "output_type": "stream",
     "text": [
      "Processing images:  57%|█████████████▏         | 86/150 [08:28<06:46,  6.35s/it]"
     ]
    },
    {
     "name": "stdout",
     "output_type": "stream",
     "text": [
      "True Label: 1, Predicted Label: 1\n",
      "Processing image from URL: https://brandperception.s3.amazonaws.com/imagenet_eval_top50_middle50_bottom50/glamorous/bottom50/1241939216091931510_2307229695.jpg\n"
     ]
    },
    {
     "name": "stderr",
     "output_type": "stream",
     "text": [
      "Processing images:  58%|█████████████▎         | 87/150 [08:34<06:24,  6.10s/it]"
     ]
    },
    {
     "name": "stdout",
     "output_type": "stream",
     "text": [
      "True Label: 0, Predicted Label: 0\n",
      "Processing image from URL: https://brandperception.s3.amazonaws.com/imagenet_eval_top50_middle50_bottom50/glamorous/top50/1242759769348260130_494092447.jpg\n"
     ]
    },
    {
     "name": "stderr",
     "output_type": "stream",
     "text": [
      "Processing images:  59%|█████████████▍         | 88/150 [08:39<05:58,  5.78s/it]"
     ]
    },
    {
     "name": "stdout",
     "output_type": "stream",
     "text": [
      "True Label: 0, Predicted Label: 1\n",
      "Processing image from URL: https://brandperception.s3.amazonaws.com/imagenet_eval_top50_middle50_bottom50/glamorous/middle50/1241386147740589039_1735987757.jpg\n"
     ]
    },
    {
     "name": "stderr",
     "output_type": "stream",
     "text": [
      "Processing images:  59%|█████████████▋         | 89/150 [08:44<05:34,  5.49s/it]"
     ]
    },
    {
     "name": "stdout",
     "output_type": "stream",
     "text": [
      "True Label: 0, Predicted Label: 1\n",
      "Processing image from URL: https://brandperception.s3.amazonaws.com/imagenet_eval_top50_middle50_bottom50/glamorous/middle50/12142595_1516467278646006_280078298_n.jpg\n"
     ]
    },
    {
     "name": "stderr",
     "output_type": "stream",
     "text": [
      "Processing images:  60%|█████████████▊         | 90/150 [08:50<05:41,  5.69s/it]"
     ]
    },
    {
     "name": "stdout",
     "output_type": "stream",
     "text": [
      "True Label: 1, Predicted Label: 1\n",
      "Processing image from URL: https://brandperception.s3.amazonaws.com/imagenet_eval_top50_middle50_bottom50/glamorous/bottom50/1236416047432174583_36014705.jpg\n"
     ]
    },
    {
     "name": "stderr",
     "output_type": "stream",
     "text": [
      "Processing images:  61%|█████████████▉         | 91/150 [08:57<05:56,  6.04s/it]"
     ]
    },
    {
     "name": "stdout",
     "output_type": "stream",
     "text": [
      "True Label: 0, Predicted Label: 1\n",
      "Processing image from URL: https://brandperception.s3.amazonaws.com/imagenet_eval_top50_middle50_bottom50/glamorous/bottom50/11199458_107505079580464_2110791028_n.jpg\n"
     ]
    },
    {
     "name": "stderr",
     "output_type": "stream",
     "text": [
      "Processing images:  61%|██████████████         | 92/150 [09:02<05:29,  5.69s/it]"
     ]
    },
    {
     "name": "stdout",
     "output_type": "stream",
     "text": [
      "True Label: 0, Predicted Label: 1\n",
      "Processing image from URL: https://brandperception.s3.amazonaws.com/imagenet_eval_top50_middle50_bottom50/glamorous/bottom50/1245037762848785491_617080800.jpg\n"
     ]
    },
    {
     "name": "stderr",
     "output_type": "stream",
     "text": [
      "Processing images:  62%|██████████████▎        | 93/150 [09:06<05:08,  5.42s/it]"
     ]
    },
    {
     "name": "stdout",
     "output_type": "stream",
     "text": [
      "True Label: 0, Predicted Label: 0\n",
      "Processing image from URL: https://brandperception.s3.amazonaws.com/imagenet_eval_top50_middle50_bottom50/glamorous/top50/11265681_513325245489496_1041724334_n.jpg\n"
     ]
    },
    {
     "name": "stderr",
     "output_type": "stream",
     "text": [
      "Processing images:  63%|██████████████▍        | 94/150 [09:12<05:08,  5.50s/it]"
     ]
    },
    {
     "name": "stdout",
     "output_type": "stream",
     "text": [
      "True Label: 1, Predicted Label: 1\n",
      "Processing image from URL: https://brandperception.s3.amazonaws.com/imagenet_eval_top50_middle50_bottom50/glamorous/bottom50/1244923971213165479_31355479.jpg\n"
     ]
    },
    {
     "name": "stderr",
     "output_type": "stream",
     "text": [
      "Processing images:  63%|██████████████▌        | 95/150 [09:17<04:46,  5.20s/it]"
     ]
    },
    {
     "name": "stdout",
     "output_type": "stream",
     "text": [
      "True Label: 0, Predicted Label: 0\n",
      "Processing image from URL: https://brandperception.s3.amazonaws.com/imagenet_eval_top50_middle50_bottom50/glamorous/bottom50/1237804483462059178_2976712324.jpg\n"
     ]
    },
    {
     "name": "stderr",
     "output_type": "stream",
     "text": [
      "Processing images:  64%|██████████████▋        | 96/150 [09:22<04:42,  5.24s/it]"
     ]
    },
    {
     "name": "stdout",
     "output_type": "stream",
     "text": [
      "True Label: 0, Predicted Label: 0\n",
      "Processing image from URL: https://brandperception.s3.amazonaws.com/imagenet_eval_top50_middle50_bottom50/glamorous/bottom50/1238447150701157485_328622246.jpg\n"
     ]
    },
    {
     "name": "stderr",
     "output_type": "stream",
     "text": [
      "Processing images:  65%|██████████████▊        | 97/150 [09:29<05:13,  5.91s/it]"
     ]
    },
    {
     "name": "stdout",
     "output_type": "stream",
     "text": [
      "True Label: 0, Predicted Label: 0\n",
      "Processing image from URL: https://brandperception.s3.amazonaws.com/imagenet_eval_top50_middle50_bottom50/glamorous/middle50/1241066190081225574_366870635.jpg\n"
     ]
    },
    {
     "name": "stderr",
     "output_type": "stream",
     "text": [
      "Processing images:  65%|███████████████        | 98/150 [09:34<04:43,  5.46s/it]"
     ]
    },
    {
     "name": "stdout",
     "output_type": "stream",
     "text": [
      "True Label: 0, Predicted Label: 0\n",
      "Processing image from URL: https://brandperception.s3.amazonaws.com/imagenet_eval_top50_middle50_bottom50/glamorous/middle50/1237117208435192488_1536684955.jpg\n"
     ]
    },
    {
     "name": "stderr",
     "output_type": "stream",
     "text": [
      "Processing images:  66%|███████████████▏       | 99/150 [09:44<05:45,  6.77s/it]"
     ]
    },
    {
     "name": "stdout",
     "output_type": "stream",
     "text": [
      "True Label: 1, Predicted Label: 1\n",
      "Processing image from URL: https://brandperception.s3.amazonaws.com/imagenet_eval_top50_middle50_bottom50/glamorous/bottom50/1072519023243151545_1664494209.jpg\n"
     ]
    },
    {
     "name": "stderr",
     "output_type": "stream",
     "text": [
      "Processing images:  67%|██████████████▋       | 100/150 [09:50<05:39,  6.80s/it]"
     ]
    },
    {
     "name": "stdout",
     "output_type": "stream",
     "text": [
      "True Label: 0, Predicted Label: 0\n",
      "Processing image from URL: https://brandperception.s3.amazonaws.com/imagenet_eval_top50_middle50_bottom50/glamorous/top50/10665518_287437864779752_2065292832_n.jpg\n"
     ]
    },
    {
     "name": "stderr",
     "output_type": "stream",
     "text": [
      "Processing images:  67%|██████████████▊       | 101/150 [09:56<05:20,  6.54s/it]"
     ]
    },
    {
     "name": "stdout",
     "output_type": "stream",
     "text": [
      "True Label: 1, Predicted Label: 1\n",
      "Processing image from URL: https://brandperception.s3.amazonaws.com/imagenet_eval_top50_middle50_bottom50/glamorous/top50/11191093_379529018915761_1709712369_n.jpg\n"
     ]
    },
    {
     "name": "stderr",
     "output_type": "stream",
     "text": [
      "Processing images:  68%|██████████████▉       | 102/150 [10:04<05:31,  6.91s/it]"
     ]
    },
    {
     "name": "stdout",
     "output_type": "stream",
     "text": [
      "True Label: 1, Predicted Label: 1\n",
      "Processing image from URL: https://brandperception.s3.amazonaws.com/imagenet_eval_top50_middle50_bottom50/glamorous/middle50/1251630497795685062_3194872573.jpg\n"
     ]
    },
    {
     "name": "stderr",
     "output_type": "stream",
     "text": [
      "Processing images:  69%|███████████████       | 103/150 [10:09<04:56,  6.31s/it]"
     ]
    },
    {
     "name": "stdout",
     "output_type": "stream",
     "text": [
      "True Label: 0, Predicted Label: 1\n",
      "Processing image from URL: https://brandperception.s3.amazonaws.com/imagenet_eval_top50_middle50_bottom50/glamorous/bottom50/1225903803463698616_282124161.jpg\n"
     ]
    },
    {
     "name": "stderr",
     "output_type": "stream",
     "text": [
      "Processing images:  69%|███████████████▎      | 104/150 [10:14<04:36,  6.02s/it]"
     ]
    },
    {
     "name": "stdout",
     "output_type": "stream",
     "text": [
      "True Label: 0, Predicted Label: 0\n",
      "Processing image from URL: https://brandperception.s3.amazonaws.com/imagenet_eval_top50_middle50_bottom50/glamorous/middle50/1243348383879880217_2144243542.jpg\n"
     ]
    },
    {
     "name": "stderr",
     "output_type": "stream",
     "text": [
      "Processing images:  70%|███████████████▍      | 105/150 [10:19<04:13,  5.63s/it]"
     ]
    },
    {
     "name": "stdout",
     "output_type": "stream",
     "text": [
      "True Label: 0, Predicted Label: 1\n",
      "Processing image from URL: https://brandperception.s3.amazonaws.com/imagenet_eval_top50_middle50_bottom50/glamorous/top50/11007802_644418972330594_855182350_n.jpg\n"
     ]
    },
    {
     "name": "stderr",
     "output_type": "stream",
     "text": [
      "Processing images:  71%|███████████████▌      | 106/150 [10:27<04:40,  6.36s/it]"
     ]
    },
    {
     "name": "stdout",
     "output_type": "stream",
     "text": [
      "True Label: 1, Predicted Label: 1\n",
      "Processing image from URL: https://brandperception.s3.amazonaws.com/imagenet_eval_top50_middle50_bottom50/glamorous/middle50/13398828_1383050295042388_648624492_n.jpg\n"
     ]
    },
    {
     "name": "stderr",
     "output_type": "stream",
     "text": [
      "Processing images:  71%|███████████████▋      | 107/150 [10:34<04:36,  6.42s/it]"
     ]
    },
    {
     "name": "stdout",
     "output_type": "stream",
     "text": [
      "True Label: 1, Predicted Label: 1\n",
      "Processing image from URL: https://brandperception.s3.amazonaws.com/imagenet_eval_top50_middle50_bottom50/glamorous/top50/12071181_139984556354795_1743709666_n.jpg\n"
     ]
    },
    {
     "name": "stderr",
     "output_type": "stream",
     "text": [
      "Processing images:  72%|███████████████▊      | 108/150 [10:46<05:43,  8.18s/it]"
     ]
    },
    {
     "name": "stdout",
     "output_type": "stream",
     "text": [
      "True Label: 1, Predicted Label: 1\n",
      "Processing image from URL: https://brandperception.s3.amazonaws.com/imagenet_eval_top50_middle50_bottom50/glamorous/top50/10569955_777581938946568_2024199154_n.jpg\n"
     ]
    },
    {
     "name": "stderr",
     "output_type": "stream",
     "text": [
      "Processing images:  73%|███████████████▉      | 109/150 [10:52<05:09,  7.54s/it]"
     ]
    },
    {
     "name": "stdout",
     "output_type": "stream",
     "text": [
      "True Label: 1, Predicted Label: 1\n",
      "Processing image from URL: https://brandperception.s3.amazonaws.com/imagenet_eval_top50_middle50_bottom50/glamorous/top50/11280412_493680967461060_1698864592_n.jpg\n"
     ]
    },
    {
     "name": "stderr",
     "output_type": "stream",
     "text": [
      "Processing images:  73%|████████████████▏     | 110/150 [11:00<05:06,  7.67s/it]"
     ]
    },
    {
     "name": "stdout",
     "output_type": "stream",
     "text": [
      "True Label: 1, Predicted Label: 1\n",
      "Processing image from URL: https://brandperception.s3.amazonaws.com/imagenet_eval_top50_middle50_bottom50/glamorous/bottom50/1238697518771562945_218455601.jpg\n"
     ]
    },
    {
     "name": "stderr",
     "output_type": "stream",
     "text": [
      "Processing images:  74%|████████████████▎     | 111/150 [11:06<04:41,  7.21s/it]"
     ]
    },
    {
     "name": "stdout",
     "output_type": "stream",
     "text": [
      "True Label: 0, Predicted Label: 1\n",
      "Processing image from URL: https://brandperception.s3.amazonaws.com/imagenet_eval_top50_middle50_bottom50/glamorous/bottom50/1235376417914649169_2314008229.jpg\n"
     ]
    },
    {
     "name": "stderr",
     "output_type": "stream",
     "text": [
      "Processing images:  75%|████████████████▍     | 112/150 [11:13<04:27,  7.05s/it]"
     ]
    },
    {
     "name": "stdout",
     "output_type": "stream",
     "text": [
      "True Label: 0, Predicted Label: 0\n",
      "Processing image from URL: https://brandperception.s3.amazonaws.com/imagenet_eval_top50_middle50_bottom50/glamorous/middle50/11184500_1657918981109241_649136002_n.jpg\n"
     ]
    },
    {
     "name": "stderr",
     "output_type": "stream",
     "text": [
      "Processing images:  75%|████████████████▌     | 113/150 [11:17<03:53,  6.32s/it]"
     ]
    },
    {
     "name": "stdout",
     "output_type": "stream",
     "text": [
      "True Label: 0, Predicted Label: 0\n",
      "Processing image from URL: https://brandperception.s3.amazonaws.com/imagenet_eval_top50_middle50_bottom50/glamorous/middle50/1239913003511151799_1776987782.jpg\n"
     ]
    },
    {
     "name": "stderr",
     "output_type": "stream",
     "text": [
      "Processing images:  76%|████████████████▋     | 114/150 [11:22<03:26,  5.74s/it]"
     ]
    },
    {
     "name": "stdout",
     "output_type": "stream",
     "text": [
      "True Label: 0, Predicted Label: 0\n",
      "Processing image from URL: https://brandperception.s3.amazonaws.com/imagenet_eval_top50_middle50_bottom50/glamorous/middle50/1122998110680010206_1272945274.jpg\n"
     ]
    },
    {
     "name": "stderr",
     "output_type": "stream",
     "text": [
      "Processing images:  77%|████████████████▊     | 115/150 [11:27<03:10,  5.43s/it]"
     ]
    },
    {
     "name": "stdout",
     "output_type": "stream",
     "text": [
      "True Label: 0, Predicted Label: 0\n",
      "Processing image from URL: https://brandperception.s3.amazonaws.com/imagenet_eval_top50_middle50_bottom50/glamorous/bottom50/1210658611239748140_1292433487.jpg\n"
     ]
    },
    {
     "name": "stderr",
     "output_type": "stream",
     "text": [
      "Processing images:  77%|█████████████████     | 116/150 [11:32<03:01,  5.34s/it]"
     ]
    },
    {
     "name": "stdout",
     "output_type": "stream",
     "text": [
      "True Label: 0, Predicted Label: 0\n",
      "Processing image from URL: https://brandperception.s3.amazonaws.com/imagenet_eval_top50_middle50_bottom50/glamorous/middle50/1241126901716635249_225205018.jpg\n"
     ]
    },
    {
     "name": "stderr",
     "output_type": "stream",
     "text": [
      "Processing images:  78%|█████████████████▏    | 117/150 [11:40<03:21,  6.10s/it]"
     ]
    },
    {
     "name": "stdout",
     "output_type": "stream",
     "text": [
      "Failed to process image from URL: https://brandperception.s3.amazonaws.com/imagenet_eval_top50_middle50_bottom50/glamorous/middle50/1241126901716635249_225205018.jpg. Error: Error code: 400 - {'error': {'message': 'Timeout while downloading https://brandperception.s3.amazonaws.com/imagenet_eval_top50_middle50_bottom50/glamorous/middle50/1241126901716635249_225205018.jpg.', 'type': 'invalid_request_error', 'param': None, 'code': 'invalid_image_url'}}\n",
      "Processing image from URL: https://brandperception.s3.amazonaws.com/imagenet_eval_top50_middle50_bottom50/glamorous/middle50/1241682815092513423_2275284853.jpg\n"
     ]
    },
    {
     "name": "stderr",
     "output_type": "stream",
     "text": [
      "Processing images:  79%|█████████████████▎    | 118/150 [11:44<03:01,  5.68s/it]"
     ]
    },
    {
     "name": "stdout",
     "output_type": "stream",
     "text": [
      "True Label: 1, Predicted Label: 1\n",
      "Processing image from URL: https://brandperception.s3.amazonaws.com/imagenet_eval_top50_middle50_bottom50/glamorous/bottom50/1245266612933941447_337451333.jpg\n"
     ]
    },
    {
     "name": "stderr",
     "output_type": "stream",
     "text": [
      "Processing images:  79%|█████████████████▍    | 119/150 [11:48<02:41,  5.21s/it]"
     ]
    },
    {
     "name": "stdout",
     "output_type": "stream",
     "text": [
      "True Label: 0, Predicted Label: 0\n",
      "Processing image from URL: https://brandperception.s3.amazonaws.com/imagenet_eval_top50_middle50_bottom50/glamorous/bottom50/1126789420627766251_211128049.jpg\n"
     ]
    },
    {
     "name": "stderr",
     "output_type": "stream",
     "text": [
      "Processing images:  80%|█████████████████▌    | 120/150 [11:53<02:29,  5.00s/it]"
     ]
    },
    {
     "name": "stdout",
     "output_type": "stream",
     "text": [
      "True Label: 0, Predicted Label: 0\n",
      "Processing image from URL: https://brandperception.s3.amazonaws.com/imagenet_eval_top50_middle50_bottom50/glamorous/bottom50/1167219977711530009_1634568851.jpg\n"
     ]
    },
    {
     "name": "stderr",
     "output_type": "stream",
     "text": [
      "Processing images:  81%|█████████████████▋    | 121/150 [11:57<02:19,  4.82s/it]"
     ]
    },
    {
     "name": "stdout",
     "output_type": "stream",
     "text": [
      "True Label: 0, Predicted Label: 1\n",
      "Processing image from URL: https://brandperception.s3.amazonaws.com/imagenet_eval_top50_middle50_bottom50/glamorous/middle50/1241489278110848632_1410644148.jpg\n"
     ]
    },
    {
     "name": "stderr",
     "output_type": "stream",
     "text": [
      "Processing images:  81%|█████████████████▉    | 122/150 [12:06<02:44,  5.89s/it]"
     ]
    },
    {
     "name": "stdout",
     "output_type": "stream",
     "text": [
      "True Label: 0, Predicted Label: 0\n",
      "Processing image from URL: https://brandperception.s3.amazonaws.com/imagenet_eval_top50_middle50_bottom50/glamorous/middle50/12424756_261124687555933_1672676548_n.jpg\n"
     ]
    },
    {
     "name": "stderr",
     "output_type": "stream",
     "text": [
      "Processing images:  82%|██████████████████    | 123/150 [12:11<02:33,  5.67s/it]"
     ]
    },
    {
     "name": "stdout",
     "output_type": "stream",
     "text": [
      "True Label: 0, Predicted Label: 1\n",
      "Processing image from URL: https://brandperception.s3.amazonaws.com/imagenet_eval_top50_middle50_bottom50/glamorous/middle50/10375663_558750617573134_158440555_n.jpg\n"
     ]
    },
    {
     "name": "stderr",
     "output_type": "stream",
     "text": [
      "Processing images:  83%|██████████████████▏   | 124/150 [12:16<02:26,  5.62s/it]"
     ]
    },
    {
     "name": "stdout",
     "output_type": "stream",
     "text": [
      "True Label: 0, Predicted Label: 0\n",
      "Processing image from URL: https://brandperception.s3.amazonaws.com/imagenet_eval_top50_middle50_bottom50/glamorous/top50/10617017_681125188641132_1365198426_n.jpg\n"
     ]
    },
    {
     "name": "stderr",
     "output_type": "stream",
     "text": [
      "Processing images:  83%|██████████████████▎   | 125/150 [12:22<02:22,  5.68s/it]"
     ]
    },
    {
     "name": "stdout",
     "output_type": "stream",
     "text": [
      "True Label: 1, Predicted Label: 1\n",
      "Processing image from URL: https://brandperception.s3.amazonaws.com/imagenet_eval_top50_middle50_bottom50/glamorous/top50/1242990358140169485_1598442954.jpg\n"
     ]
    },
    {
     "name": "stderr",
     "output_type": "stream",
     "text": [
      "Processing images:  84%|██████████████████▍   | 126/150 [12:26<02:04,  5.21s/it]"
     ]
    },
    {
     "name": "stdout",
     "output_type": "stream",
     "text": [
      "True Label: 1, Predicted Label: 1\n",
      "Processing image from URL: https://brandperception.s3.amazonaws.com/imagenet_eval_top50_middle50_bottom50/glamorous/bottom50/1244884820505630155_2190950228.jpg\n"
     ]
    },
    {
     "name": "stderr",
     "output_type": "stream",
     "text": [
      "Processing images:  85%|██████████████████▋   | 127/150 [12:32<02:00,  5.23s/it]"
     ]
    },
    {
     "name": "stdout",
     "output_type": "stream",
     "text": [
      "True Label: 0, Predicted Label: 0\n",
      "Processing image from URL: https://brandperception.s3.amazonaws.com/imagenet_eval_top50_middle50_bottom50/glamorous/middle50/1251749002866350792_9074885.jpg\n"
     ]
    },
    {
     "name": "stderr",
     "output_type": "stream",
     "text": [
      "Processing images:  85%|██████████████████▊   | 128/150 [12:36<01:52,  5.13s/it]"
     ]
    },
    {
     "name": "stdout",
     "output_type": "stream",
     "text": [
      "True Label: 1, Predicted Label: 1\n",
      "Processing image from URL: https://brandperception.s3.amazonaws.com/imagenet_eval_top50_middle50_bottom50/glamorous/bottom50/1122499725393951973_588666310.jpg\n"
     ]
    },
    {
     "name": "stderr",
     "output_type": "stream",
     "text": [
      "Processing images:  86%|██████████████████▉   | 129/150 [12:41<01:42,  4.90s/it]"
     ]
    },
    {
     "name": "stdout",
     "output_type": "stream",
     "text": [
      "True Label: 0, Predicted Label: 0\n",
      "Processing image from URL: https://brandperception.s3.amazonaws.com/imagenet_eval_top50_middle50_bottom50/glamorous/bottom50/1244230188439326726_1058708987.jpg\n"
     ]
    },
    {
     "name": "stderr",
     "output_type": "stream",
     "text": [
      "Processing images:  87%|███████████████████   | 130/150 [12:46<01:38,  4.90s/it]"
     ]
    },
    {
     "name": "stdout",
     "output_type": "stream",
     "text": [
      "True Label: 0, Predicted Label: 1\n",
      "Processing image from URL: https://brandperception.s3.amazonaws.com/imagenet_eval_top50_middle50_bottom50/glamorous/bottom50/1238562538302872956_2910722438.jpg\n"
     ]
    },
    {
     "name": "stderr",
     "output_type": "stream",
     "text": [
      "Processing images:  87%|███████████████████▏  | 131/150 [12:51<01:34,  4.97s/it]"
     ]
    },
    {
     "name": "stdout",
     "output_type": "stream",
     "text": [
      "True Label: 0, Predicted Label: 0\n",
      "Processing image from URL: https://brandperception.s3.amazonaws.com/imagenet_eval_top50_middle50_bottom50/glamorous/middle50/1237046999768736740_30042919.jpg\n"
     ]
    },
    {
     "name": "stderr",
     "output_type": "stream",
     "text": [
      "Processing images:  88%|███████████████████▎  | 132/150 [12:55<01:25,  4.77s/it]"
     ]
    },
    {
     "name": "stdout",
     "output_type": "stream",
     "text": [
      "True Label: 0, Predicted Label: 0\n",
      "Processing image from URL: https://brandperception.s3.amazonaws.com/imagenet_eval_top50_middle50_bottom50/glamorous/middle50/1243348516035262010_1638304764.jpg\n"
     ]
    },
    {
     "name": "stderr",
     "output_type": "stream",
     "text": [
      "Processing images:  89%|███████████████████▌  | 133/150 [13:00<01:20,  4.75s/it]"
     ]
    },
    {
     "name": "stdout",
     "output_type": "stream",
     "text": [
      "True Label: 0, Predicted Label: 1\n",
      "Processing image from URL: https://brandperception.s3.amazonaws.com/imagenet_eval_top50_middle50_bottom50/glamorous/top50/1243348301656001890_686844770.jpg\n"
     ]
    },
    {
     "name": "stderr",
     "output_type": "stream",
     "text": [
      "Processing images:  89%|███████████████████▋  | 134/150 [13:05<01:19,  4.98s/it]"
     ]
    },
    {
     "name": "stdout",
     "output_type": "stream",
     "text": [
      "True Label: 1, Predicted Label: 1\n",
      "Processing image from URL: https://brandperception.s3.amazonaws.com/imagenet_eval_top50_middle50_bottom50/glamorous/bottom50/1242893887920713951_2542460299.jpg\n"
     ]
    },
    {
     "name": "stderr",
     "output_type": "stream",
     "text": [
      "Processing images:  90%|███████████████████▊  | 135/150 [13:12<01:20,  5.36s/it]"
     ]
    },
    {
     "name": "stdout",
     "output_type": "stream",
     "text": [
      "True Label: 0, Predicted Label: 0\n",
      "Processing image from URL: https://brandperception.s3.amazonaws.com/imagenet_eval_top50_middle50_bottom50/glamorous/bottom50/1241338146575290928_192624291.jpg\n"
     ]
    },
    {
     "name": "stderr",
     "output_type": "stream",
     "text": [
      "Processing images:  91%|███████████████████▉  | 136/150 [13:17<01:16,  5.44s/it]"
     ]
    },
    {
     "name": "stdout",
     "output_type": "stream",
     "text": [
      "True Label: 0, Predicted Label: 1\n",
      "Processing image from URL: https://brandperception.s3.amazonaws.com/imagenet_eval_top50_middle50_bottom50/glamorous/top50/1172246_554868227926172_721301188_n.jpg\n"
     ]
    },
    {
     "name": "stderr",
     "output_type": "stream",
     "text": [
      "Processing images:  91%|████████████████████  | 137/150 [13:23<01:11,  5.52s/it]"
     ]
    },
    {
     "name": "stdout",
     "output_type": "stream",
     "text": [
      "True Label: 1, Predicted Label: 1\n",
      "Processing image from URL: https://brandperception.s3.amazonaws.com/imagenet_eval_top50_middle50_bottom50/glamorous/top50/10895273_580275598740479_933435362_n.jpg\n"
     ]
    },
    {
     "name": "stderr",
     "output_type": "stream",
     "text": [
      "Processing images:  92%|████████████████████▏ | 138/150 [13:36<01:33,  7.81s/it]"
     ]
    },
    {
     "name": "stdout",
     "output_type": "stream",
     "text": [
      "True Label: 1, Predicted Label: 1\n",
      "Processing image from URL: https://brandperception.s3.amazonaws.com/imagenet_eval_top50_middle50_bottom50/glamorous/middle50/1243095137430767407_3133536248.jpg\n"
     ]
    },
    {
     "name": "stderr",
     "output_type": "stream",
     "text": [
      "Processing images:  93%|████████████████████▍ | 139/150 [13:41<01:15,  6.84s/it]"
     ]
    },
    {
     "name": "stdout",
     "output_type": "stream",
     "text": [
      "True Label: 0, Predicted Label: 0\n",
      "Processing image from URL: https://brandperception.s3.amazonaws.com/imagenet_eval_top50_middle50_bottom50/glamorous/top50/11249951_418748538295188_1396016225_n.jpg\n"
     ]
    },
    {
     "name": "stderr",
     "output_type": "stream",
     "text": [
      "Processing images:  93%|████████████████████▌ | 140/150 [13:45<01:00,  6.09s/it]"
     ]
    },
    {
     "name": "stdout",
     "output_type": "stream",
     "text": [
      "True Label: 1, Predicted Label: 1\n",
      "Processing image from URL: https://brandperception.s3.amazonaws.com/imagenet_eval_top50_middle50_bottom50/glamorous/bottom50/1210151720001825558_218455601.jpg\n"
     ]
    },
    {
     "name": "stderr",
     "output_type": "stream",
     "text": [
      "Processing images:  94%|████████████████████▋ | 141/150 [13:50<00:50,  5.61s/it]"
     ]
    },
    {
     "name": "stdout",
     "output_type": "stream",
     "text": [
      "True Label: 0, Predicted Label: 1\n",
      "Processing image from URL: https://brandperception.s3.amazonaws.com/imagenet_eval_top50_middle50_bottom50/glamorous/bottom50/1088732765152693732_1450079178.jpg\n"
     ]
    },
    {
     "name": "stderr",
     "output_type": "stream",
     "text": [
      "Processing images:  95%|████████████████████▊ | 142/150 [16:16<06:24, 48.01s/it]"
     ]
    },
    {
     "name": "stdout",
     "output_type": "stream",
     "text": [
      "True Label: 0, Predicted Label: 0\n",
      "Processing image from URL: https://brandperception.s3.amazonaws.com/imagenet_eval_top50_middle50_bottom50/glamorous/bottom50/1245157652541092303_465726163.jpg\n"
     ]
    },
    {
     "name": "stderr",
     "output_type": "stream",
     "text": [
      "Processing images:  95%|████████████████████▉ | 143/150 [16:21<04:05, 35.02s/it]"
     ]
    },
    {
     "name": "stdout",
     "output_type": "stream",
     "text": [
      "True Label: 0, Predicted Label: 0\n",
      "Processing image from URL: https://brandperception.s3.amazonaws.com/imagenet_eval_top50_middle50_bottom50/glamorous/top50/11245883_683907978387578_1517267873_n.jpg\n"
     ]
    },
    {
     "name": "stderr",
     "output_type": "stream",
     "text": [
      "Processing images:  96%|█████████████████████ | 144/150 [16:25<02:33, 25.66s/it]"
     ]
    },
    {
     "name": "stdout",
     "output_type": "stream",
     "text": [
      "True Label: 1, Predicted Label: 1\n",
      "Processing image from URL: https://brandperception.s3.amazonaws.com/imagenet_eval_top50_middle50_bottom50/glamorous/top50/11208355_649227208540556_388240820_n.jpg\n"
     ]
    },
    {
     "name": "stderr",
     "output_type": "stream",
     "text": [
      "Processing images:  97%|█████████████████████▎| 145/150 [16:31<01:38, 19.74s/it]"
     ]
    },
    {
     "name": "stdout",
     "output_type": "stream",
     "text": [
      "True Label: 1, Predicted Label: 1\n",
      "Processing image from URL: https://brandperception.s3.amazonaws.com/imagenet_eval_top50_middle50_bottom50/glamorous/bottom50/11203381_1590571134546709_266677889_n.jpg\n"
     ]
    },
    {
     "name": "stderr",
     "output_type": "stream",
     "text": [
      "Processing images:  97%|█████████████████████▍| 146/150 [16:37<01:02, 15.63s/it]"
     ]
    },
    {
     "name": "stdout",
     "output_type": "stream",
     "text": [
      "True Label: 0, Predicted Label: 0\n",
      "Processing image from URL: https://brandperception.s3.amazonaws.com/imagenet_eval_top50_middle50_bottom50/glamorous/top50/926740_572815486149892_743318932_n.jpg\n"
     ]
    },
    {
     "name": "stderr",
     "output_type": "stream",
     "text": [
      "Processing images:  98%|█████████████████████▌| 147/150 [16:42<00:37, 12.54s/it]"
     ]
    },
    {
     "name": "stdout",
     "output_type": "stream",
     "text": [
      "True Label: 1, Predicted Label: 1\n",
      "Processing image from URL: https://brandperception.s3.amazonaws.com/imagenet_eval_top50_middle50_bottom50/glamorous/top50/12353815_180278942324830_815405400_n.jpg\n"
     ]
    },
    {
     "name": "stderr",
     "output_type": "stream",
     "text": [
      "Processing images:  99%|█████████████████████▋| 148/150 [16:48<00:20, 10.50s/it]"
     ]
    },
    {
     "name": "stdout",
     "output_type": "stream",
     "text": [
      "True Label: 1, Predicted Label: 1\n",
      "Processing image from URL: https://brandperception.s3.amazonaws.com/imagenet_eval_top50_middle50_bottom50/glamorous/top50/11190220_1146166628733779_440442844_n.jpg\n"
     ]
    },
    {
     "name": "stderr",
     "output_type": "stream",
     "text": [
      "Processing images:  99%|█████████████████████▊| 149/150 [16:52<00:08,  8.64s/it]"
     ]
    },
    {
     "name": "stdout",
     "output_type": "stream",
     "text": [
      "True Label: 1, Predicted Label: 1\n",
      "Processing image from URL: https://brandperception.s3.amazonaws.com/imagenet_eval_top50_middle50_bottom50/glamorous/bottom50/1180517812483390714_1077271534.jpg\n"
     ]
    },
    {
     "name": "stderr",
     "output_type": "stream",
     "text": [
      "Processing images: 100%|██████████████████████| 150/150 [16:57<00:00,  6.78s/it]"
     ]
    },
    {
     "name": "stdout",
     "output_type": "stream",
     "text": [
      "True Label: 0, Predicted Label: 0\n"
     ]
    },
    {
     "name": "stderr",
     "output_type": "stream",
     "text": [
      "\n"
     ]
    }
   ],
   "source": [
    "drive.mount('/content/drive')\n",
    "file_path = '/content/drive/My Drive/Colab Notebooks/CV_task/glamorous_dataset.csv'\n",
    "data = pd.read_csv(file_path)\n",
    "\n",
    "# data = data.head(10) # test if code works fine\n",
    "\n",
    "true_labels = []\n",
    "predicted_labels = []  # 1 for glamorous, 0 for drab\n",
    "glamorous_probs = []\n",
    "\n",
    "group_results = {\"top50\": [], \"middle50\": [], \"bottom50\": []}\n",
    "consumer_results = {}\n",
    "\n",
    "for _, row in tqdm(data.iterrows(), desc=\"Processing images\", total=len(data)):\n",
    "    image_url = row['image_url']\n",
    "    true_label = 1 if row['glamorous'].strip().lower() == 'yes' else 0\n",
    "    group = row['top_middle_bottom']  # Group classification (top50, middle50, bottom50)\n",
    "    consumer = row['consumer_official']  # Consumer/official information\n",
    "\n",
    "    # Initialize consumer group in the dictionary\n",
    "    if consumer not in consumer_results:\n",
    "        consumer_results[consumer] = {\"true_labels\": [], \"predicted_labels\": []}\n",
    "\n",
    "    # Get the image from the URL\n",
    "    try:\n",
    "        response = requests.get(image_url)\n",
    "        # img = Image.open(BytesIO(response.content))\n",
    "\n",
    "        print(f\"Processing image from URL: {image_url}\")\n",
    "        # plt.imshow(img)\n",
    "        # plt.axis('off')\n",
    "        # plt.show()\n",
    "\n",
    "        # Send the image URL to the GPT model\n",
    "        response = client.chat.completions.create(\n",
    "            model=\"gpt-4o\",\n",
    "            messages=[\n",
    "                {\n",
    "                    \"role\": \"user\",\n",
    "                    \"content\": [\n",
    "                        {\n",
    "                            \"type\": \"text\",\n",
    "                            \"text\": label_attribution_prompt_text,\n",
    "                        },\n",
    "                        {\n",
    "                            \"type\": \"image_url\",\n",
    "                            \"image_url\": {\"url\": image_url},\n",
    "                        },\n",
    "                    ],\n",
    "                }\n",
    "            ],\n",
    "        )\n",
    "        result = response.choices[0].message.content.lower()\n",
    "\n",
    "        # Determine predicted label (1 if glamorous, 0 otherwise)\n",
    "        predicted_label = 1 if \"glamorous\" in result else 0\n",
    "        predicted_labels.append(predicted_label)\n",
    "        glamorous_probs.append(1.0 if \"glamorous\" in result else 0.0)\n",
    "        true_labels.append(true_label)\n",
    "\n",
    "        group_results[group].append((true_label, predicted_label))\n",
    "\n",
    "        consumer_results[consumer][\"true_labels\"].append(true_label)\n",
    "        consumer_results[consumer][\"predicted_labels\"].append(predicted_label)\n",
    "\n",
    "        print(f\"True Label: {true_label}, Predicted Label: {predicted_label}\")\n",
    "    except Exception as e:\n",
    "        print(f\"Failed to process image from URL: {image_url}. Error: {e}\")"
   ]
  },
  {
   "cell_type": "code",
   "execution_count": null,
   "metadata": {
    "id": "WbbL3G5ddEC0",
    "outputId": "b69a28c8-317b-48a6-d1cb-bce7d551dd81"
   },
   "outputs": [
    {
     "name": "stdout",
     "output_type": "stream",
     "text": [
      "Overall Accuracy: 0.8053691275167785\n",
      "Overall AUC: 0.8352272727272727\n",
      "Accuracy for top50: 0.96\n",
      "Accuracy for middle50: 0.673469387755102\n",
      "Accuracy for bottom50: 0.78\n",
      "Accuracy for consumer official: 0.8260869565217391\n",
      "Accuracy for consumer user: 0.7875\n"
     ]
    }
   ],
   "source": [
    "results_list = []\n",
    "\n",
    "# Calculate Overall Accuracy\n",
    "overall_accuracy = accuracy_score(true_labels, predicted_labels)\n",
    "results_list.append([\"Overall Accuracy\", overall_accuracy])\n",
    "print(f\"Overall Accuracy: {overall_accuracy}\")\n",
    "\n",
    "# Calculate Overall AUC\n",
    "if len(set(true_labels)) > 1:\n",
    "    overall_auc = roc_auc_score(true_labels, glamorous_probs)\n",
    "    results_list.append([\"Overall AUC\", overall_auc])\n",
    "    print(f\"Overall AUC: {overall_auc}\")\n",
    "else:\n",
    "    print(\"AUC cannot be calculated as there is only one class in true labels.\")\n",
    "\n",
    "# Group-wise accuracy\n",
    "for group, values in group_results.items():\n",
    "    if values:  # Ensure the group has data\n",
    "        group_true_labels, group_predicted_labels = zip(*values)\n",
    "        group_accuracy = accuracy_score(group_true_labels, group_predicted_labels)\n",
    "        results_list.append([f\"Accuracy for group {group}\", group_accuracy])\n",
    "        print(f\"Accuracy for {group}: {group_accuracy}\")\n",
    "    else:\n",
    "        print(f\"No data for group {group}.\")\n",
    "\n",
    "# Consumer/official accuracy\n",
    "for consumer, results_dict in consumer_results.items():\n",
    "    if results_dict[\"true_labels\"]:  # Ensure the consumer has data\n",
    "        consumer_accuracy = accuracy_score(results_dict[\"true_labels\"], results_dict[\"predicted_labels\"])\n",
    "        results_list.append([f\"Accuracy for consumer {consumer}\", consumer_accuracy])\n",
    "        print(f\"Accuracy for consumer {consumer}: {consumer_accuracy}\")\n",
    "    else:\n",
    "        print(f\"No data for consumer {consumer}.\")\n",
    "\n",
    "df_results = pd.DataFrame(results_list, columns=[\"Metric\", \"Value\"])\n",
    "df_results.to_csv('test_results_glamorous.csv', index=False)\n"
   ]
  },
  {
   "cell_type": "markdown",
   "metadata": {
    "id": "ShZMgR0ndEC1"
   },
   "source": [
    "### 4. Healthy / Unhealthy Prediction Study"
   ]
  },
  {
   "cell_type": "code",
   "execution_count": null,
   "metadata": {
    "id": "uNtGaEcAdEC1",
    "outputId": "491e0fcd-b553-44c4-c16c-f9d5b632e565"
   },
   "outputs": [
    {
     "name": "stderr",
     "output_type": "stream",
     "text": [
      "Processing images:   0%|                                | 0/150 [00:00<?, ?it/s]"
     ]
    },
    {
     "name": "stdout",
     "output_type": "stream",
     "text": [
      "Processing image from URL: https://brandperception.s3.amazonaws.com/imagenet_eval_top50_middle50_bottom50/healthy/top50/1122499725393951973_588666310.jpg\n"
     ]
    },
    {
     "name": "stderr",
     "output_type": "stream",
     "text": [
      "Processing images:   1%|▏                       | 1/150 [00:09<23:03,  9.28s/it]"
     ]
    },
    {
     "name": "stdout",
     "output_type": "stream",
     "text": [
      "True Label: 1, Predicted Label: 1\n",
      "Processing image from URL: https://brandperception.s3.amazonaws.com/imagenet_eval_top50_middle50_bottom50/healthy/top50/1011886447341196298_39819980.jpg\n"
     ]
    },
    {
     "name": "stderr",
     "output_type": "stream",
     "text": [
      "Processing images:   1%|▎                       | 2/150 [00:13<15:38,  6.34s/it]"
     ]
    },
    {
     "name": "stdout",
     "output_type": "stream",
     "text": [
      "True Label: 1, Predicted Label: 1\n",
      "Processing image from URL: https://brandperception.s3.amazonaws.com/imagenet_eval_top50_middle50_bottom50/healthy/middle50/1178785488313169553_56029780.jpg\n"
     ]
    },
    {
     "name": "stderr",
     "output_type": "stream",
     "text": [
      "Processing images:   2%|▍                       | 3/150 [00:17<13:15,  5.41s/it]"
     ]
    },
    {
     "name": "stdout",
     "output_type": "stream",
     "text": [
      "True Label: 0, Predicted Label: 0\n",
      "Processing image from URL: https://brandperception.s3.amazonaws.com/imagenet_eval_top50_middle50_bottom50/healthy/top50/11259942_412141338968980_87107877_n.jpg\n"
     ]
    },
    {
     "name": "stderr",
     "output_type": "stream",
     "text": [
      "Processing images:   3%|▋                       | 4/150 [00:22<12:17,  5.05s/it]"
     ]
    },
    {
     "name": "stdout",
     "output_type": "stream",
     "text": [
      "True Label: 0, Predicted Label: 1\n",
      "Processing image from URL: https://brandperception.s3.amazonaws.com/imagenet_eval_top50_middle50_bottom50/healthy/middle50/1243108391359527584_653594781.jpg\n"
     ]
    },
    {
     "name": "stderr",
     "output_type": "stream",
     "text": [
      "Processing images:   3%|▊                       | 5/150 [00:28<13:09,  5.45s/it]"
     ]
    },
    {
     "name": "stdout",
     "output_type": "stream",
     "text": [
      "True Label: 0, Predicted Label: 0\n",
      "Processing image from URL: https://brandperception.s3.amazonaws.com/imagenet_eval_top50_middle50_bottom50/healthy/top50/11190822_969782993040601_1145535585_n.jpg\n"
     ]
    },
    {
     "name": "stderr",
     "output_type": "stream",
     "text": [
      "Processing images:   4%|▉                       | 6/150 [00:33<13:04,  5.45s/it]"
     ]
    },
    {
     "name": "stdout",
     "output_type": "stream",
     "text": [
      "True Label: 1, Predicted Label: 1\n",
      "Processing image from URL: https://brandperception.s3.amazonaws.com/imagenet_eval_top50_middle50_bottom50/healthy/top50/11283325_699319290201572_1756760547_n.jpg\n"
     ]
    },
    {
     "name": "stderr",
     "output_type": "stream",
     "text": [
      "Processing images:   5%|█                       | 7/150 [00:57<27:09, 11.39s/it]"
     ]
    },
    {
     "name": "stdout",
     "output_type": "stream",
     "text": [
      "True Label: 1, Predicted Label: 1\n",
      "Processing image from URL: https://brandperception.s3.amazonaws.com/imagenet_eval_top50_middle50_bottom50/healthy/bottom50/1237352122659270648_206082970.jpg\n"
     ]
    },
    {
     "name": "stderr",
     "output_type": "stream",
     "text": [
      "Processing images:   5%|█▎                      | 8/150 [01:02<21:50,  9.23s/it]"
     ]
    },
    {
     "name": "stdout",
     "output_type": "stream",
     "text": [
      "True Label: 0, Predicted Label: 1\n",
      "Processing image from URL: https://brandperception.s3.amazonaws.com/imagenet_eval_top50_middle50_bottom50/healthy/bottom50/11189858_925654780788070_1961381607_n.jpg\n"
     ]
    },
    {
     "name": "stderr",
     "output_type": "stream",
     "text": [
      "Processing images:   6%|█▍                      | 9/150 [01:07<18:55,  8.06s/it]"
     ]
    },
    {
     "name": "stdout",
     "output_type": "stream",
     "text": [
      "True Label: 0, Predicted Label: 1\n",
      "Processing image from URL: https://brandperception.s3.amazonaws.com/imagenet_eval_top50_middle50_bottom50/healthy/middle50/1242134838252501958_3179297909.jpg\n"
     ]
    },
    {
     "name": "stderr",
     "output_type": "stream",
     "text": [
      "Processing images:   7%|█▌                     | 10/150 [01:13<17:10,  7.36s/it]"
     ]
    },
    {
     "name": "stdout",
     "output_type": "stream",
     "text": [
      "True Label: 0, Predicted Label: 0\n",
      "Processing image from URL: https://brandperception.s3.amazonaws.com/imagenet_eval_top50_middle50_bottom50/healthy/bottom50/1019689827113286107_49217733.jpg\n"
     ]
    },
    {
     "name": "stderr",
     "output_type": "stream",
     "text": [
      "Processing images:   7%|█▋                     | 11/150 [01:19<15:49,  6.83s/it]"
     ]
    },
    {
     "name": "stdout",
     "output_type": "stream",
     "text": [
      "True Label: 0, Predicted Label: 1\n",
      "Processing image from URL: https://brandperception.s3.amazonaws.com/imagenet_eval_top50_middle50_bottom50/healthy/middle50/1217882607852916334_1766438266.jpg\n"
     ]
    },
    {
     "name": "stderr",
     "output_type": "stream",
     "text": [
      "Processing images:   8%|█▊                     | 12/150 [01:24<14:39,  6.37s/it]"
     ]
    },
    {
     "name": "stdout",
     "output_type": "stream",
     "text": [
      "True Label: 1, Predicted Label: 1\n",
      "Processing image from URL: https://brandperception.s3.amazonaws.com/imagenet_eval_top50_middle50_bottom50/healthy/bottom50/1515940_242730852569425_884026369_n.jpg\n"
     ]
    },
    {
     "name": "stderr",
     "output_type": "stream",
     "text": [
      "Processing images:   9%|█▉                     | 13/150 [01:30<14:27,  6.33s/it]"
     ]
    },
    {
     "name": "stdout",
     "output_type": "stream",
     "text": [
      "True Label: 0, Predicted Label: 1\n",
      "Processing image from URL: https://brandperception.s3.amazonaws.com/imagenet_eval_top50_middle50_bottom50/healthy/bottom50/1240774294917763072_1430285147.jpg\n"
     ]
    },
    {
     "name": "stderr",
     "output_type": "stream",
     "text": [
      "Processing images:   9%|██▏                    | 14/150 [01:36<13:48,  6.09s/it]"
     ]
    },
    {
     "name": "stdout",
     "output_type": "stream",
     "text": [
      "True Label: 0, Predicted Label: 0\n",
      "Processing image from URL: https://brandperception.s3.amazonaws.com/imagenet_eval_top50_middle50_bottom50/healthy/top50/1241934625258521825_2127289784.jpg\n"
     ]
    },
    {
     "name": "stderr",
     "output_type": "stream",
     "text": [
      "Processing images:  10%|██▎                    | 15/150 [01:41<12:54,  5.74s/it]"
     ]
    },
    {
     "name": "stdout",
     "output_type": "stream",
     "text": [
      "True Label: 1, Predicted Label: 1\n",
      "Processing image from URL: https://brandperception.s3.amazonaws.com/imagenet_eval_top50_middle50_bottom50/healthy/top50/1191754049225155257_444738255.jpg\n"
     ]
    },
    {
     "name": "stderr",
     "output_type": "stream",
     "text": [
      "Processing images:  11%|██▍                    | 16/150 [01:46<12:23,  5.55s/it]"
     ]
    },
    {
     "name": "stdout",
     "output_type": "stream",
     "text": [
      "True Label: 1, Predicted Label: 1\n",
      "Processing image from URL: https://brandperception.s3.amazonaws.com/imagenet_eval_top50_middle50_bottom50/healthy/bottom50/924098_1642985575990082_2072456980_n.jpg\n"
     ]
    },
    {
     "name": "stderr",
     "output_type": "stream",
     "text": [
      "Processing images:  11%|██▌                    | 17/150 [01:51<11:48,  5.33s/it]"
     ]
    },
    {
     "name": "stdout",
     "output_type": "stream",
     "text": [
      "True Label: 0, Predicted Label: 1\n",
      "Processing image from URL: https://brandperception.s3.amazonaws.com/imagenet_eval_top50_middle50_bottom50/healthy/middle50/1242213488010551957_366706111.jpg\n"
     ]
    },
    {
     "name": "stderr",
     "output_type": "stream",
     "text": [
      "Processing images:  12%|██▊                    | 18/150 [01:56<11:51,  5.39s/it]"
     ]
    },
    {
     "name": "stdout",
     "output_type": "stream",
     "text": [
      "True Label: 0, Predicted Label: 0\n",
      "Processing image from URL: https://brandperception.s3.amazonaws.com/imagenet_eval_top50_middle50_bottom50/healthy/top50/1216657541538672630_2952183482.jpg\n"
     ]
    },
    {
     "name": "stderr",
     "output_type": "stream",
     "text": [
      "Processing images:  13%|██▉                    | 19/150 [02:01<11:39,  5.34s/it]"
     ]
    },
    {
     "name": "stdout",
     "output_type": "stream",
     "text": [
      "True Label: 1, Predicted Label: 1\n",
      "Processing image from URL: https://brandperception.s3.amazonaws.com/imagenet_eval_top50_middle50_bottom50/healthy/middle50/1241452330131999410_1943781617.jpg\n"
     ]
    },
    {
     "name": "stderr",
     "output_type": "stream",
     "text": [
      "Processing images:  13%|███                    | 20/150 [02:06<11:13,  5.18s/it]"
     ]
    },
    {
     "name": "stdout",
     "output_type": "stream",
     "text": [
      "True Label: 0, Predicted Label: 1\n",
      "Processing image from URL: https://brandperception.s3.amazonaws.com/imagenet_eval_top50_middle50_bottom50/healthy/bottom50/10249239_264202047094305_1893650455_n.jpg\n"
     ]
    },
    {
     "name": "stderr",
     "output_type": "stream",
     "text": [
      "Processing images:  14%|███▏                   | 21/150 [02:11<11:09,  5.19s/it]"
     ]
    },
    {
     "name": "stdout",
     "output_type": "stream",
     "text": [
      "True Label: 0, Predicted Label: 1\n",
      "Processing image from URL: https://brandperception.s3.amazonaws.com/imagenet_eval_top50_middle50_bottom50/healthy/middle50/10518262_1528167690739669_2011278164_n.jpg\n"
     ]
    },
    {
     "name": "stderr",
     "output_type": "stream",
     "text": [
      "Processing images:  15%|███▎                   | 22/150 [02:20<13:27,  6.31s/it]"
     ]
    },
    {
     "name": "stdout",
     "output_type": "stream",
     "text": [
      "True Label: 0, Predicted Label: 1\n",
      "Processing image from URL: https://brandperception.s3.amazonaws.com/imagenet_eval_top50_middle50_bottom50/healthy/middle50/1244525234791390880_1765734102.jpg\n"
     ]
    },
    {
     "name": "stderr",
     "output_type": "stream",
     "text": [
      "Processing images:  15%|███▌                   | 23/150 [02:24<11:54,  5.63s/it]"
     ]
    },
    {
     "name": "stdout",
     "output_type": "stream",
     "text": [
      "True Label: 1, Predicted Label: 1\n",
      "Processing image from URL: https://brandperception.s3.amazonaws.com/imagenet_eval_top50_middle50_bottom50/healthy/bottom50/1515352_417810761682523_1502098135_n.jpg\n"
     ]
    },
    {
     "name": "stderr",
     "output_type": "stream",
     "text": [
      "Processing images:  16%|███▋                   | 24/150 [02:29<11:24,  5.43s/it]"
     ]
    },
    {
     "name": "stdout",
     "output_type": "stream",
     "text": [
      "True Label: 1, Predicted Label: 1\n",
      "Processing image from URL: https://brandperception.s3.amazonaws.com/imagenet_eval_top50_middle50_bottom50/healthy/top50/1144529432845831502_1450079178.jpg\n"
     ]
    },
    {
     "name": "stderr",
     "output_type": "stream",
     "text": [
      "Processing images:  17%|███▊                   | 25/150 [02:36<12:20,  5.92s/it]"
     ]
    },
    {
     "name": "stdout",
     "output_type": "stream",
     "text": [
      "True Label: 1, Predicted Label: 1\n",
      "Processing image from URL: https://brandperception.s3.amazonaws.com/imagenet_eval_top50_middle50_bottom50/healthy/top50/1181529876684054376_1521414326.jpg\n"
     ]
    },
    {
     "name": "stderr",
     "output_type": "stream",
     "text": [
      "Processing images:  17%|███▉                   | 26/150 [02:41<11:25,  5.53s/it]"
     ]
    },
    {
     "name": "stdout",
     "output_type": "stream",
     "text": [
      "True Label: 1, Predicted Label: 1\n",
      "Processing image from URL: https://brandperception.s3.amazonaws.com/imagenet_eval_top50_middle50_bottom50/healthy/middle50/11098227_673758622770572_785602393_n.jpg\n"
     ]
    },
    {
     "name": "stderr",
     "output_type": "stream",
     "text": [
      "Processing images:  18%|████▏                  | 27/150 [02:49<12:39,  6.17s/it]"
     ]
    },
    {
     "name": "stdout",
     "output_type": "stream",
     "text": [
      "True Label: 0, Predicted Label: 1\n",
      "Processing image from URL: https://brandperception.s3.amazonaws.com/imagenet_eval_top50_middle50_bottom50/healthy/middle50/1224044367759680435_26517183.jpg\n"
     ]
    },
    {
     "name": "stderr",
     "output_type": "stream",
     "text": [
      "Processing images:  19%|████▎                  | 28/150 [02:53<11:28,  5.64s/it]"
     ]
    },
    {
     "name": "stdout",
     "output_type": "stream",
     "text": [
      "True Label: 0, Predicted Label: 1\n",
      "Processing image from URL: https://brandperception.s3.amazonaws.com/imagenet_eval_top50_middle50_bottom50/healthy/top50/1242149379184612419_259784436.jpg\n"
     ]
    },
    {
     "name": "stderr",
     "output_type": "stream",
     "text": [
      "Processing images:  19%|████▍                  | 29/150 [02:58<10:48,  5.36s/it]"
     ]
    },
    {
     "name": "stdout",
     "output_type": "stream",
     "text": [
      "True Label: 1, Predicted Label: 1\n",
      "Processing image from URL: https://brandperception.s3.amazonaws.com/imagenet_eval_top50_middle50_bottom50/healthy/middle50/1238707822679337586_1203554905.jpg\n"
     ]
    },
    {
     "name": "stderr",
     "output_type": "stream",
     "text": [
      "Processing images:  20%|████▌                  | 30/150 [03:01<09:39,  4.83s/it]"
     ]
    },
    {
     "name": "stdout",
     "output_type": "stream",
     "text": [
      "True Label: 0, Predicted Label: 1\n",
      "Processing image from URL: https://brandperception.s3.amazonaws.com/imagenet_eval_top50_middle50_bottom50/healthy/top50/1202280016948378902_2827554238.jpg\n"
     ]
    },
    {
     "name": "stderr",
     "output_type": "stream",
     "text": [
      "Processing images:  21%|████▊                  | 31/150 [03:06<09:12,  4.64s/it]"
     ]
    },
    {
     "name": "stdout",
     "output_type": "stream",
     "text": [
      "True Label: 1, Predicted Label: 1\n",
      "Processing image from URL: https://brandperception.s3.amazonaws.com/imagenet_eval_top50_middle50_bottom50/healthy/middle50/1199940026144223270_2234131627.jpg\n"
     ]
    },
    {
     "name": "stderr",
     "output_type": "stream",
     "text": [
      "Processing images:  21%|████▉                  | 32/150 [03:09<08:26,  4.29s/it]"
     ]
    },
    {
     "name": "stdout",
     "output_type": "stream",
     "text": [
      "True Label: 1, Predicted Label: 1\n",
      "Processing image from URL: https://brandperception.s3.amazonaws.com/imagenet_eval_top50_middle50_bottom50/healthy/bottom50/11176335_1579238449018896_1551269832_n.jpg\n"
     ]
    },
    {
     "name": "stderr",
     "output_type": "stream",
     "text": [
      "Processing images:  22%|█████                  | 33/150 [03:13<08:26,  4.33s/it]"
     ]
    },
    {
     "name": "stdout",
     "output_type": "stream",
     "text": [
      "True Label: 0, Predicted Label: 1\n",
      "Processing image from URL: https://brandperception.s3.amazonaws.com/imagenet_eval_top50_middle50_bottom50/healthy/middle50/1245226186729421674_1364695349.jpg\n"
     ]
    },
    {
     "name": "stderr",
     "output_type": "stream",
     "text": [
      "Processing images:  23%|█████▏                 | 34/150 [03:18<08:24,  4.35s/it]"
     ]
    },
    {
     "name": "stdout",
     "output_type": "stream",
     "text": [
      "True Label: 0, Predicted Label: 0\n",
      "Processing image from URL: https://brandperception.s3.amazonaws.com/imagenet_eval_top50_middle50_bottom50/healthy/bottom50/13437143_1113901165335735_1995463178_n.jpg\n"
     ]
    },
    {
     "name": "stderr",
     "output_type": "stream",
     "text": [
      "Processing images:  23%|█████▎                 | 35/150 [03:23<08:36,  4.49s/it]"
     ]
    },
    {
     "name": "stdout",
     "output_type": "stream",
     "text": [
      "True Label: 0, Predicted Label: 0\n",
      "Processing image from URL: https://brandperception.s3.amazonaws.com/imagenet_eval_top50_middle50_bottom50/healthy/bottom50/915568_787406387957021_286972332_n.jpg\n"
     ]
    },
    {
     "name": "stderr",
     "output_type": "stream",
     "text": [
      "Processing images:  24%|█████▌                 | 36/150 [03:27<08:39,  4.56s/it]"
     ]
    },
    {
     "name": "stdout",
     "output_type": "stream",
     "text": [
      "True Label: 0, Predicted Label: 1\n",
      "Processing image from URL: https://brandperception.s3.amazonaws.com/imagenet_eval_top50_middle50_bottom50/healthy/top50/11326837_1591167971003867_118274502_n.jpg\n"
     ]
    },
    {
     "name": "stderr",
     "output_type": "stream",
     "text": [
      "Processing images:  25%|█████▋                 | 37/150 [03:32<08:26,  4.48s/it]"
     ]
    },
    {
     "name": "stdout",
     "output_type": "stream",
     "text": [
      "True Label: 1, Predicted Label: 1\n",
      "Processing image from URL: https://brandperception.s3.amazonaws.com/imagenet_eval_top50_middle50_bottom50/healthy/middle50/11240336_1435797616721681_1176696007_n.jpg\n"
     ]
    },
    {
     "name": "stderr",
     "output_type": "stream",
     "text": [
      "Processing images:  25%|█████▊                 | 38/150 [03:37<08:39,  4.64s/it]"
     ]
    },
    {
     "name": "stdout",
     "output_type": "stream",
     "text": [
      "True Label: 1, Predicted Label: 1\n",
      "Processing image from URL: https://brandperception.s3.amazonaws.com/imagenet_eval_top50_middle50_bottom50/healthy/middle50/1245024834613050711_1642867462.jpg\n"
     ]
    },
    {
     "name": "stderr",
     "output_type": "stream",
     "text": [
      "Processing images:  26%|█████▉                 | 39/150 [03:41<08:13,  4.45s/it]"
     ]
    },
    {
     "name": "stdout",
     "output_type": "stream",
     "text": [
      "True Label: 0, Predicted Label: 0\n",
      "Processing image from URL: https://brandperception.s3.amazonaws.com/imagenet_eval_top50_middle50_bottom50/healthy/middle50/1232738907521183201_435291690.jpg\n"
     ]
    },
    {
     "name": "stderr",
     "output_type": "stream",
     "text": [
      "Processing images:  27%|██████▏                | 40/150 [03:47<09:25,  5.14s/it]"
     ]
    },
    {
     "name": "stdout",
     "output_type": "stream",
     "text": [
      "True Label: 1, Predicted Label: 0\n",
      "Processing image from URL: https://brandperception.s3.amazonaws.com/imagenet_eval_top50_middle50_bottom50/healthy/bottom50/1538408_214804348702932_1502273641_n.jpg\n"
     ]
    },
    {
     "name": "stderr",
     "output_type": "stream",
     "text": [
      "Processing images:  27%|██████▎                | 41/150 [03:52<08:59,  4.95s/it]"
     ]
    },
    {
     "name": "stdout",
     "output_type": "stream",
     "text": [
      "True Label: 0, Predicted Label: 0\n",
      "Processing image from URL: https://brandperception.s3.amazonaws.com/imagenet_eval_top50_middle50_bottom50/healthy/middle50/11350871_1654753561423864_445297009_n.jpg\n"
     ]
    },
    {
     "name": "stderr",
     "output_type": "stream",
     "text": [
      "Processing images:  28%|██████▍                | 42/150 [03:56<08:43,  4.85s/it]"
     ]
    },
    {
     "name": "stdout",
     "output_type": "stream",
     "text": [
      "True Label: 0, Predicted Label: 0\n",
      "Processing image from URL: https://brandperception.s3.amazonaws.com/imagenet_eval_top50_middle50_bottom50/healthy/top50/1088732765152693732_1450079178.jpg\n"
     ]
    },
    {
     "name": "stderr",
     "output_type": "stream",
     "text": [
      "Processing images:  29%|██████▌                | 43/150 [04:01<08:40,  4.87s/it]"
     ]
    },
    {
     "name": "stdout",
     "output_type": "stream",
     "text": [
      "True Label: 1, Predicted Label: 1\n",
      "Processing image from URL: https://brandperception.s3.amazonaws.com/imagenet_eval_top50_middle50_bottom50/healthy/middle50/12960114_523277234464180_1470070019_n.jpg\n"
     ]
    },
    {
     "name": "stderr",
     "output_type": "stream",
     "text": [
      "Processing images:  29%|██████▋                | 44/150 [04:06<08:40,  4.91s/it]"
     ]
    },
    {
     "name": "stdout",
     "output_type": "stream",
     "text": [
      "True Label: 0, Predicted Label: 1\n",
      "Processing image from URL: https://brandperception.s3.amazonaws.com/imagenet_eval_top50_middle50_bottom50/healthy/bottom50/1239981547507368305_1437128535.jpg\n"
     ]
    },
    {
     "name": "stderr",
     "output_type": "stream",
     "text": [
      "Processing images:  30%|██████▉                | 45/150 [04:13<09:24,  5.37s/it]"
     ]
    },
    {
     "name": "stdout",
     "output_type": "stream",
     "text": [
      "True Label: 0, Predicted Label: 1\n",
      "Processing image from URL: https://brandperception.s3.amazonaws.com/imagenet_eval_top50_middle50_bottom50/healthy/top50/925717_1375460716035942_1743550915_n.jpg\n"
     ]
    },
    {
     "name": "stderr",
     "output_type": "stream",
     "text": [
      "Processing images:  31%|███████                | 46/150 [04:18<08:58,  5.17s/it]"
     ]
    },
    {
     "name": "stdout",
     "output_type": "stream",
     "text": [
      "True Label: 0, Predicted Label: 1\n",
      "Processing image from URL: https://brandperception.s3.amazonaws.com/imagenet_eval_top50_middle50_bottom50/healthy/bottom50/1241786626708089532_279004361.jpg\n"
     ]
    },
    {
     "name": "stderr",
     "output_type": "stream",
     "text": [
      "Processing images:  31%|███████▏               | 47/150 [04:23<08:51,  5.16s/it]"
     ]
    },
    {
     "name": "stdout",
     "output_type": "stream",
     "text": [
      "True Label: 0, Predicted Label: 0\n",
      "Processing image from URL: https://brandperception.s3.amazonaws.com/imagenet_eval_top50_middle50_bottom50/healthy/bottom50/1195310828998691030_239052369.jpg\n"
     ]
    },
    {
     "name": "stderr",
     "output_type": "stream",
     "text": [
      "Processing images:  32%|███████▎               | 48/150 [04:27<08:16,  4.87s/it]"
     ]
    },
    {
     "name": "stdout",
     "output_type": "stream",
     "text": [
      "True Label: 0, Predicted Label: 1\n",
      "Processing image from URL: https://brandperception.s3.amazonaws.com/imagenet_eval_top50_middle50_bottom50/healthy/middle50/1235949121369834614_2177708360.jpg\n"
     ]
    },
    {
     "name": "stderr",
     "output_type": "stream",
     "text": [
      "Processing images:  33%|███████▌               | 49/150 [04:31<07:42,  4.58s/it]"
     ]
    },
    {
     "name": "stdout",
     "output_type": "stream",
     "text": [
      "True Label: 0, Predicted Label: 1\n",
      "Processing image from URL: https://brandperception.s3.amazonaws.com/imagenet_eval_top50_middle50_bottom50/healthy/bottom50/11203491_1578184345789502_1866295692_n.jpg\n"
     ]
    },
    {
     "name": "stderr",
     "output_type": "stream",
     "text": [
      "Processing images:  33%|███████▋               | 50/150 [04:37<08:27,  5.08s/it]"
     ]
    },
    {
     "name": "stdout",
     "output_type": "stream",
     "text": [
      "True Label: 0, Predicted Label: 1\n",
      "Processing image from URL: https://brandperception.s3.amazonaws.com/imagenet_eval_top50_middle50_bottom50/healthy/bottom50/11033004_888280871236256_1424264856_n.jpg\n"
     ]
    },
    {
     "name": "stderr",
     "output_type": "stream",
     "text": [
      "Processing images:  34%|███████▊               | 51/150 [04:42<08:23,  5.09s/it]"
     ]
    },
    {
     "name": "stdout",
     "output_type": "stream",
     "text": [
      "True Label: 0, Predicted Label: 1\n",
      "Processing image from URL: https://brandperception.s3.amazonaws.com/imagenet_eval_top50_middle50_bottom50/healthy/bottom50/10607984_301744583341497_1231900613_n.jpg\n"
     ]
    },
    {
     "name": "stderr",
     "output_type": "stream",
     "text": [
      "Processing images:  35%|███████▉               | 52/150 [04:49<09:19,  5.71s/it]"
     ]
    },
    {
     "name": "stdout",
     "output_type": "stream",
     "text": [
      "True Label: 0, Predicted Label: 1\n",
      "Processing image from URL: https://brandperception.s3.amazonaws.com/imagenet_eval_top50_middle50_bottom50/healthy/top50/10954861_1012587345437363_53607987_n.jpg\n"
     ]
    },
    {
     "name": "stderr",
     "output_type": "stream",
     "text": [
      "Processing images:  35%|████████▏              | 53/150 [04:55<09:17,  5.75s/it]"
     ]
    },
    {
     "name": "stdout",
     "output_type": "stream",
     "text": [
      "True Label: 1, Predicted Label: 0\n",
      "Processing image from URL: https://brandperception.s3.amazonaws.com/imagenet_eval_top50_middle50_bottom50/healthy/middle50/924423_415241018614160_2118011949_n.jpg\n"
     ]
    },
    {
     "name": "stderr",
     "output_type": "stream",
     "text": [
      "Processing images:  36%|████████▎              | 54/150 [05:00<08:59,  5.62s/it]"
     ]
    },
    {
     "name": "stdout",
     "output_type": "stream",
     "text": [
      "True Label: 0, Predicted Label: 1\n",
      "Processing image from URL: https://brandperception.s3.amazonaws.com/imagenet_eval_top50_middle50_bottom50/healthy/middle50/12783291_188275474874791_105880613_n.jpg\n"
     ]
    },
    {
     "name": "stderr",
     "output_type": "stream",
     "text": [
      "Processing images:  37%|████████▍              | 55/150 [05:07<09:32,  6.02s/it]"
     ]
    },
    {
     "name": "stdout",
     "output_type": "stream",
     "text": [
      "True Label: 0, Predicted Label: 1\n",
      "Processing image from URL: https://brandperception.s3.amazonaws.com/imagenet_eval_top50_middle50_bottom50/healthy/bottom50/10570184_1406748942965825_1825672021_n.jpg\n"
     ]
    },
    {
     "name": "stderr",
     "output_type": "stream",
     "text": [
      "Processing images:  37%|████████▌              | 56/150 [05:12<08:43,  5.57s/it]"
     ]
    },
    {
     "name": "stdout",
     "output_type": "stream",
     "text": [
      "True Label: 0, Predicted Label: 1\n",
      "Processing image from URL: https://brandperception.s3.amazonaws.com/imagenet_eval_top50_middle50_bottom50/healthy/middle50/1242938777048242078_2044110308.jpg\n"
     ]
    },
    {
     "name": "stderr",
     "output_type": "stream",
     "text": [
      "Processing images:  38%|████████▋              | 57/150 [05:15<07:39,  4.94s/it]"
     ]
    },
    {
     "name": "stdout",
     "output_type": "stream",
     "text": [
      "True Label: 0, Predicted Label: 1\n",
      "Processing image from URL: https://brandperception.s3.amazonaws.com/imagenet_eval_top50_middle50_bottom50/healthy/top50/1235376417914649169_2314008229.jpg\n"
     ]
    },
    {
     "name": "stderr",
     "output_type": "stream",
     "text": [
      "Processing images:  39%|████████▉              | 58/150 [05:22<08:13,  5.36s/it]"
     ]
    },
    {
     "name": "stdout",
     "output_type": "stream",
     "text": [
      "True Label: 1, Predicted Label: 1\n",
      "Processing image from URL: https://brandperception.s3.amazonaws.com/imagenet_eval_top50_middle50_bottom50/healthy/bottom50/13151180_597450507102757_1609260070_n.jpg\n"
     ]
    },
    {
     "name": "stderr",
     "output_type": "stream",
     "text": [
      "Processing images:  39%|█████████              | 59/150 [05:27<07:50,  5.17s/it]"
     ]
    },
    {
     "name": "stdout",
     "output_type": "stream",
     "text": [
      "True Label: 0, Predicted Label: 1\n",
      "Processing image from URL: https://brandperception.s3.amazonaws.com/imagenet_eval_top50_middle50_bottom50/healthy/top50/1243358055139045504_1500988003.jpg\n"
     ]
    },
    {
     "name": "stderr",
     "output_type": "stream",
     "text": [
      "Processing images:  40%|█████████▏             | 60/150 [05:32<07:46,  5.18s/it]"
     ]
    },
    {
     "name": "stdout",
     "output_type": "stream",
     "text": [
      "True Label: 1, Predicted Label: 1\n",
      "Processing image from URL: https://brandperception.s3.amazonaws.com/imagenet_eval_top50_middle50_bottom50/healthy/bottom50/13117787_1603259463298882_1234509953_n.jpg\n"
     ]
    },
    {
     "name": "stderr",
     "output_type": "stream",
     "text": [
      "Processing images:  41%|█████████▎             | 61/150 [05:37<07:42,  5.20s/it]"
     ]
    },
    {
     "name": "stdout",
     "output_type": "stream",
     "text": [
      "True Label: 0, Predicted Label: 1\n",
      "Processing image from URL: https://brandperception.s3.amazonaws.com/imagenet_eval_top50_middle50_bottom50/healthy/middle50/1243370587174509799_2207633366.jpg\n"
     ]
    },
    {
     "name": "stderr",
     "output_type": "stream",
     "text": [
      "Processing images:  41%|█████████▌             | 62/150 [05:41<07:10,  4.90s/it]"
     ]
    },
    {
     "name": "stdout",
     "output_type": "stream",
     "text": [
      "True Label: 0, Predicted Label: 0\n",
      "Processing image from URL: https://brandperception.s3.amazonaws.com/imagenet_eval_top50_middle50_bottom50/healthy/middle50/1242029070103925432_368279147.jpg\n"
     ]
    },
    {
     "name": "stderr",
     "output_type": "stream",
     "text": [
      "Processing images:  42%|█████████▋             | 63/150 [05:47<07:30,  5.18s/it]"
     ]
    },
    {
     "name": "stdout",
     "output_type": "stream",
     "text": [
      "True Label: 0, Predicted Label: 0\n",
      "Processing image from URL: https://brandperception.s3.amazonaws.com/imagenet_eval_top50_middle50_bottom50/healthy/bottom50/1889364_613606338711245_314218521_n.jpg\n"
     ]
    },
    {
     "name": "stderr",
     "output_type": "stream",
     "text": [
      "Processing images:  43%|█████████▊             | 64/150 [05:51<07:02,  4.91s/it]"
     ]
    },
    {
     "name": "stdout",
     "output_type": "stream",
     "text": [
      "True Label: 0, Predicted Label: 1\n",
      "Processing image from URL: https://brandperception.s3.amazonaws.com/imagenet_eval_top50_middle50_bottom50/healthy/middle50/1243091497380653911_1759547985.jpg\n"
     ]
    },
    {
     "name": "stderr",
     "output_type": "stream",
     "text": [
      "Processing images:  43%|█████████▉             | 65/150 [05:57<07:23,  5.22s/it]"
     ]
    },
    {
     "name": "stdout",
     "output_type": "stream",
     "text": [
      "True Label: 0, Predicted Label: 1\n",
      "Processing image from URL: https://brandperception.s3.amazonaws.com/imagenet_eval_top50_middle50_bottom50/healthy/top50/1251441999860885330_207098480.jpg\n"
     ]
    },
    {
     "name": "stderr",
     "output_type": "stream",
     "text": [
      "Processing images:  44%|██████████             | 66/150 [06:02<07:08,  5.10s/it]"
     ]
    },
    {
     "name": "stdout",
     "output_type": "stream",
     "text": [
      "True Label: 0, Predicted Label: 1\n",
      "Processing image from URL: https://brandperception.s3.amazonaws.com/imagenet_eval_top50_middle50_bottom50/healthy/middle50/1202159495364373362_593080921.jpg\n"
     ]
    },
    {
     "name": "stderr",
     "output_type": "stream",
     "text": [
      "Processing images:  45%|██████████▎            | 67/150 [06:08<07:16,  5.26s/it]"
     ]
    },
    {
     "name": "stdout",
     "output_type": "stream",
     "text": [
      "True Label: 0, Predicted Label: 0\n",
      "Processing image from URL: https://brandperception.s3.amazonaws.com/imagenet_eval_top50_middle50_bottom50/healthy/middle50/11184642_1393981857593720_309849933_n.jpg\n"
     ]
    },
    {
     "name": "stderr",
     "output_type": "stream",
     "text": [
      "Processing images:  45%|██████████▍            | 68/150 [06:12<06:57,  5.09s/it]"
     ]
    },
    {
     "name": "stdout",
     "output_type": "stream",
     "text": [
      "True Label: 0, Predicted Label: 0\n",
      "Processing image from URL: https://brandperception.s3.amazonaws.com/imagenet_eval_top50_middle50_bottom50/healthy/middle50/1239800231576053939_2067800617.jpg\n"
     ]
    },
    {
     "name": "stderr",
     "output_type": "stream",
     "text": [
      "Processing images:  46%|██████████▌            | 69/150 [06:16<06:23,  4.73s/it]"
     ]
    },
    {
     "name": "stdout",
     "output_type": "stream",
     "text": [
      "True Label: 0, Predicted Label: 0\n",
      "Processing image from URL: https://brandperception.s3.amazonaws.com/imagenet_eval_top50_middle50_bottom50/healthy/bottom50/11208480_680710295407550_800370506_n.jpg\n"
     ]
    },
    {
     "name": "stderr",
     "output_type": "stream",
     "text": [
      "Processing images:  47%|██████████▋            | 70/150 [06:20<06:00,  4.51s/it]"
     ]
    },
    {
     "name": "stdout",
     "output_type": "stream",
     "text": [
      "True Label: 0, Predicted Label: 1\n",
      "Processing image from URL: https://brandperception.s3.amazonaws.com/imagenet_eval_top50_middle50_bottom50/healthy/middle50/1241419280771124255_1957843010.jpg\n"
     ]
    },
    {
     "name": "stderr",
     "output_type": "stream",
     "text": [
      "Processing images:  47%|██████████▉            | 71/150 [06:25<06:06,  4.63s/it]"
     ]
    },
    {
     "name": "stdout",
     "output_type": "stream",
     "text": [
      "True Label: 0, Predicted Label: 1\n",
      "Processing image from URL: https://brandperception.s3.amazonaws.com/imagenet_eval_top50_middle50_bottom50/healthy/top50/11256701_1615915595321551_490703185_n.jpg\n"
     ]
    },
    {
     "name": "stderr",
     "output_type": "stream",
     "text": [
      "Processing images:  48%|███████████            | 72/150 [06:29<05:53,  4.53s/it]"
     ]
    },
    {
     "name": "stdout",
     "output_type": "stream",
     "text": [
      "True Label: 1, Predicted Label: 1\n",
      "Processing image from URL: https://brandperception.s3.amazonaws.com/imagenet_eval_top50_middle50_bottom50/healthy/bottom50/11190695_650068528458604_1127451349_n.jpg\n"
     ]
    },
    {
     "name": "stderr",
     "output_type": "stream",
     "text": [
      "Processing images:  49%|███████████▏           | 73/150 [06:36<06:45,  5.26s/it]"
     ]
    },
    {
     "name": "stdout",
     "output_type": "stream",
     "text": [
      "True Label: 0, Predicted Label: 1\n",
      "Processing image from URL: https://brandperception.s3.amazonaws.com/imagenet_eval_top50_middle50_bottom50/healthy/bottom50/13398883_118344658589995_850305779_n.jpg\n"
     ]
    },
    {
     "name": "stderr",
     "output_type": "stream",
     "text": [
      "Processing images:  49%|███████████▎           | 74/150 [06:41<06:29,  5.13s/it]"
     ]
    },
    {
     "name": "stdout",
     "output_type": "stream",
     "text": [
      "True Label: 0, Predicted Label: 1\n",
      "Processing image from URL: https://brandperception.s3.amazonaws.com/imagenet_eval_top50_middle50_bottom50/healthy/bottom50/11280377_1621374964741493_894228771_n.jpg\n"
     ]
    },
    {
     "name": "stderr",
     "output_type": "stream",
     "text": [
      "Processing images:  50%|███████████▌           | 75/150 [06:45<06:03,  4.85s/it]"
     ]
    },
    {
     "name": "stdout",
     "output_type": "stream",
     "text": [
      "True Label: 0, Predicted Label: 0\n",
      "Processing image from URL: https://brandperception.s3.amazonaws.com/imagenet_eval_top50_middle50_bottom50/healthy/top50/1235627917175254537_475294698.jpg\n"
     ]
    },
    {
     "name": "stderr",
     "output_type": "stream",
     "text": [
      "Processing images:  51%|███████████▋           | 76/150 [06:50<05:48,  4.72s/it]"
     ]
    },
    {
     "name": "stdout",
     "output_type": "stream",
     "text": [
      "True Label: 1, Predicted Label: 1\n",
      "Processing image from URL: https://brandperception.s3.amazonaws.com/imagenet_eval_top50_middle50_bottom50/healthy/bottom50/13774775_1764680940481588_1531254308_n.jpg\n"
     ]
    },
    {
     "name": "stderr",
     "output_type": "stream",
     "text": [
      "Processing images:  51%|███████████▊           | 77/150 [06:56<06:06,  5.02s/it]"
     ]
    },
    {
     "name": "stdout",
     "output_type": "stream",
     "text": [
      "True Label: 0, Predicted Label: 1\n",
      "Processing image from URL: https://brandperception.s3.amazonaws.com/imagenet_eval_top50_middle50_bottom50/healthy/top50/951511615617748159_360065882.jpg\n"
     ]
    },
    {
     "name": "stderr",
     "output_type": "stream",
     "text": [
      "Processing images:  52%|███████████▉           | 78/150 [07:09<08:58,  7.48s/it]"
     ]
    },
    {
     "name": "stdout",
     "output_type": "stream",
     "text": [
      "True Label: 1, Predicted Label: 1\n",
      "Processing image from URL: https://brandperception.s3.amazonaws.com/imagenet_eval_top50_middle50_bottom50/healthy/bottom50/11246935_440780682749217_1717496219_n.jpg\n"
     ]
    },
    {
     "name": "stderr",
     "output_type": "stream",
     "text": [
      "Processing images:  53%|████████████           | 79/150 [07:31<14:07, 11.93s/it]"
     ]
    },
    {
     "name": "stdout",
     "output_type": "stream",
     "text": [
      "True Label: 0, Predicted Label: 0\n",
      "Processing image from URL: https://brandperception.s3.amazonaws.com/imagenet_eval_top50_middle50_bottom50/healthy/top50/1231989718166566749_3041549124.jpg\n"
     ]
    },
    {
     "name": "stderr",
     "output_type": "stream",
     "text": [
      "Processing images:  53%|████████████▎          | 80/150 [07:36<11:28,  9.84s/it]"
     ]
    },
    {
     "name": "stdout",
     "output_type": "stream",
     "text": [
      "True Label: 1, Predicted Label: 1\n",
      "Processing image from URL: https://brandperception.s3.amazonaws.com/imagenet_eval_top50_middle50_bottom50/healthy/middle50/12339033_1669643733273909_510589631_n.jpg\n"
     ]
    },
    {
     "name": "stderr",
     "output_type": "stream",
     "text": [
      "Processing images:  54%|████████████▍          | 81/150 [07:42<09:58,  8.68s/it]"
     ]
    },
    {
     "name": "stdout",
     "output_type": "stream",
     "text": [
      "True Label: 0, Predicted Label: 1\n",
      "Processing image from URL: https://brandperception.s3.amazonaws.com/imagenet_eval_top50_middle50_bottom50/healthy/top50/1244941877772567690_2012247320.jpg\n"
     ]
    },
    {
     "name": "stderr",
     "output_type": "stream",
     "text": [
      "Processing images:  55%|████████████▌          | 82/150 [07:47<08:40,  7.65s/it]"
     ]
    },
    {
     "name": "stdout",
     "output_type": "stream",
     "text": [
      "True Label: 0, Predicted Label: 1\n",
      "Processing image from URL: https://brandperception.s3.amazonaws.com/imagenet_eval_top50_middle50_bottom50/healthy/bottom50/11909920_711158029014914_390005203_n.jpg\n"
     ]
    },
    {
     "name": "stderr",
     "output_type": "stream",
     "text": [
      "Processing images:  55%|████████████▋          | 83/150 [07:52<07:29,  6.71s/it]"
     ]
    },
    {
     "name": "stdout",
     "output_type": "stream",
     "text": [
      "True Label: 0, Predicted Label: 1\n",
      "Processing image from URL: https://brandperception.s3.amazonaws.com/imagenet_eval_top50_middle50_bottom50/healthy/bottom50/10895273_580275598740479_933435362_n.jpg\n"
     ]
    },
    {
     "name": "stderr",
     "output_type": "stream",
     "text": [
      "Processing images:  56%|████████████▉          | 84/150 [07:56<06:34,  5.98s/it]"
     ]
    },
    {
     "name": "stdout",
     "output_type": "stream",
     "text": [
      "True Label: 0, Predicted Label: 1\n",
      "Processing image from URL: https://brandperception.s3.amazonaws.com/imagenet_eval_top50_middle50_bottom50/healthy/top50/1240277450660219449_320190481.jpg\n"
     ]
    },
    {
     "name": "stderr",
     "output_type": "stream",
     "text": [
      "Processing images:  57%|█████████████          | 85/150 [08:01<05:58,  5.51s/it]"
     ]
    },
    {
     "name": "stdout",
     "output_type": "stream",
     "text": [
      "True Label: 0, Predicted Label: 0\n",
      "Processing image from URL: https://brandperception.s3.amazonaws.com/imagenet_eval_top50_middle50_bottom50/healthy/top50/1237813231825200580_820228592.jpg\n"
     ]
    },
    {
     "name": "stderr",
     "output_type": "stream",
     "text": [
      "Processing images:  57%|█████████████▏         | 86/150 [08:05<05:41,  5.33s/it]"
     ]
    },
    {
     "name": "stdout",
     "output_type": "stream",
     "text": [
      "True Label: 1, Predicted Label: 1\n",
      "Processing image from URL: https://brandperception.s3.amazonaws.com/imagenet_eval_top50_middle50_bottom50/healthy/top50/1021765124590263493_1077341398.jpg\n"
     ]
    },
    {
     "name": "stderr",
     "output_type": "stream",
     "text": [
      "Processing images:  58%|█████████████▎         | 87/150 [08:18<07:57,  7.57s/it]"
     ]
    },
    {
     "name": "stdout",
     "output_type": "stream",
     "text": [
      "True Label: 1, Predicted Label: 1\n",
      "Processing image from URL: https://brandperception.s3.amazonaws.com/imagenet_eval_top50_middle50_bottom50/healthy/top50/917508_1475953322638476_534431420_n.jpg\n"
     ]
    },
    {
     "name": "stderr",
     "output_type": "stream",
     "text": [
      "Processing images:  59%|█████████████▍         | 88/150 [08:23<06:50,  6.62s/it]"
     ]
    },
    {
     "name": "stdout",
     "output_type": "stream",
     "text": [
      "True Label: 1, Predicted Label: 1\n",
      "Processing image from URL: https://brandperception.s3.amazonaws.com/imagenet_eval_top50_middle50_bottom50/healthy/bottom50/12105169_524205884421624_942965144_n.jpg\n"
     ]
    },
    {
     "name": "stderr",
     "output_type": "stream",
     "text": [
      "Processing images:  59%|█████████████▋         | 89/150 [08:27<06:10,  6.08s/it]"
     ]
    },
    {
     "name": "stdout",
     "output_type": "stream",
     "text": [
      "True Label: 0, Predicted Label: 0\n",
      "Processing image from URL: https://brandperception.s3.amazonaws.com/imagenet_eval_top50_middle50_bottom50/healthy/middle50/1251511676618267221_3232191397.jpg\n"
     ]
    },
    {
     "name": "stderr",
     "output_type": "stream",
     "text": [
      "Processing images:  60%|█████████████▊         | 90/150 [08:31<05:23,  5.39s/it]"
     ]
    },
    {
     "name": "stdout",
     "output_type": "stream",
     "text": [
      "True Label: 0, Predicted Label: 0\n",
      "Processing image from URL: https://brandperception.s3.amazonaws.com/imagenet_eval_top50_middle50_bottom50/healthy/bottom50/11186896_1592148244361400_29500608_n.jpg\n"
     ]
    },
    {
     "name": "stderr",
     "output_type": "stream",
     "text": [
      "Processing images:  61%|█████████████▉         | 91/150 [08:35<04:49,  4.91s/it]"
     ]
    },
    {
     "name": "stdout",
     "output_type": "stream",
     "text": [
      "True Label: 0, Predicted Label: 1\n",
      "Processing image from URL: https://brandperception.s3.amazonaws.com/imagenet_eval_top50_middle50_bottom50/healthy/middle50/1238220246473930555_3100699508.jpg\n"
     ]
    },
    {
     "name": "stderr",
     "output_type": "stream",
     "text": [
      "Processing images:  61%|██████████████         | 92/150 [08:40<04:43,  4.88s/it]"
     ]
    },
    {
     "name": "stdout",
     "output_type": "stream",
     "text": [
      "True Label: 0, Predicted Label: 1\n",
      "Processing image from URL: https://brandperception.s3.amazonaws.com/imagenet_eval_top50_middle50_bottom50/healthy/top50/1236215924022695042_1495315884.jpg\n"
     ]
    },
    {
     "name": "stderr",
     "output_type": "stream",
     "text": [
      "Processing images:  62%|██████████████▎        | 93/150 [08:43<04:14,  4.46s/it]"
     ]
    },
    {
     "name": "stdout",
     "output_type": "stream",
     "text": [
      "True Label: 1, Predicted Label: 1\n",
      "Processing image from URL: https://brandperception.s3.amazonaws.com/imagenet_eval_top50_middle50_bottom50/healthy/top50/1239435976090301822_196198308.jpg\n"
     ]
    },
    {
     "name": "stderr",
     "output_type": "stream",
     "text": [
      "Processing images:  63%|██████████████▍        | 94/150 [08:48<04:12,  4.51s/it]"
     ]
    },
    {
     "name": "stdout",
     "output_type": "stream",
     "text": [
      "True Label: 1, Predicted Label: 1\n",
      "Processing image from URL: https://brandperception.s3.amazonaws.com/imagenet_eval_top50_middle50_bottom50/healthy/top50/1243366145035258315_395041201.jpg\n"
     ]
    },
    {
     "name": "stderr",
     "output_type": "stream",
     "text": [
      "Processing images:  63%|██████████████▌        | 95/150 [08:53<04:14,  4.63s/it]"
     ]
    },
    {
     "name": "stdout",
     "output_type": "stream",
     "text": [
      "True Label: 1, Predicted Label: 1\n",
      "Processing image from URL: https://brandperception.s3.amazonaws.com/imagenet_eval_top50_middle50_bottom50/healthy/middle50/1213502636012125181_241765045.jpg\n"
     ]
    },
    {
     "name": "stderr",
     "output_type": "stream",
     "text": [
      "Processing images:  64%|██████████████▋        | 96/150 [08:57<04:07,  4.59s/it]"
     ]
    },
    {
     "name": "stdout",
     "output_type": "stream",
     "text": [
      "True Label: 0, Predicted Label: 1\n",
      "Processing image from URL: https://brandperception.s3.amazonaws.com/imagenet_eval_top50_middle50_bottom50/healthy/bottom50/11190905_472345382924028_755478182_n.jpg\n"
     ]
    },
    {
     "name": "stderr",
     "output_type": "stream",
     "text": [
      "Processing images:  65%|██████████████▊        | 97/150 [09:04<04:29,  5.09s/it]"
     ]
    },
    {
     "name": "stdout",
     "output_type": "stream",
     "text": [
      "True Label: 0, Predicted Label: 1\n",
      "Processing image from URL: https://brandperception.s3.amazonaws.com/imagenet_eval_top50_middle50_bottom50/healthy/middle50/12299048_427399514123194_2054102862_n.jpg\n"
     ]
    },
    {
     "name": "stderr",
     "output_type": "stream",
     "text": [
      "Processing images:  65%|███████████████        | 98/150 [09:08<04:20,  5.01s/it]"
     ]
    },
    {
     "name": "stdout",
     "output_type": "stream",
     "text": [
      "True Label: 1, Predicted Label: 1\n",
      "Processing image from URL: https://brandperception.s3.amazonaws.com/imagenet_eval_top50_middle50_bottom50/healthy/top50/1230466621470992463_1916279153.jpg\n"
     ]
    },
    {
     "name": "stderr",
     "output_type": "stream",
     "text": [
      "Processing images:  66%|███████████████▏       | 99/150 [09:12<03:56,  4.64s/it]"
     ]
    },
    {
     "name": "stdout",
     "output_type": "stream",
     "text": [
      "True Label: 1, Predicted Label: 1\n",
      "Processing image from URL: https://brandperception.s3.amazonaws.com/imagenet_eval_top50_middle50_bottom50/healthy/top50/1234811267411515243_449873492.jpg\n"
     ]
    },
    {
     "name": "stderr",
     "output_type": "stream",
     "text": [
      "Processing images:  67%|██████████████▋       | 100/150 [09:17<03:49,  4.60s/it]"
     ]
    },
    {
     "name": "stdout",
     "output_type": "stream",
     "text": [
      "True Label: 1, Predicted Label: 1\n",
      "Processing image from URL: https://brandperception.s3.amazonaws.com/imagenet_eval_top50_middle50_bottom50/healthy/bottom50/11330523_1579678592291857_70112984_n.jpg\n"
     ]
    },
    {
     "name": "stderr",
     "output_type": "stream",
     "text": [
      "Processing images:  67%|██████████████▊       | 101/150 [09:22<03:54,  4.79s/it]"
     ]
    },
    {
     "name": "stdout",
     "output_type": "stream",
     "text": [
      "True Label: 0, Predicted Label: 1\n",
      "Processing image from URL: https://brandperception.s3.amazonaws.com/imagenet_eval_top50_middle50_bottom50/healthy/bottom50/11375188_376365465897991_2014256771_n.jpg\n"
     ]
    },
    {
     "name": "stderr",
     "output_type": "stream",
     "text": [
      "Processing images:  68%|██████████████▉       | 102/150 [09:27<03:47,  4.73s/it]"
     ]
    },
    {
     "name": "stdout",
     "output_type": "stream",
     "text": [
      "True Label: 0, Predicted Label: 1\n",
      "Processing image from URL: https://brandperception.s3.amazonaws.com/imagenet_eval_top50_middle50_bottom50/healthy/middle50/1138838641879978003_370239003.jpg\n"
     ]
    },
    {
     "name": "stderr",
     "output_type": "stream",
     "text": [
      "Processing images:  69%|███████████████       | 103/150 [09:32<03:46,  4.82s/it]"
     ]
    },
    {
     "name": "stdout",
     "output_type": "stream",
     "text": [
      "True Label: 0, Predicted Label: 0\n",
      "Processing image from URL: https://brandperception.s3.amazonaws.com/imagenet_eval_top50_middle50_bottom50/healthy/middle50/1240830979981249736_383761346.jpg\n"
     ]
    },
    {
     "name": "stderr",
     "output_type": "stream",
     "text": [
      "Processing images:  69%|███████████████▎      | 104/150 [09:37<03:47,  4.94s/it]"
     ]
    },
    {
     "name": "stdout",
     "output_type": "stream",
     "text": [
      "True Label: 0, Predicted Label: 0\n",
      "Processing image from URL: https://brandperception.s3.amazonaws.com/imagenet_eval_top50_middle50_bottom50/healthy/bottom50/1225518794035089168_29030434.jpg\n"
     ]
    },
    {
     "name": "stderr",
     "output_type": "stream",
     "text": [
      "Processing images:  70%|███████████████▍      | 105/150 [09:41<03:26,  4.59s/it]"
     ]
    },
    {
     "name": "stdout",
     "output_type": "stream",
     "text": [
      "True Label: 0, Predicted Label: 0\n",
      "Processing image from URL: https://brandperception.s3.amazonaws.com/imagenet_eval_top50_middle50_bottom50/healthy/top50/11373636_569381086534662_1407949391_n.jpg\n"
     ]
    },
    {
     "name": "stderr",
     "output_type": "stream",
     "text": [
      "Processing images:  71%|███████████████▌      | 106/150 [09:45<03:20,  4.57s/it]"
     ]
    },
    {
     "name": "stdout",
     "output_type": "stream",
     "text": [
      "True Label: 1, Predicted Label: 1\n",
      "Processing image from URL: https://brandperception.s3.amazonaws.com/imagenet_eval_top50_middle50_bottom50/healthy/middle50/1243949407516161325_261345956.jpg\n"
     ]
    },
    {
     "name": "stderr",
     "output_type": "stream",
     "text": [
      "Processing images:  71%|███████████████▋      | 107/150 [09:49<03:14,  4.52s/it]"
     ]
    },
    {
     "name": "stdout",
     "output_type": "stream",
     "text": [
      "True Label: 0, Predicted Label: 1\n",
      "Processing image from URL: https://brandperception.s3.amazonaws.com/imagenet_eval_top50_middle50_bottom50/healthy/top50/11205783_1584774875128242_1058023210_n.jpg\n"
     ]
    },
    {
     "name": "stderr",
     "output_type": "stream",
     "text": [
      "Processing images:  72%|███████████████▊      | 108/150 [09:55<03:27,  4.94s/it]"
     ]
    },
    {
     "name": "stdout",
     "output_type": "stream",
     "text": [
      "True Label: 1, Predicted Label: 1\n",
      "Processing image from URL: https://brandperception.s3.amazonaws.com/imagenet_eval_top50_middle50_bottom50/healthy/middle50/1248711306779321371_275686560.jpg\n"
     ]
    },
    {
     "name": "stderr",
     "output_type": "stream",
     "text": [
      "Processing images:  73%|███████████████▉      | 109/150 [10:04<04:02,  5.92s/it]"
     ]
    },
    {
     "name": "stdout",
     "output_type": "stream",
     "text": [
      "True Label: 0, Predicted Label: 1\n",
      "Processing image from URL: https://brandperception.s3.amazonaws.com/imagenet_eval_top50_middle50_bottom50/healthy/bottom50/10809479_833600626756874_2044214657_n.jpg\n"
     ]
    },
    {
     "name": "stderr",
     "output_type": "stream",
     "text": [
      "Processing images:  73%|████████████████▏     | 110/150 [10:08<03:40,  5.52s/it]"
     ]
    },
    {
     "name": "stdout",
     "output_type": "stream",
     "text": [
      "True Label: 0, Predicted Label: 1\n",
      "Processing image from URL: https://brandperception.s3.amazonaws.com/imagenet_eval_top50_middle50_bottom50/healthy/bottom50/12407682_877544959025523_1940575779_n.jpg\n"
     ]
    },
    {
     "name": "stderr",
     "output_type": "stream",
     "text": [
      "Processing images:  74%|████████████████▎     | 111/150 [10:13<03:24,  5.25s/it]"
     ]
    },
    {
     "name": "stdout",
     "output_type": "stream",
     "text": [
      "True Label: 0, Predicted Label: 1\n",
      "Processing image from URL: https://brandperception.s3.amazonaws.com/imagenet_eval_top50_middle50_bottom50/healthy/middle50/13392629_287700338242933_861121756_n.jpg\n"
     ]
    },
    {
     "name": "stderr",
     "output_type": "stream",
     "text": [
      "Processing images:  75%|████████████████▍     | 112/150 [10:22<04:05,  6.47s/it]"
     ]
    },
    {
     "name": "stdout",
     "output_type": "stream",
     "text": [
      "True Label: 0, Predicted Label: 1\n",
      "Processing image from URL: https://brandperception.s3.amazonaws.com/imagenet_eval_top50_middle50_bottom50/healthy/middle50/1132606902341040390_508148165.jpg\n"
     ]
    },
    {
     "name": "stderr",
     "output_type": "stream",
     "text": [
      "Processing images:  75%|████████████████▌     | 113/150 [10:27<03:41,  5.97s/it]"
     ]
    },
    {
     "name": "stdout",
     "output_type": "stream",
     "text": [
      "True Label: 0, Predicted Label: 1\n",
      "Processing image from URL: https://brandperception.s3.amazonaws.com/imagenet_eval_top50_middle50_bottom50/healthy/middle50/1100455198990501138_46900992.jpg\n"
     ]
    },
    {
     "name": "stderr",
     "output_type": "stream",
     "text": [
      "Processing images:  76%|████████████████▋     | 114/150 [10:31<03:13,  5.38s/it]"
     ]
    },
    {
     "name": "stdout",
     "output_type": "stream",
     "text": [
      "True Label: 0, Predicted Label: 1\n",
      "Processing image from URL: https://brandperception.s3.amazonaws.com/imagenet_eval_top50_middle50_bottom50/healthy/top50/1078387281953064327_342981824.jpg\n"
     ]
    },
    {
     "name": "stderr",
     "output_type": "stream",
     "text": [
      "Processing images:  77%|████████████████▊     | 115/150 [10:36<03:02,  5.20s/it]"
     ]
    },
    {
     "name": "stdout",
     "output_type": "stream",
     "text": [
      "True Label: 1, Predicted Label: 1\n",
      "Processing image from URL: https://brandperception.s3.amazonaws.com/imagenet_eval_top50_middle50_bottom50/healthy/top50/1226977463271372479_3127948276.jpg\n"
     ]
    },
    {
     "name": "stderr",
     "output_type": "stream",
     "text": [
      "Processing images:  77%|█████████████████     | 116/150 [10:40<02:44,  4.84s/it]"
     ]
    },
    {
     "name": "stdout",
     "output_type": "stream",
     "text": [
      "True Label: 1, Predicted Label: 1\n",
      "Processing image from URL: https://brandperception.s3.amazonaws.com/imagenet_eval_top50_middle50_bottom50/healthy/middle50/1235380567723793942_3143786590.jpg\n"
     ]
    },
    {
     "name": "stderr",
     "output_type": "stream",
     "text": [
      "Processing images:  78%|█████████████████▏    | 117/150 [10:45<02:39,  4.84s/it]"
     ]
    },
    {
     "name": "stdout",
     "output_type": "stream",
     "text": [
      "True Label: 0, Predicted Label: 1\n",
      "Processing image from URL: https://brandperception.s3.amazonaws.com/imagenet_eval_top50_middle50_bottom50/healthy/bottom50/11252675_1571210983157900_1895168595_n.jpg\n"
     ]
    },
    {
     "name": "stderr",
     "output_type": "stream",
     "text": [
      "Processing images:  79%|█████████████████▎    | 118/150 [10:48<02:24,  4.52s/it]"
     ]
    },
    {
     "name": "stdout",
     "output_type": "stream",
     "text": [
      "True Label: 0, Predicted Label: 1\n",
      "Processing image from URL: https://brandperception.s3.amazonaws.com/imagenet_eval_top50_middle50_bottom50/healthy/bottom50/1238676769240921133_838252188.jpg\n"
     ]
    },
    {
     "name": "stderr",
     "output_type": "stream",
     "text": [
      "Processing images:  79%|█████████████████▍    | 119/150 [10:52<02:15,  4.36s/it]"
     ]
    },
    {
     "name": "stdout",
     "output_type": "stream",
     "text": [
      "True Label: 0, Predicted Label: 1\n",
      "Processing image from URL: https://brandperception.s3.amazonaws.com/imagenet_eval_top50_middle50_bottom50/healthy/top50/1245144385757818305_1491217730.jpg\n"
     ]
    },
    {
     "name": "stderr",
     "output_type": "stream",
     "text": [
      "Processing images:  80%|█████████████████▌    | 120/150 [10:58<02:22,  4.74s/it]"
     ]
    },
    {
     "name": "stdout",
     "output_type": "stream",
     "text": [
      "True Label: 1, Predicted Label: 1\n",
      "Processing image from URL: https://brandperception.s3.amazonaws.com/imagenet_eval_top50_middle50_bottom50/healthy/top50/1132250791192191549_4417711.jpg\n"
     ]
    },
    {
     "name": "stderr",
     "output_type": "stream",
     "text": [
      "Processing images:  81%|█████████████████▋    | 121/150 [11:04<02:28,  5.10s/it]"
     ]
    },
    {
     "name": "stdout",
     "output_type": "stream",
     "text": [
      "True Label: 1, Predicted Label: 1\n",
      "Processing image from URL: https://brandperception.s3.amazonaws.com/imagenet_eval_top50_middle50_bottom50/healthy/top50/11199493_1574465939473964_1033976852_n.jpg\n"
     ]
    },
    {
     "name": "stderr",
     "output_type": "stream",
     "text": [
      "Processing images:  81%|█████████████████▉    | 122/150 [11:09<02:25,  5.20s/it]"
     ]
    },
    {
     "name": "stdout",
     "output_type": "stream",
     "text": [
      "True Label: 1, Predicted Label: 1\n",
      "Processing image from URL: https://brandperception.s3.amazonaws.com/imagenet_eval_top50_middle50_bottom50/healthy/top50/11311062_821247244621310_683272270_n.jpg\n"
     ]
    },
    {
     "name": "stderr",
     "output_type": "stream",
     "text": [
      "Processing images:  82%|██████████████████    | 123/150 [11:14<02:14,  4.99s/it]"
     ]
    },
    {
     "name": "stdout",
     "output_type": "stream",
     "text": [
      "True Label: 1, Predicted Label: 1\n",
      "Processing image from URL: https://brandperception.s3.amazonaws.com/imagenet_eval_top50_middle50_bottom50/healthy/middle50/1239832577205165116_542639438.jpg\n"
     ]
    },
    {
     "name": "stderr",
     "output_type": "stream",
     "text": [
      "Processing images:  83%|██████████████████▏   | 124/150 [11:19<02:14,  5.18s/it]"
     ]
    },
    {
     "name": "stdout",
     "output_type": "stream",
     "text": [
      "True Label: 1, Predicted Label: 1\n",
      "Processing image from URL: https://brandperception.s3.amazonaws.com/imagenet_eval_top50_middle50_bottom50/healthy/middle50/899595478544326194_1408907982.jpg\n"
     ]
    },
    {
     "name": "stderr",
     "output_type": "stream",
     "text": [
      "Processing images:  83%|██████████████████▎   | 125/150 [11:28<02:33,  6.15s/it]"
     ]
    },
    {
     "name": "stdout",
     "output_type": "stream",
     "text": [
      "True Label: 1, Predicted Label: 1\n",
      "Processing image from URL: https://brandperception.s3.amazonaws.com/imagenet_eval_top50_middle50_bottom50/healthy/middle50/1241387775291408853_269194207.jpg\n"
     ]
    },
    {
     "name": "stderr",
     "output_type": "stream",
     "text": [
      "Processing images:  84%|██████████████████▍   | 126/150 [11:32<02:11,  5.47s/it]"
     ]
    },
    {
     "name": "stdout",
     "output_type": "stream",
     "text": [
      "True Label: 0, Predicted Label: 0\n",
      "Processing image from URL: https://brandperception.s3.amazonaws.com/imagenet_eval_top50_middle50_bottom50/healthy/bottom50/1250143337880557639_233538141.jpg\n"
     ]
    },
    {
     "name": "stderr",
     "output_type": "stream",
     "text": [
      "Processing images:  85%|██████████████████▋   | 127/150 [11:36<01:57,  5.12s/it]"
     ]
    },
    {
     "name": "stdout",
     "output_type": "stream",
     "text": [
      "True Label: 0, Predicted Label: 1\n",
      "Processing image from URL: https://brandperception.s3.amazonaws.com/imagenet_eval_top50_middle50_bottom50/healthy/top50/1159819085110923182_1450079178.jpg\n"
     ]
    },
    {
     "name": "stderr",
     "output_type": "stream",
     "text": [
      "Processing images:  85%|██████████████████▊   | 128/150 [11:41<01:53,  5.18s/it]"
     ]
    },
    {
     "name": "stdout",
     "output_type": "stream",
     "text": [
      "True Label: 1, Predicted Label: 0\n",
      "Processing image from URL: https://brandperception.s3.amazonaws.com/imagenet_eval_top50_middle50_bottom50/healthy/bottom50/12331817_994465477281694_48793285_n.jpg\n"
     ]
    },
    {
     "name": "stderr",
     "output_type": "stream",
     "text": [
      "Processing images:  86%|██████████████████▉   | 129/150 [11:46<01:42,  4.89s/it]"
     ]
    },
    {
     "name": "stdout",
     "output_type": "stream",
     "text": [
      "True Label: 0, Predicted Label: 0\n",
      "Processing image from URL: https://brandperception.s3.amazonaws.com/imagenet_eval_top50_middle50_bottom50/healthy/top50/1042821875364126114_1077341398.jpg\n"
     ]
    },
    {
     "name": "stderr",
     "output_type": "stream",
     "text": [
      "Processing images:  87%|███████████████████   | 130/150 [11:47<01:18,  3.94s/it]"
     ]
    },
    {
     "name": "stdout",
     "output_type": "stream",
     "text": [
      "Failed to process image from URL: https://brandperception.s3.amazonaws.com/imagenet_eval_top50_middle50_bottom50/healthy/top50/1042821875364126114_1077341398.jpg. Error: Error code: 400 - {'error': {'message': 'Error while downloading https://brandperception.s3.amazonaws.com/imagenet_eval_top50_middle50_bottom50/healthy/top50/1042821875364126114_1077341398.jpg.', 'type': 'invalid_request_error', 'param': None, 'code': 'invalid_image_url'}}\n",
      "Processing image from URL: https://brandperception.s3.amazonaws.com/imagenet_eval_top50_middle50_bottom50/healthy/top50/1238835162524471439_31325563.jpg\n"
     ]
    },
    {
     "name": "stderr",
     "output_type": "stream",
     "text": [
      "Processing images:  87%|███████████████████▏  | 131/150 [11:52<01:18,  4.14s/it]"
     ]
    },
    {
     "name": "stdout",
     "output_type": "stream",
     "text": [
      "True Label: 1, Predicted Label: 1\n",
      "Processing image from URL: https://brandperception.s3.amazonaws.com/imagenet_eval_top50_middle50_bottom50/healthy/top50/1242878353051661511_45982732.jpg\n"
     ]
    },
    {
     "name": "stderr",
     "output_type": "stream",
     "text": [
      "Processing images:  88%|███████████████████▎  | 132/150 [11:57<01:17,  4.28s/it]"
     ]
    },
    {
     "name": "stdout",
     "output_type": "stream",
     "text": [
      "True Label: 1, Predicted Label: 1\n",
      "Processing image from URL: https://brandperception.s3.amazonaws.com/imagenet_eval_top50_middle50_bottom50/healthy/middle50/11325392_662432040553856_1398713650_n.jpg\n"
     ]
    },
    {
     "name": "stderr",
     "output_type": "stream",
     "text": [
      "Processing images:  89%|███████████████████▌  | 133/150 [12:01<01:12,  4.29s/it]"
     ]
    },
    {
     "name": "stdout",
     "output_type": "stream",
     "text": [
      "True Label: 0, Predicted Label: 1\n",
      "Processing image from URL: https://brandperception.s3.amazonaws.com/imagenet_eval_top50_middle50_bottom50/healthy/top50/1250093093673815132_332341586.jpg\n"
     ]
    },
    {
     "name": "stderr",
     "output_type": "stream",
     "text": [
      "Processing images:  89%|███████████████████▋  | 134/150 [12:05<01:10,  4.38s/it]"
     ]
    },
    {
     "name": "stdout",
     "output_type": "stream",
     "text": [
      "True Label: 0, Predicted Label: 0\n",
      "Processing image from URL: https://brandperception.s3.amazonaws.com/imagenet_eval_top50_middle50_bottom50/healthy/middle50/1240759777552512308_15811804.jpg\n"
     ]
    },
    {
     "name": "stderr",
     "output_type": "stream",
     "text": [
      "Processing images:  90%|███████████████████▊  | 135/150 [12:09<01:04,  4.27s/it]"
     ]
    },
    {
     "name": "stdout",
     "output_type": "stream",
     "text": [
      "True Label: 0, Predicted Label: 0\n",
      "Processing image from URL: https://brandperception.s3.amazonaws.com/imagenet_eval_top50_middle50_bottom50/healthy/middle50/10919216_321256141403677_1513517485_n.jpg\n"
     ]
    },
    {
     "name": "stderr",
     "output_type": "stream",
     "text": [
      "Processing images:  91%|███████████████████▉  | 136/150 [12:15<01:06,  4.74s/it]"
     ]
    },
    {
     "name": "stdout",
     "output_type": "stream",
     "text": [
      "True Label: 0, Predicted Label: 1\n",
      "Processing image from URL: https://brandperception.s3.amazonaws.com/imagenet_eval_top50_middle50_bottom50/healthy/top50/1243441624876930638_253038668.jpg\n"
     ]
    },
    {
     "name": "stderr",
     "output_type": "stream",
     "text": [
      "Processing images:  91%|████████████████████  | 137/150 [12:21<01:04,  4.96s/it]"
     ]
    },
    {
     "name": "stdout",
     "output_type": "stream",
     "text": [
      "True Label: 1, Predicted Label: 1\n",
      "Processing image from URL: https://brandperception.s3.amazonaws.com/imagenet_eval_top50_middle50_bottom50/healthy/top50/1212053594908370930_1957939072.jpg\n"
     ]
    },
    {
     "name": "stderr",
     "output_type": "stream",
     "text": [
      "Processing images:  92%|████████████████████▏ | 138/150 [12:25<00:57,  4.78s/it]"
     ]
    },
    {
     "name": "stdout",
     "output_type": "stream",
     "text": [
      "True Label: 0, Predicted Label: 1\n",
      "Processing image from URL: https://brandperception.s3.amazonaws.com/imagenet_eval_top50_middle50_bottom50/healthy/bottom50/10431831_663184540442516_119758953_n.jpg\n"
     ]
    },
    {
     "name": "stderr",
     "output_type": "stream",
     "text": [
      "Processing images:  93%|████████████████████▍ | 139/150 [12:30<00:51,  4.73s/it]"
     ]
    },
    {
     "name": "stdout",
     "output_type": "stream",
     "text": [
      "True Label: 0, Predicted Label: 1\n",
      "Processing image from URL: https://brandperception.s3.amazonaws.com/imagenet_eval_top50_middle50_bottom50/healthy/middle50/1228241506095366632_954613359.jpg\n"
     ]
    },
    {
     "name": "stderr",
     "output_type": "stream",
     "text": [
      "Processing images:  93%|████████████████████▌ | 140/150 [12:34<00:46,  4.66s/it]"
     ]
    },
    {
     "name": "stdout",
     "output_type": "stream",
     "text": [
      "True Label: 0, Predicted Label: 1\n",
      "Processing image from URL: https://brandperception.s3.amazonaws.com/imagenet_eval_top50_middle50_bottom50/healthy/top50/1244145591063736887_3091768643.jpg\n"
     ]
    },
    {
     "name": "stderr",
     "output_type": "stream",
     "text": [
      "Processing images:  94%|████████████████████▋ | 141/150 [12:38<00:40,  4.52s/it]"
     ]
    },
    {
     "name": "stdout",
     "output_type": "stream",
     "text": [
      "True Label: 1, Predicted Label: 1\n",
      "Processing image from URL: https://brandperception.s3.amazonaws.com/imagenet_eval_top50_middle50_bottom50/healthy/top50/11226899_424165217762652_2037445810_n.jpg\n"
     ]
    },
    {
     "name": "stderr",
     "output_type": "stream",
     "text": [
      "Processing images:  95%|████████████████████▊ | 142/150 [12:46<00:43,  5.38s/it]"
     ]
    },
    {
     "name": "stdout",
     "output_type": "stream",
     "text": [
      "True Label: 1, Predicted Label: 1\n",
      "Processing image from URL: https://brandperception.s3.amazonaws.com/imagenet_eval_top50_middle50_bottom50/healthy/bottom50/11191262_1421595411491697_673835140_n.jpg\n"
     ]
    },
    {
     "name": "stderr",
     "output_type": "stream",
     "text": [
      "Processing images:  95%|████████████████████▉ | 143/150 [12:53<00:42,  6.04s/it]"
     ]
    },
    {
     "name": "stdout",
     "output_type": "stream",
     "text": [
      "True Label: 0, Predicted Label: 1\n",
      "Processing image from URL: https://brandperception.s3.amazonaws.com/imagenet_eval_top50_middle50_bottom50/healthy/bottom50/13737019_1777013735912087_176158256_n.jpg\n"
     ]
    },
    {
     "name": "stderr",
     "output_type": "stream",
     "text": [
      "Processing images:  96%|█████████████████████ | 144/150 [12:58<00:34,  5.76s/it]"
     ]
    },
    {
     "name": "stdout",
     "output_type": "stream",
     "text": [
      "True Label: 0, Predicted Label: 1\n",
      "Processing image from URL: https://brandperception.s3.amazonaws.com/imagenet_eval_top50_middle50_bottom50/healthy/bottom50/11235927_1599213530357024_1428157380_n.jpg\n"
     ]
    },
    {
     "name": "stderr",
     "output_type": "stream",
     "text": [
      "Processing images:  97%|█████████████████████▎| 145/150 [13:03<00:27,  5.45s/it]"
     ]
    },
    {
     "name": "stdout",
     "output_type": "stream",
     "text": [
      "True Label: 0, Predicted Label: 0\n",
      "Processing image from URL: https://brandperception.s3.amazonaws.com/imagenet_eval_top50_middle50_bottom50/healthy/middle50/11093128_377681239106404_584828124_n.jpg\n"
     ]
    },
    {
     "name": "stderr",
     "output_type": "stream",
     "text": [
      "Processing images:  97%|█████████████████████▍| 146/150 [13:08<00:21,  5.26s/it]"
     ]
    },
    {
     "name": "stdout",
     "output_type": "stream",
     "text": [
      "True Label: 0, Predicted Label: 0\n",
      "Processing image from URL: https://brandperception.s3.amazonaws.com/imagenet_eval_top50_middle50_bottom50/healthy/bottom50/10932173_483914818423881_1255970083_n.jpg\n"
     ]
    },
    {
     "name": "stderr",
     "output_type": "stream",
     "text": [
      "Processing images:  98%|█████████████████████▌| 147/150 [13:13<00:15,  5.22s/it]"
     ]
    },
    {
     "name": "stdout",
     "output_type": "stream",
     "text": [
      "True Label: 0, Predicted Label: 1\n",
      "Processing image from URL: https://brandperception.s3.amazonaws.com/imagenet_eval_top50_middle50_bottom50/healthy/bottom50/1243006021809570575_389677143.jpg\n"
     ]
    },
    {
     "name": "stderr",
     "output_type": "stream",
     "text": [
      "Processing images:  99%|█████████████████████▋| 148/150 [13:19<00:10,  5.43s/it]"
     ]
    },
    {
     "name": "stdout",
     "output_type": "stream",
     "text": [
      "True Label: 0, Predicted Label: 1\n",
      "Processing image from URL: https://brandperception.s3.amazonaws.com/imagenet_eval_top50_middle50_bottom50/healthy/bottom50/11098217_659419300830310_1255803697_n.jpg\n"
     ]
    },
    {
     "name": "stderr",
     "output_type": "stream",
     "text": [
      "Processing images:  99%|█████████████████████▊| 149/150 [13:24<00:05,  5.15s/it]"
     ]
    },
    {
     "name": "stdout",
     "output_type": "stream",
     "text": [
      "True Label: 0, Predicted Label: 1\n",
      "Processing image from URL: https://brandperception.s3.amazonaws.com/imagenet_eval_top50_middle50_bottom50/healthy/bottom50/1219628370709933950_226337522.jpg\n"
     ]
    },
    {
     "name": "stderr",
     "output_type": "stream",
     "text": [
      "Processing images: 100%|██████████████████████| 150/150 [13:28<00:00,  5.39s/it]"
     ]
    },
    {
     "name": "stdout",
     "output_type": "stream",
     "text": [
      "True Label: 0, Predicted Label: 0\n"
     ]
    },
    {
     "name": "stderr",
     "output_type": "stream",
     "text": [
      "\n"
     ]
    }
   ],
   "source": [
    "drive.mount('/content/drive')\n",
    "file_path = '/content/drive/My Drive/Colab Notebooks/CV_task/healthy_dataset.csv'\n",
    "data = pd.read_csv(file_path)\n",
    "\n",
    "# data = data.head(10) # test if code works fine\n",
    "\n",
    "true_labels = []\n",
    "predicted_labels = []  # 1 for healthy, 0 for unhealthy\n",
    "healthy_probs = []\n",
    "\n",
    "group_results = {\"top50\": [], \"middle50\": [], \"bottom50\": []}\n",
    "consumer_results = {}\n",
    "\n",
    "for _, row in tqdm(data.iterrows(), desc=\"Processing images\", total=len(data)):\n",
    "    image_url = row['image_url']\n",
    "    true_label = 1 if row['healthy'].strip().lower() == 'yes' else 0\n",
    "    group = row['top_middle_bottom']  # Group classification (top50, middle50, bottom50)\n",
    "    consumer = row['consumer_official']  # Consumer official information\n",
    "\n",
    "    # Initialize consumer group in the dictionary\n",
    "    if consumer not in consumer_results:\n",
    "        consumer_results[consumer] = {\"true_labels\": [], \"predicted_labels\": []}\n",
    "\n",
    "    # Get the image from the URL\n",
    "    try:\n",
    "        response = requests.get(image_url)\n",
    "        # img = Image.open(BytesIO(response.content))\n",
    "\n",
    "        print(f\"Processing image from URL: {image_url}\")\n",
    "        # plt.imshow(img)\n",
    "        # plt.axis('off')\n",
    "        # plt.show()\n",
    "\n",
    "        # Send the image URL to the GPT model\n",
    "        response = client.chat.completions.create(\n",
    "            model=\"gpt-4o\",\n",
    "            messages=[\n",
    "                {\n",
    "                    \"role\": \"user\",\n",
    "                    \"content\": [\n",
    "                        {\n",
    "                            \"type\": \"text\",\n",
    "                            \"text\": label_attribution_prompt_text,\n",
    "                        },\n",
    "                        {\n",
    "                            \"type\": \"image_url\",\n",
    "                            \"image_url\": {\"url\": image_url},\n",
    "                        },\n",
    "                    ],\n",
    "                }\n",
    "            ],\n",
    "        )\n",
    "        result = response.choices[0].message.content.lower()\n",
    "\n",
    "        # Determine predicted label:\n",
    "        # 1 if the result is \"healthy\", 0 if the result is \"unhealthy\"\n",
    "        if \"unhealthy\" in result:\n",
    "            predicted_label = 0\n",
    "        elif \"healthy\" in result:\n",
    "            predicted_label = 1\n",
    "        else:\n",
    "            predicted_label = 0  # Default to \"unhealthy\" if neither is explicitly mentioned\n",
    "\n",
    "        predicted_labels.append(predicted_label)\n",
    "        healthy_probs.append(1.0 if predicted_label == 1 else 0.0)  # Confidence: 1 for healthy, 0 for unhealthy\n",
    "        true_labels.append(true_label)\n",
    "\n",
    "        group_results[group].append((true_label, predicted_label))\n",
    "\n",
    "        consumer_results[consumer][\"true_labels\"].append(true_label)\n",
    "        consumer_results[consumer][\"predicted_labels\"].append(predicted_label)\n",
    "\n",
    "        print(f\"True Label: {true_label}, Predicted Label: {predicted_label}\")\n",
    "    except Exception as e:\n",
    "        print(f\"Failed to process image from URL: {image_url}. Error: {e}\")\n"
   ]
  },
  {
   "cell_type": "code",
   "execution_count": null,
   "metadata": {
    "id": "H71FBM18dEC1",
    "outputId": "20eadfc2-7118-40fc-f3d0-141b20a28497"
   },
   "outputs": [
    {
     "name": "stdout",
     "output_type": "stream",
     "text": [
      "Overall Accuracy: 0.5302013422818792\n",
      "Overall AUC: 0.6287515006002401\n",
      "Accuracy for top50: 0.8571428571428571\n",
      "Accuracy for middle50: 0.5\n",
      "Accuracy for bottom50: 0.24\n",
      "Accuracy for consumer user: 0.6746987951807228\n",
      "Accuracy for consumer official: 0.3484848484848485\n"
     ]
    }
   ],
   "source": [
    "results_list = []\n",
    "\n",
    "# Calculate Overall Accuracy\n",
    "overall_accuracy = accuracy_score(true_labels, predicted_labels)\n",
    "results_list.append([\"Overall Accuracy\", overall_accuracy])\n",
    "print(f\"Overall Accuracy: {overall_accuracy}\")\n",
    "\n",
    "# Calculate Overall AUC\n",
    "if len(set(true_labels)) > 1:\n",
    "    overall_auc = roc_auc_score(true_labels, healthy_probs)\n",
    "    results_list.append([\"Overall AUC\", overall_auc])\n",
    "    print(f\"Overall AUC: {overall_auc}\")\n",
    "else:\n",
    "    print(\"AUC cannot be calculated as there is only one class in true labels.\")\n",
    "\n",
    "# Group-wise accuracy\n",
    "for group, values in group_results.items():\n",
    "    if values:  # Ensure the group has data\n",
    "        group_true_labels, group_predicted_labels = zip(*values)\n",
    "        group_accuracy = accuracy_score(group_true_labels, group_predicted_labels)\n",
    "        results_list.append([f\"Accuracy for group {group}\", group_accuracy])\n",
    "        print(f\"Accuracy for {group}: {group_accuracy}\")\n",
    "    else:\n",
    "        print(f\"No data for group {group}.\")\n",
    "\n",
    "# Consumer-wise accuracy\n",
    "for consumer, results_dict in consumer_results.items():\n",
    "    if results_dict[\"true_labels\"]:  # Ensure the consumer has data\n",
    "        consumer_accuracy = accuracy_score(results_dict[\"true_labels\"], results_dict[\"predicted_labels\"])\n",
    "        results_list.append([f\"Accuracy for consumer {consumer}\", consumer_accuracy])\n",
    "        print(f\"Accuracy for consumer {consumer}: {consumer_accuracy}\")\n",
    "    else:\n",
    "        print(f\"No data for consumer {consumer}.\")\n",
    "\n",
    "df_results = pd.DataFrame(results_list, columns=[\"Metric\", \"Value\"])\n",
    "df_results.to_csv('test_results_healthy.csv', index=False)\n"
   ]
  },
  {
   "cell_type": "markdown",
   "metadata": {
    "id": "NcdpvqQddEC2"
   },
   "source": [
    "### 5. Fun / Dull Classification Study"
   ]
  },
  {
   "cell_type": "code",
   "execution_count": null,
   "metadata": {
    "id": "GN_VKJHAdEC2",
    "outputId": "df4c6291-bb39-4c9a-f19d-93a36b47b54d"
   },
   "outputs": [
    {
     "name": "stderr",
     "output_type": "stream",
     "text": [
      "Processing images:   0%|                                | 0/150 [00:00<?, ?it/s]"
     ]
    },
    {
     "name": "stdout",
     "output_type": "stream",
     "text": [
      "Processing image from URL: https://brandperception.s3.amazonaws.com/imagenet_eval_top50_middle50_bottom50/fun/middle50/1251786557016454481_248976228.jpg\n"
     ]
    },
    {
     "name": "stderr",
     "output_type": "stream",
     "text": [
      "Processing images:   1%|▏                       | 1/150 [00:05<12:27,  5.02s/it]"
     ]
    },
    {
     "name": "stdout",
     "output_type": "stream",
     "text": [
      "True Label: 1, Predicted Label: 1\n",
      "Processing image from URL: https://brandperception.s3.amazonaws.com/imagenet_eval_top50_middle50_bottom50/fun/top50/10576151_797937836894059_1106431855_n.jpg\n"
     ]
    },
    {
     "name": "stderr",
     "output_type": "stream",
     "text": [
      "Processing images:   1%|▎                       | 2/150 [00:09<10:56,  4.44s/it]"
     ]
    },
    {
     "name": "stdout",
     "output_type": "stream",
     "text": [
      "True Label: 1, Predicted Label: 1\n",
      "Processing image from URL: https://brandperception.s3.amazonaws.com/imagenet_eval_top50_middle50_bottom50/fun/bottom50/1216589913219546513_30289494.jpg\n"
     ]
    },
    {
     "name": "stderr",
     "output_type": "stream",
     "text": [
      "Processing images:   2%|▍                       | 3/150 [00:13<10:34,  4.32s/it]"
     ]
    },
    {
     "name": "stdout",
     "output_type": "stream",
     "text": [
      "True Label: 0, Predicted Label: 0\n",
      "Processing image from URL: https://brandperception.s3.amazonaws.com/imagenet_eval_top50_middle50_bottom50/fun/top50/11176118_673330349480360_1005835895_n.jpg\n"
     ]
    },
    {
     "name": "stderr",
     "output_type": "stream",
     "text": [
      "Processing images:   3%|▋                       | 4/150 [00:18<11:42,  4.81s/it]"
     ]
    },
    {
     "name": "stdout",
     "output_type": "stream",
     "text": [
      "True Label: 1, Predicted Label: 1\n",
      "Processing image from URL: https://brandperception.s3.amazonaws.com/imagenet_eval_top50_middle50_bottom50/fun/bottom50/1244383243524608255_195273811.jpg\n"
     ]
    },
    {
     "name": "stderr",
     "output_type": "stream",
     "text": [
      "Processing images:   3%|▊                       | 5/150 [00:23<11:10,  4.62s/it]"
     ]
    },
    {
     "name": "stdout",
     "output_type": "stream",
     "text": [
      "True Label: 0, Predicted Label: 1\n",
      "Processing image from URL: https://brandperception.s3.amazonaws.com/imagenet_eval_top50_middle50_bottom50/fun/middle50/1248668681693999788_359465427.jpg\n"
     ]
    },
    {
     "name": "stderr",
     "output_type": "stream",
     "text": [
      "Processing images:   4%|▉                       | 6/150 [01:08<44:05, 18.37s/it]"
     ]
    },
    {
     "name": "stdout",
     "output_type": "stream",
     "text": [
      "True Label: 0, Predicted Label: 1\n",
      "Processing image from URL: https://brandperception.s3.amazonaws.com/imagenet_eval_top50_middle50_bottom50/fun/top50/11205731_1427178667599350_1109031667_n.jpg\n"
     ]
    },
    {
     "name": "stderr",
     "output_type": "stream",
     "text": [
      "Processing images:   5%|█                       | 7/150 [01:13<33:27, 14.04s/it]"
     ]
    },
    {
     "name": "stdout",
     "output_type": "stream",
     "text": [
      "True Label: 1, Predicted Label: 1\n",
      "Processing image from URL: https://brandperception.s3.amazonaws.com/imagenet_eval_top50_middle50_bottom50/fun/bottom50/1240080644767879862_1515078715.jpg\n"
     ]
    },
    {
     "name": "stderr",
     "output_type": "stream",
     "text": [
      "Processing images:   5%|█▎                      | 8/150 [01:17<26:02, 11.00s/it]"
     ]
    },
    {
     "name": "stdout",
     "output_type": "stream",
     "text": [
      "True Label: 0, Predicted Label: 1\n",
      "Processing image from URL: https://brandperception.s3.amazonaws.com/imagenet_eval_top50_middle50_bottom50/fun/bottom50/11201792_977672708930023_2005279887_n.jpg\n"
     ]
    },
    {
     "name": "stderr",
     "output_type": "stream",
     "text": [
      "Processing images:   6%|█▍                      | 9/150 [01:21<20:43,  8.82s/it]"
     ]
    },
    {
     "name": "stdout",
     "output_type": "stream",
     "text": [
      "True Label: 0, Predicted Label: 1\n",
      "Processing image from URL: https://brandperception.s3.amazonaws.com/imagenet_eval_top50_middle50_bottom50/fun/middle50/1242158635802504179_606688145.jpg\n"
     ]
    },
    {
     "name": "stderr",
     "output_type": "stream",
     "text": [
      "Processing images:   7%|█▌                     | 10/150 [01:26<17:18,  7.42s/it]"
     ]
    },
    {
     "name": "stdout",
     "output_type": "stream",
     "text": [
      "True Label: 0, Predicted Label: 1\n",
      "Processing image from URL: https://brandperception.s3.amazonaws.com/imagenet_eval_top50_middle50_bottom50/fun/bottom50/11351957_365173703673355_486256626_n.jpg\n"
     ]
    },
    {
     "name": "stderr",
     "output_type": "stream",
     "text": [
      "Processing images:   7%|█▋                     | 11/150 [01:31<15:37,  6.75s/it]"
     ]
    },
    {
     "name": "stdout",
     "output_type": "stream",
     "text": [
      "True Label: 0, Predicted Label: 1\n",
      "Processing image from URL: https://brandperception.s3.amazonaws.com/imagenet_eval_top50_middle50_bottom50/fun/top50/11296791_1584018088519297_2075109245_n.jpg\n"
     ]
    },
    {
     "name": "stderr",
     "output_type": "stream",
     "text": [
      "Processing images:   8%|█▊                     | 12/150 [01:35<13:26,  5.85s/it]"
     ]
    },
    {
     "name": "stdout",
     "output_type": "stream",
     "text": [
      "True Label: 1, Predicted Label: 1\n",
      "Processing image from URL: https://brandperception.s3.amazonaws.com/imagenet_eval_top50_middle50_bottom50/fun/top50/11252890_1601997143375298_21503209_n.jpg\n"
     ]
    },
    {
     "name": "stderr",
     "output_type": "stream",
     "text": [
      "Processing images:   9%|█▉                     | 13/150 [01:39<12:16,  5.38s/it]"
     ]
    },
    {
     "name": "stdout",
     "output_type": "stream",
     "text": [
      "True Label: 1, Predicted Label: 1\n",
      "Processing image from URL: https://brandperception.s3.amazonaws.com/imagenet_eval_top50_middle50_bottom50/fun/top50/11252675_1571210983157900_1895168595_n.jpg\n"
     ]
    },
    {
     "name": "stderr",
     "output_type": "stream",
     "text": [
      "Processing images:   9%|██▏                    | 14/150 [01:43<11:31,  5.08s/it]"
     ]
    },
    {
     "name": "stdout",
     "output_type": "stream",
     "text": [
      "True Label: 1, Predicted Label: 1\n",
      "Processing image from URL: https://brandperception.s3.amazonaws.com/imagenet_eval_top50_middle50_bottom50/fun/bottom50/12940118_1680869942162617_213214106_n.jpg\n"
     ]
    },
    {
     "name": "stderr",
     "output_type": "stream",
     "text": [
      "Processing images:  10%|██▎                    | 15/150 [01:48<11:15,  5.00s/it]"
     ]
    },
    {
     "name": "stdout",
     "output_type": "stream",
     "text": [
      "True Label: 0, Predicted Label: 1\n",
      "Processing image from URL: https://brandperception.s3.amazonaws.com/imagenet_eval_top50_middle50_bottom50/fun/top50/11199621_816794258405300_821662334_n.jpg\n"
     ]
    },
    {
     "name": "stderr",
     "output_type": "stream",
     "text": [
      "Processing images:  11%|██▍                    | 16/150 [01:52<10:33,  4.73s/it]"
     ]
    },
    {
     "name": "stdout",
     "output_type": "stream",
     "text": [
      "True Label: 1, Predicted Label: 1\n",
      "Processing image from URL: https://brandperception.s3.amazonaws.com/imagenet_eval_top50_middle50_bottom50/fun/middle50/13725707_935241283269228_977980979_n.jpg\n"
     ]
    },
    {
     "name": "stderr",
     "output_type": "stream",
     "text": [
      "Processing images:  11%|██▌                    | 17/150 [01:57<10:15,  4.63s/it]"
     ]
    },
    {
     "name": "stdout",
     "output_type": "stream",
     "text": [
      "True Label: 0, Predicted Label: 1\n",
      "Processing image from URL: https://brandperception.s3.amazonaws.com/imagenet_eval_top50_middle50_bottom50/fun/top50/1241317716858981647_2008589562.jpg\n"
     ]
    },
    {
     "name": "stderr",
     "output_type": "stream",
     "text": [
      "Processing images:  12%|██▊                    | 18/150 [02:01<10:22,  4.72s/it]"
     ]
    },
    {
     "name": "stdout",
     "output_type": "stream",
     "text": [
      "True Label: 1, Predicted Label: 1\n",
      "Processing image from URL: https://brandperception.s3.amazonaws.com/imagenet_eval_top50_middle50_bottom50/fun/middle50/11351534_742626645867600_36085909_n.jpg\n"
     ]
    },
    {
     "name": "stderr",
     "output_type": "stream",
     "text": [
      "Processing images:  13%|██▉                    | 19/150 [02:07<10:29,  4.81s/it]"
     ]
    },
    {
     "name": "stdout",
     "output_type": "stream",
     "text": [
      "True Label: 1, Predicted Label: 1\n",
      "Processing image from URL: https://brandperception.s3.amazonaws.com/imagenet_eval_top50_middle50_bottom50/fun/bottom50/1234688424650629263_36236431.jpg\n"
     ]
    },
    {
     "name": "stderr",
     "output_type": "stream",
     "text": [
      "Processing images:  13%|███                    | 20/150 [02:11<09:54,  4.57s/it]"
     ]
    },
    {
     "name": "stdout",
     "output_type": "stream",
     "text": [
      "True Label: 0, Predicted Label: 1\n",
      "Processing image from URL: https://brandperception.s3.amazonaws.com/imagenet_eval_top50_middle50_bottom50/fun/top50/11203403_402314673283844_2145577492_n.jpg\n"
     ]
    },
    {
     "name": "stderr",
     "output_type": "stream",
     "text": [
      "Processing images:  14%|███▏                   | 21/150 [02:15<10:01,  4.67s/it]"
     ]
    },
    {
     "name": "stdout",
     "output_type": "stream",
     "text": [
      "True Label: 1, Predicted Label: 1\n",
      "Processing image from URL: https://brandperception.s3.amazonaws.com/imagenet_eval_top50_middle50_bottom50/fun/bottom50/1177750484499609918_2211852349.jpg\n"
     ]
    },
    {
     "name": "stderr",
     "output_type": "stream",
     "text": [
      "Processing images:  15%|███▎                   | 22/150 [02:20<09:58,  4.68s/it]"
     ]
    },
    {
     "name": "stdout",
     "output_type": "stream",
     "text": [
      "True Label: 0, Predicted Label: 1\n",
      "Processing image from URL: https://brandperception.s3.amazonaws.com/imagenet_eval_top50_middle50_bottom50/fun/bottom50/1228957292536353877_2542364180.jpg\n"
     ]
    },
    {
     "name": "stderr",
     "output_type": "stream",
     "text": [
      "Processing images:  15%|███▌                   | 23/150 [02:24<09:20,  4.41s/it]"
     ]
    },
    {
     "name": "stdout",
     "output_type": "stream",
     "text": [
      "True Label: 0, Predicted Label: 0\n",
      "Processing image from URL: https://brandperception.s3.amazonaws.com/imagenet_eval_top50_middle50_bottom50/fun/bottom50/1239452115487372293_1461363788.jpg\n"
     ]
    },
    {
     "name": "stderr",
     "output_type": "stream",
     "text": [
      "Processing images:  16%|███▋                   | 24/150 [02:29<09:23,  4.47s/it]"
     ]
    },
    {
     "name": "stdout",
     "output_type": "stream",
     "text": [
      "True Label: 0, Predicted Label: 1\n",
      "Processing image from URL: https://brandperception.s3.amazonaws.com/imagenet_eval_top50_middle50_bottom50/fun/top50/1242535592381165644_266587603.jpg\n"
     ]
    },
    {
     "name": "stderr",
     "output_type": "stream",
     "text": [
      "Processing images:  17%|███▊                   | 25/150 [02:33<09:16,  4.45s/it]"
     ]
    },
    {
     "name": "stdout",
     "output_type": "stream",
     "text": [
      "True Label: 1, Predicted Label: 1\n",
      "Processing image from URL: https://brandperception.s3.amazonaws.com/imagenet_eval_top50_middle50_bottom50/fun/bottom50/1241997469411304232_185533191.jpg\n"
     ]
    },
    {
     "name": "stderr",
     "output_type": "stream",
     "text": [
      "Processing images:  17%|███▉                   | 26/150 [02:37<09:10,  4.44s/it]"
     ]
    },
    {
     "name": "stdout",
     "output_type": "stream",
     "text": [
      "True Label: 0, Predicted Label: 1\n",
      "Processing image from URL: https://brandperception.s3.amazonaws.com/imagenet_eval_top50_middle50_bottom50/fun/bottom50/1063804712109248842_1493962595.jpg\n"
     ]
    },
    {
     "name": "stderr",
     "output_type": "stream",
     "text": [
      "Processing images:  18%|████▏                  | 27/150 [02:43<09:34,  4.67s/it]"
     ]
    },
    {
     "name": "stdout",
     "output_type": "stream",
     "text": [
      "True Label: 0, Predicted Label: 1\n",
      "Processing image from URL: https://brandperception.s3.amazonaws.com/imagenet_eval_top50_middle50_bottom50/fun/bottom50/1209931371689932086_48762940.jpg\n"
     ]
    },
    {
     "name": "stderr",
     "output_type": "stream",
     "text": [
      "Processing images:  19%|████▎                  | 28/150 [02:47<09:35,  4.72s/it]"
     ]
    },
    {
     "name": "stdout",
     "output_type": "stream",
     "text": [
      "True Label: 0, Predicted Label: 1\n",
      "Processing image from URL: https://brandperception.s3.amazonaws.com/imagenet_eval_top50_middle50_bottom50/fun/middle50/1241587907991477533_1479989134.jpg\n"
     ]
    },
    {
     "name": "stderr",
     "output_type": "stream",
     "text": [
      "Processing images:  19%|████▍                  | 29/150 [02:51<08:54,  4.41s/it]"
     ]
    },
    {
     "name": "stdout",
     "output_type": "stream",
     "text": [
      "True Label: 0, Predicted Label: 1\n",
      "Processing image from URL: https://brandperception.s3.amazonaws.com/imagenet_eval_top50_middle50_bottom50/fun/bottom50/1244884820505630155_2190950228.jpg\n"
     ]
    },
    {
     "name": "stderr",
     "output_type": "stream",
     "text": [
      "Processing images:  20%|████▌                  | 30/150 [02:56<09:18,  4.65s/it]"
     ]
    },
    {
     "name": "stdout",
     "output_type": "stream",
     "text": [
      "True Label: 0, Predicted Label: 0\n",
      "Processing image from URL: https://brandperception.s3.amazonaws.com/imagenet_eval_top50_middle50_bottom50/fun/top50/11377847_728710750585292_1071372234_n.jpg\n"
     ]
    },
    {
     "name": "stderr",
     "output_type": "stream",
     "text": [
      "Processing images:  21%|████▊                  | 31/150 [03:01<09:22,  4.73s/it]"
     ]
    },
    {
     "name": "stdout",
     "output_type": "stream",
     "text": [
      "True Label: 1, Predicted Label: 1\n",
      "Processing image from URL: https://brandperception.s3.amazonaws.com/imagenet_eval_top50_middle50_bottom50/fun/bottom50/1242893887920713951_2542460299.jpg\n"
     ]
    },
    {
     "name": "stderr",
     "output_type": "stream",
     "text": [
      "Processing images:  21%|████▉                  | 32/150 [03:05<08:59,  4.57s/it]"
     ]
    },
    {
     "name": "stdout",
     "output_type": "stream",
     "text": [
      "True Label: 0, Predicted Label: 1\n",
      "Processing image from URL: https://brandperception.s3.amazonaws.com/imagenet_eval_top50_middle50_bottom50/fun/top50/11280171_1456635977980405_1952107653_n.jpg\n"
     ]
    },
    {
     "name": "stderr",
     "output_type": "stream",
     "text": [
      "Processing images:  22%|█████                  | 33/150 [03:10<08:55,  4.58s/it]"
     ]
    },
    {
     "name": "stdout",
     "output_type": "stream",
     "text": [
      "True Label: 1, Predicted Label: 1\n",
      "Processing image from URL: https://brandperception.s3.amazonaws.com/imagenet_eval_top50_middle50_bottom50/fun/middle50/12141984_1639885546266925_174798057_n.jpg\n"
     ]
    },
    {
     "name": "stderr",
     "output_type": "stream",
     "text": [
      "Processing images:  23%|█████▏                 | 34/150 [03:15<08:56,  4.62s/it]"
     ]
    },
    {
     "name": "stdout",
     "output_type": "stream",
     "text": [
      "True Label: 0, Predicted Label: 1\n",
      "Processing image from URL: https://brandperception.s3.amazonaws.com/imagenet_eval_top50_middle50_bottom50/fun/bottom50/10724747_1492933770966246_530289731_n.jpg\n"
     ]
    },
    {
     "name": "stderr",
     "output_type": "stream",
     "text": [
      "Processing images:  23%|█████▎                 | 35/150 [03:19<08:29,  4.43s/it]"
     ]
    },
    {
     "name": "stdout",
     "output_type": "stream",
     "text": [
      "True Label: 0, Predicted Label: 1\n",
      "Processing image from URL: https://brandperception.s3.amazonaws.com/imagenet_eval_top50_middle50_bottom50/fun/top50/11193005_1443320195979528_314389737_n.jpg\n"
     ]
    },
    {
     "name": "stderr",
     "output_type": "stream",
     "text": [
      "Processing images:  24%|█████▌                 | 36/150 [03:24<08:41,  4.58s/it]"
     ]
    },
    {
     "name": "stdout",
     "output_type": "stream",
     "text": [
      "True Label: 1, Predicted Label: 1\n",
      "Processing image from URL: https://brandperception.s3.amazonaws.com/imagenet_eval_top50_middle50_bottom50/fun/middle50/1242812528946892321_1097264658.jpg\n"
     ]
    },
    {
     "name": "stderr",
     "output_type": "stream",
     "text": [
      "Processing images:  25%|█████▋                 | 37/150 [03:27<08:10,  4.34s/it]"
     ]
    },
    {
     "name": "stdout",
     "output_type": "stream",
     "text": [
      "True Label: 0, Predicted Label: 1\n",
      "Processing image from URL: https://brandperception.s3.amazonaws.com/imagenet_eval_top50_middle50_bottom50/fun/top50/11184441_419039821612408_14672086_n.jpg\n"
     ]
    },
    {
     "name": "stderr",
     "output_type": "stream",
     "text": [
      "Processing images:  25%|█████▊                 | 38/150 [03:35<09:47,  5.25s/it]"
     ]
    },
    {
     "name": "stdout",
     "output_type": "stream",
     "text": [
      "True Label: 1, Predicted Label: 1\n",
      "Processing image from URL: https://brandperception.s3.amazonaws.com/imagenet_eval_top50_middle50_bottom50/fun/top50/1209657_683650048322238_2046619259_n.jpg\n"
     ]
    },
    {
     "name": "stderr",
     "output_type": "stream",
     "text": [
      "Processing images:  26%|█████▉                 | 39/150 [03:41<10:09,  5.49s/it]"
     ]
    },
    {
     "name": "stdout",
     "output_type": "stream",
     "text": [
      "Failed to process image from URL: https://brandperception.s3.amazonaws.com/imagenet_eval_top50_middle50_bottom50/fun/top50/1209657_683650048322238_2046619259_n.jpg. Error: Error code: 400 - {'error': {'message': 'Timeout while downloading https://brandperception.s3.amazonaws.com/imagenet_eval_top50_middle50_bottom50/fun/top50/1209657_683650048322238_2046619259_n.jpg.', 'type': 'invalid_request_error', 'param': None, 'code': 'invalid_image_url'}}\n",
      "Processing image from URL: https://brandperception.s3.amazonaws.com/imagenet_eval_top50_middle50_bottom50/fun/top50/11192636_539423309530015_822104646_n.jpg\n"
     ]
    },
    {
     "name": "stderr",
     "output_type": "stream",
     "text": [
      "Processing images:  27%|██████▏                | 40/150 [03:46<09:44,  5.32s/it]"
     ]
    },
    {
     "name": "stdout",
     "output_type": "stream",
     "text": [
      "True Label: 1, Predicted Label: 1\n",
      "Processing image from URL: https://brandperception.s3.amazonaws.com/imagenet_eval_top50_middle50_bottom50/fun/top50/11324412_808491602580664_585932741_n.jpg\n"
     ]
    },
    {
     "name": "stderr",
     "output_type": "stream",
     "text": [
      "Processing images:  27%|██████▎                | 41/150 [03:50<09:09,  5.04s/it]"
     ]
    },
    {
     "name": "stdout",
     "output_type": "stream",
     "text": [
      "True Label: 1, Predicted Label: 1\n",
      "Processing image from URL: https://brandperception.s3.amazonaws.com/imagenet_eval_top50_middle50_bottom50/fun/bottom50/1244384973514562810_203457774.jpg\n"
     ]
    },
    {
     "name": "stderr",
     "output_type": "stream",
     "text": [
      "Processing images:  28%|██████▍                | 42/150 [03:59<11:13,  6.23s/it]"
     ]
    },
    {
     "name": "stdout",
     "output_type": "stream",
     "text": [
      "True Label: 0, Predicted Label: 0\n",
      "Processing image from URL: https://brandperception.s3.amazonaws.com/imagenet_eval_top50_middle50_bottom50/fun/top50/11190215_1615645261981532_1548704186_n.jpg\n"
     ]
    },
    {
     "name": "stderr",
     "output_type": "stream",
     "text": [
      "Processing images:  29%|██████▌                | 43/150 [04:04<10:11,  5.72s/it]"
     ]
    },
    {
     "name": "stdout",
     "output_type": "stream",
     "text": [
      "True Label: 1, Predicted Label: 1\n",
      "Processing image from URL: https://brandperception.s3.amazonaws.com/imagenet_eval_top50_middle50_bottom50/fun/top50/11266017_786932388051609_370842221_n.jpg\n"
     ]
    },
    {
     "name": "stderr",
     "output_type": "stream",
     "text": [
      "Processing images:  29%|██████▋                | 44/150 [04:08<09:23,  5.32s/it]"
     ]
    },
    {
     "name": "stdout",
     "output_type": "stream",
     "text": [
      "True Label: 1, Predicted Label: 1\n",
      "Processing image from URL: https://brandperception.s3.amazonaws.com/imagenet_eval_top50_middle50_bottom50/fun/top50/1242206410963956910_560048596.jpg\n"
     ]
    },
    {
     "name": "stderr",
     "output_type": "stream",
     "text": [
      "Processing images:  30%|██████▉                | 45/150 [04:12<08:33,  4.89s/it]"
     ]
    },
    {
     "name": "stdout",
     "output_type": "stream",
     "text": [
      "True Label: 1, Predicted Label: 1\n",
      "Processing image from URL: https://brandperception.s3.amazonaws.com/imagenet_eval_top50_middle50_bottom50/fun/top50/11205736_466879853463821_743907482_n.jpg\n"
     ]
    },
    {
     "name": "stderr",
     "output_type": "stream",
     "text": [
      "Processing images:  31%|███████                | 46/150 [04:16<07:57,  4.59s/it]"
     ]
    },
    {
     "name": "stdout",
     "output_type": "stream",
     "text": [
      "True Label: 1, Predicted Label: 1\n",
      "Processing image from URL: https://brandperception.s3.amazonaws.com/imagenet_eval_top50_middle50_bottom50/fun/top50/10549593_283939868444245_668845500_n.jpg\n"
     ]
    },
    {
     "name": "stderr",
     "output_type": "stream",
     "text": [
      "Processing images:  31%|███████▏               | 47/150 [04:21<08:02,  4.69s/it]"
     ]
    },
    {
     "name": "stdout",
     "output_type": "stream",
     "text": [
      "True Label: 1, Predicted Label: 1\n",
      "Processing image from URL: https://brandperception.s3.amazonaws.com/imagenet_eval_top50_middle50_bottom50/fun/middle50/1235128147228136706_242056956.jpg\n"
     ]
    },
    {
     "name": "stderr",
     "output_type": "stream",
     "text": [
      "Processing images:  32%|███████▎               | 48/150 [04:25<07:43,  4.54s/it]"
     ]
    },
    {
     "name": "stdout",
     "output_type": "stream",
     "text": [
      "True Label: 1, Predicted Label: 1\n",
      "Processing image from URL: https://brandperception.s3.amazonaws.com/imagenet_eval_top50_middle50_bottom50/fun/middle50/1244929329933957080_3181022924.jpg\n"
     ]
    },
    {
     "name": "stderr",
     "output_type": "stream",
     "text": [
      "Processing images:  33%|███████▌               | 49/150 [04:33<09:20,  5.55s/it]"
     ]
    },
    {
     "name": "stdout",
     "output_type": "stream",
     "text": [
      "True Label: 0, Predicted Label: 0\n",
      "Processing image from URL: https://brandperception.s3.amazonaws.com/imagenet_eval_top50_middle50_bottom50/fun/middle50/11267568_1649080081977197_196421426_n.jpg\n"
     ]
    },
    {
     "name": "stderr",
     "output_type": "stream",
     "text": [
      "Processing images:  33%|███████▋               | 50/150 [04:39<09:19,  5.60s/it]"
     ]
    },
    {
     "name": "stdout",
     "output_type": "stream",
     "text": [
      "True Label: 0, Predicted Label: 1\n",
      "Processing image from URL: https://brandperception.s3.amazonaws.com/imagenet_eval_top50_middle50_bottom50/fun/top50/11202508_1574671286137527_1908350510_n.jpg\n"
     ]
    },
    {
     "name": "stderr",
     "output_type": "stream",
     "text": [
      "Processing images:  34%|███████▊               | 51/150 [04:43<08:32,  5.18s/it]"
     ]
    },
    {
     "name": "stdout",
     "output_type": "stream",
     "text": [
      "True Label: 1, Predicted Label: 1\n",
      "Processing image from URL: https://brandperception.s3.amazonaws.com/imagenet_eval_top50_middle50_bottom50/fun/middle50/11192889_463664543786482_626225212_n.jpg\n"
     ]
    },
    {
     "name": "stderr",
     "output_type": "stream",
     "text": [
      "Processing images:  35%|███████▉               | 52/150 [04:47<08:07,  4.98s/it]"
     ]
    },
    {
     "name": "stdout",
     "output_type": "stream",
     "text": [
      "True Label: 0, Predicted Label: 1\n",
      "Processing image from URL: https://brandperception.s3.amazonaws.com/imagenet_eval_top50_middle50_bottom50/fun/bottom50/10547305_468597296644525_314987875_n.jpg\n"
     ]
    },
    {
     "name": "stderr",
     "output_type": "stream",
     "text": [
      "Processing images:  35%|████████▏              | 53/150 [04:53<08:36,  5.33s/it]"
     ]
    },
    {
     "name": "stdout",
     "output_type": "stream",
     "text": [
      "True Label: 0, Predicted Label: 1\n",
      "Processing image from URL: https://brandperception.s3.amazonaws.com/imagenet_eval_top50_middle50_bottom50/fun/middle50/13249773_606520166178596_2055781964_n.jpg\n"
     ]
    },
    {
     "name": "stderr",
     "output_type": "stream",
     "text": [
      "Processing images:  36%|████████▎              | 54/150 [04:59<08:26,  5.27s/it]"
     ]
    },
    {
     "name": "stdout",
     "output_type": "stream",
     "text": [
      "True Label: 0, Predicted Label: 1\n",
      "Processing image from URL: https://brandperception.s3.amazonaws.com/imagenet_eval_top50_middle50_bottom50/fun/middle50/1244894524778783551_259839391.jpg\n"
     ]
    },
    {
     "name": "stderr",
     "output_type": "stream",
     "text": [
      "Processing images:  37%|████████▍              | 55/150 [05:04<08:15,  5.22s/it]"
     ]
    },
    {
     "name": "stdout",
     "output_type": "stream",
     "text": [
      "True Label: 1, Predicted Label: 1\n",
      "Processing image from URL: https://brandperception.s3.amazonaws.com/imagenet_eval_top50_middle50_bottom50/fun/top50/13397621_602079979965754_2110893475_n.jpg\n"
     ]
    },
    {
     "name": "stderr",
     "output_type": "stream",
     "text": [
      "Processing images:  37%|████████▌              | 56/150 [05:09<08:13,  5.25s/it]"
     ]
    },
    {
     "name": "stdout",
     "output_type": "stream",
     "text": [
      "True Label: 1, Predicted Label: 1\n",
      "Processing image from URL: https://brandperception.s3.amazonaws.com/imagenet_eval_top50_middle50_bottom50/fun/top50/11190968_107614372902946_389674572_n.jpg\n"
     ]
    },
    {
     "name": "stderr",
     "output_type": "stream",
     "text": [
      "Processing images:  38%|████████▋              | 57/150 [05:13<07:44,  4.99s/it]"
     ]
    },
    {
     "name": "stdout",
     "output_type": "stream",
     "text": [
      "True Label: 1, Predicted Label: 1\n",
      "Processing image from URL: https://brandperception.s3.amazonaws.com/imagenet_eval_top50_middle50_bottom50/fun/bottom50/1127583188506515471_1319452181.jpg\n"
     ]
    },
    {
     "name": "stderr",
     "output_type": "stream",
     "text": [
      "Processing images:  39%|████████▉              | 58/150 [05:18<07:26,  4.85s/it]"
     ]
    },
    {
     "name": "stdout",
     "output_type": "stream",
     "text": [
      "True Label: 0, Predicted Label: 0\n",
      "Processing image from URL: https://brandperception.s3.amazonaws.com/imagenet_eval_top50_middle50_bottom50/fun/bottom50/1244767784503594703_577138058.jpg\n"
     ]
    },
    {
     "name": "stderr",
     "output_type": "stream",
     "text": [
      "Processing images:  39%|█████████              | 59/150 [05:23<07:15,  4.78s/it]"
     ]
    },
    {
     "name": "stdout",
     "output_type": "stream",
     "text": [
      "True Label: 0, Predicted Label: 1\n",
      "Processing image from URL: https://brandperception.s3.amazonaws.com/imagenet_eval_top50_middle50_bottom50/fun/top50/1240774294917763072_1430285147.jpg\n"
     ]
    },
    {
     "name": "stderr",
     "output_type": "stream",
     "text": [
      "Processing images:  40%|█████████▏             | 60/150 [05:30<08:25,  5.62s/it]"
     ]
    },
    {
     "name": "stdout",
     "output_type": "stream",
     "text": [
      "True Label: 1, Predicted Label: 1\n",
      "Processing image from URL: https://brandperception.s3.amazonaws.com/imagenet_eval_top50_middle50_bottom50/fun/top50/10507945_657861927622201_1750652836_n.jpg\n"
     ]
    },
    {
     "name": "stderr",
     "output_type": "stream",
     "text": [
      "Processing images:  41%|█████████▎             | 61/150 [05:35<08:04,  5.44s/it]"
     ]
    },
    {
     "name": "stdout",
     "output_type": "stream",
     "text": [
      "True Label: 1, Predicted Label: 1\n",
      "Processing image from URL: https://brandperception.s3.amazonaws.com/imagenet_eval_top50_middle50_bottom50/fun/top50/11230495_426617187510425_2079228321_n.jpg\n"
     ]
    },
    {
     "name": "stderr",
     "output_type": "stream",
     "text": [
      "Processing images:  41%|█████████▌             | 62/150 [05:40<07:42,  5.25s/it]"
     ]
    },
    {
     "name": "stdout",
     "output_type": "stream",
     "text": [
      "True Label: 1, Predicted Label: 1\n",
      "Processing image from URL: https://brandperception.s3.amazonaws.com/imagenet_eval_top50_middle50_bottom50/fun/bottom50/1244923971213165479_31355479.jpg\n"
     ]
    },
    {
     "name": "stderr",
     "output_type": "stream",
     "text": [
      "Processing images:  42%|█████████▋             | 63/150 [05:44<07:06,  4.90s/it]"
     ]
    },
    {
     "name": "stdout",
     "output_type": "stream",
     "text": [
      "True Label: 0, Predicted Label: 1\n",
      "Processing image from URL: https://brandperception.s3.amazonaws.com/imagenet_eval_top50_middle50_bottom50/fun/top50/1244670045485459868_1678468769.jpg\n"
     ]
    },
    {
     "name": "stderr",
     "output_type": "stream",
     "text": [
      "Processing images:  43%|█████████▊             | 64/150 [05:48<06:43,  4.69s/it]"
     ]
    },
    {
     "name": "stdout",
     "output_type": "stream",
     "text": [
      "True Label: 1, Predicted Label: 1\n",
      "Processing image from URL: https://brandperception.s3.amazonaws.com/imagenet_eval_top50_middle50_bottom50/fun/middle50/11189173_1601997586712522_425626893_n.jpg\n"
     ]
    },
    {
     "name": "stderr",
     "output_type": "stream",
     "text": [
      "Processing images:  43%|█████████▉             | 65/150 [05:53<06:33,  4.63s/it]"
     ]
    },
    {
     "name": "stdout",
     "output_type": "stream",
     "text": [
      "True Label: 1, Predicted Label: 1\n",
      "Processing image from URL: https://brandperception.s3.amazonaws.com/imagenet_eval_top50_middle50_bottom50/fun/top50/11357801_400056953519902_111335445_n.jpg\n"
     ]
    },
    {
     "name": "stderr",
     "output_type": "stream",
     "text": [
      "Processing images:  44%|██████████             | 66/150 [05:57<06:11,  4.42s/it]"
     ]
    },
    {
     "name": "stdout",
     "output_type": "stream",
     "text": [
      "True Label: 1, Predicted Label: 1\n",
      "Processing image from URL: https://brandperception.s3.amazonaws.com/imagenet_eval_top50_middle50_bottom50/fun/bottom50/11373922_1618834618381832_1480929900_n.jpg\n"
     ]
    },
    {
     "name": "stderr",
     "output_type": "stream",
     "text": [
      "Processing images:  45%|██████████▎            | 67/150 [06:02<06:18,  4.56s/it]"
     ]
    },
    {
     "name": "stdout",
     "output_type": "stream",
     "text": [
      "True Label: 0, Predicted Label: 1\n",
      "Processing image from URL: https://brandperception.s3.amazonaws.com/imagenet_eval_top50_middle50_bottom50/fun/bottom50/11330756_1608508136056298_1935208334_n.jpg\n"
     ]
    },
    {
     "name": "stderr",
     "output_type": "stream",
     "text": [
      "Processing images:  45%|██████████▍            | 68/150 [06:06<06:02,  4.42s/it]"
     ]
    },
    {
     "name": "stdout",
     "output_type": "stream",
     "text": [
      "True Label: 0, Predicted Label: 1\n",
      "Processing image from URL: https://brandperception.s3.amazonaws.com/imagenet_eval_top50_middle50_bottom50/fun/top50/11098217_659419300830310_1255803697_n.jpg\n"
     ]
    },
    {
     "name": "stderr",
     "output_type": "stream",
     "text": [
      "Processing images:  46%|██████████▌            | 69/150 [06:10<05:58,  4.42s/it]"
     ]
    },
    {
     "name": "stdout",
     "output_type": "stream",
     "text": [
      "True Label: 1, Predicted Label: 1\n",
      "Processing image from URL: https://brandperception.s3.amazonaws.com/imagenet_eval_top50_middle50_bottom50/fun/middle50/948394413573287234_1527925010.jpg\n"
     ]
    },
    {
     "name": "stderr",
     "output_type": "stream",
     "text": [
      "Processing images:  47%|██████████▋            | 70/150 [06:15<05:57,  4.47s/it]"
     ]
    },
    {
     "name": "stdout",
     "output_type": "stream",
     "text": [
      "True Label: 0, Predicted Label: 1\n",
      "Processing image from URL: https://brandperception.s3.amazonaws.com/imagenet_eval_top50_middle50_bottom50/fun/bottom50/1150196860842711779_2308799901.jpg\n"
     ]
    },
    {
     "name": "stderr",
     "output_type": "stream",
     "text": [
      "Processing images:  47%|██████████▉            | 71/150 [06:19<05:46,  4.39s/it]"
     ]
    },
    {
     "name": "stdout",
     "output_type": "stream",
     "text": [
      "True Label: 0, Predicted Label: 0\n",
      "Processing image from URL: https://brandperception.s3.amazonaws.com/imagenet_eval_top50_middle50_bottom50/fun/middle50/11386491_1566594283602371_663049814_n.jpg\n"
     ]
    },
    {
     "name": "stderr",
     "output_type": "stream",
     "text": [
      "Processing images:  48%|███████████            | 72/150 [06:24<05:49,  4.48s/it]"
     ]
    },
    {
     "name": "stdout",
     "output_type": "stream",
     "text": [
      "True Label: 0, Predicted Label: 1\n",
      "Processing image from URL: https://brandperception.s3.amazonaws.com/imagenet_eval_top50_middle50_bottom50/fun/middle50/13774681_275611046133551_2046970552_n.jpg\n"
     ]
    },
    {
     "name": "stderr",
     "output_type": "stream",
     "text": [
      "Processing images:  49%|███████████▏           | 73/150 [06:32<07:10,  5.60s/it]"
     ]
    },
    {
     "name": "stdout",
     "output_type": "stream",
     "text": [
      "True Label: 0, Predicted Label: 1\n",
      "Processing image from URL: https://brandperception.s3.amazonaws.com/imagenet_eval_top50_middle50_bottom50/fun/middle50/11378108_1617467735136803_2048364377_n.jpg\n"
     ]
    },
    {
     "name": "stderr",
     "output_type": "stream",
     "text": [
      "Processing images:  49%|███████████▎           | 74/150 [06:37<06:47,  5.36s/it]"
     ]
    },
    {
     "name": "stdout",
     "output_type": "stream",
     "text": [
      "True Label: 0, Predicted Label: 1\n",
      "Processing image from URL: https://brandperception.s3.amazonaws.com/imagenet_eval_top50_middle50_bottom50/fun/top50/1186837294286829422_374652492.jpg\n"
     ]
    },
    {
     "name": "stderr",
     "output_type": "stream",
     "text": [
      "Processing images:  50%|███████████▌           | 75/150 [06:40<06:06,  4.89s/it]"
     ]
    },
    {
     "name": "stdout",
     "output_type": "stream",
     "text": [
      "True Label: 1, Predicted Label: 1\n",
      "Processing image from URL: https://brandperception.s3.amazonaws.com/imagenet_eval_top50_middle50_bottom50/fun/middle50/1250876904375183113_3162955376.jpg\n"
     ]
    },
    {
     "name": "stderr",
     "output_type": "stream",
     "text": [
      "Processing images:  51%|███████████▋           | 76/150 [06:44<05:35,  4.53s/it]"
     ]
    },
    {
     "name": "stdout",
     "output_type": "stream",
     "text": [
      "True Label: 1, Predicted Label: 1\n",
      "Processing image from URL: https://brandperception.s3.amazonaws.com/imagenet_eval_top50_middle50_bottom50/fun/middle50/10903729_335904979936106_1324781650_n.jpg\n"
     ]
    },
    {
     "name": "stderr",
     "output_type": "stream",
     "text": [
      "Processing images:  51%|███████████▊           | 77/150 [06:48<05:23,  4.43s/it]"
     ]
    },
    {
     "name": "stdout",
     "output_type": "stream",
     "text": [
      "True Label: 0, Predicted Label: 1\n",
      "Processing image from URL: https://brandperception.s3.amazonaws.com/imagenet_eval_top50_middle50_bottom50/fun/middle50/1238911095241728864_248957839.jpg\n"
     ]
    },
    {
     "name": "stderr",
     "output_type": "stream",
     "text": [
      "Processing images:  52%|███████████▉           | 78/150 [06:53<05:27,  4.55s/it]"
     ]
    },
    {
     "name": "stdout",
     "output_type": "stream",
     "text": [
      "True Label: 1, Predicted Label: 1\n",
      "Processing image from URL: https://brandperception.s3.amazonaws.com/imagenet_eval_top50_middle50_bottom50/fun/middle50/1244891491557554154_2886163180.jpg\n"
     ]
    },
    {
     "name": "stderr",
     "output_type": "stream",
     "text": [
      "Processing images:  53%|████████████           | 79/150 [06:58<05:21,  4.53s/it]"
     ]
    },
    {
     "name": "stdout",
     "output_type": "stream",
     "text": [
      "True Label: 0, Predicted Label: 1\n",
      "Processing image from URL: https://brandperception.s3.amazonaws.com/imagenet_eval_top50_middle50_bottom50/fun/bottom50/1243221991672282819_145091310.jpg\n"
     ]
    },
    {
     "name": "stderr",
     "output_type": "stream",
     "text": [
      "Processing images:  53%|████████████▎          | 80/150 [07:02<05:08,  4.40s/it]"
     ]
    },
    {
     "name": "stdout",
     "output_type": "stream",
     "text": [
      "True Label: 0, Predicted Label: 0\n",
      "Processing image from URL: https://brandperception.s3.amazonaws.com/imagenet_eval_top50_middle50_bottom50/fun/bottom50/1245060789613459569_1913342909.jpg\n"
     ]
    },
    {
     "name": "stderr",
     "output_type": "stream",
     "text": [
      "Processing images:  54%|████████████▍          | 81/150 [07:11<06:39,  5.79s/it]"
     ]
    },
    {
     "name": "stdout",
     "output_type": "stream",
     "text": [
      "True Label: 0, Predicted Label: 0\n",
      "Processing image from URL: https://brandperception.s3.amazonaws.com/imagenet_eval_top50_middle50_bottom50/fun/bottom50/1060432462317373800_1183601.jpg\n"
     ]
    },
    {
     "name": "stderr",
     "output_type": "stream",
     "text": [
      "Processing images:  55%|████████████▌          | 82/150 [07:15<06:08,  5.42s/it]"
     ]
    },
    {
     "name": "stdout",
     "output_type": "stream",
     "text": [
      "True Label: 0, Predicted Label: 0\n",
      "Processing image from URL: https://brandperception.s3.amazonaws.com/imagenet_eval_top50_middle50_bottom50/fun/bottom50/1245035284157127823_33520214.jpg\n"
     ]
    },
    {
     "name": "stderr",
     "output_type": "stream",
     "text": [
      "Processing images:  55%|████████████▋          | 83/150 [07:20<05:47,  5.18s/it]"
     ]
    },
    {
     "name": "stdout",
     "output_type": "stream",
     "text": [
      "True Label: 0, Predicted Label: 1\n",
      "Processing image from URL: https://brandperception.s3.amazonaws.com/imagenet_eval_top50_middle50_bottom50/fun/top50/11123895_1404638683190422_793628628_n.jpg\n"
     ]
    },
    {
     "name": "stderr",
     "output_type": "stream",
     "text": [
      "Processing images:  56%|████████████▉          | 84/150 [07:24<05:30,  5.01s/it]"
     ]
    },
    {
     "name": "stdout",
     "output_type": "stream",
     "text": [
      "True Label: 1, Predicted Label: 1\n",
      "Processing image from URL: https://brandperception.s3.amazonaws.com/imagenet_eval_top50_middle50_bottom50/fun/middle50/1243561593639131981_2330837933.jpg\n"
     ]
    },
    {
     "name": "stderr",
     "output_type": "stream",
     "text": [
      "Processing images:  57%|█████████████          | 85/150 [07:31<05:57,  5.51s/it]"
     ]
    },
    {
     "name": "stdout",
     "output_type": "stream",
     "text": [
      "True Label: 0, Predicted Label: 1\n",
      "Processing image from URL: https://brandperception.s3.amazonaws.com/imagenet_eval_top50_middle50_bottom50/fun/bottom50/1224826944600707612_404449131.jpg\n"
     ]
    },
    {
     "name": "stderr",
     "output_type": "stream",
     "text": [
      "Processing images:  57%|█████████████▏         | 86/150 [07:40<06:51,  6.43s/it]"
     ]
    },
    {
     "name": "stdout",
     "output_type": "stream",
     "text": [
      "True Label: 0, Predicted Label: 0\n",
      "Processing image from URL: https://brandperception.s3.amazonaws.com/imagenet_eval_top50_middle50_bottom50/fun/middle50/13628461_952440778217180_1036723437_n.jpg\n"
     ]
    },
    {
     "name": "stderr",
     "output_type": "stream",
     "text": [
      "Processing images:  58%|█████████████▎         | 87/150 [07:45<06:18,  6.01s/it]"
     ]
    },
    {
     "name": "stdout",
     "output_type": "stream",
     "text": [
      "True Label: 0, Predicted Label: 1\n",
      "Processing image from URL: https://brandperception.s3.amazonaws.com/imagenet_eval_top50_middle50_bottom50/fun/bottom50/1094646710277908536_263172697.jpg\n"
     ]
    },
    {
     "name": "stderr",
     "output_type": "stream",
     "text": [
      "Processing images:  59%|█████████████▍         | 88/150 [07:52<06:41,  6.48s/it]"
     ]
    },
    {
     "name": "stdout",
     "output_type": "stream",
     "text": [
      "True Label: 0, Predicted Label: 0\n",
      "Processing image from URL: https://brandperception.s3.amazonaws.com/imagenet_eval_top50_middle50_bottom50/fun/top50/10362117_417454761729452_694031719_n.jpg\n"
     ]
    },
    {
     "name": "stderr",
     "output_type": "stream",
     "text": [
      "Processing images:  59%|█████████████▋         | 89/150 [07:57<05:54,  5.81s/it]"
     ]
    },
    {
     "name": "stdout",
     "output_type": "stream",
     "text": [
      "True Label: 1, Predicted Label: 1\n",
      "Processing image from URL: https://brandperception.s3.amazonaws.com/imagenet_eval_top50_middle50_bottom50/fun/bottom50/1201886175508183648_1809386933.jpg\n"
     ]
    },
    {
     "name": "stderr",
     "output_type": "stream",
     "text": [
      "Processing images:  60%|█████████████▊         | 90/150 [08:01<05:22,  5.37s/it]"
     ]
    },
    {
     "name": "stdout",
     "output_type": "stream",
     "text": [
      "True Label: 0, Predicted Label: 1\n",
      "Processing image from URL: https://brandperception.s3.amazonaws.com/imagenet_eval_top50_middle50_bottom50/fun/bottom50/11325026_793965377385932_2099222970_n.jpg\n"
     ]
    },
    {
     "name": "stderr",
     "output_type": "stream",
     "text": [
      "Processing images:  61%|█████████████▉         | 91/150 [08:06<05:19,  5.42s/it]"
     ]
    },
    {
     "name": "stdout",
     "output_type": "stream",
     "text": [
      "True Label: 0, Predicted Label: 1\n",
      "Processing image from URL: https://brandperception.s3.amazonaws.com/imagenet_eval_top50_middle50_bottom50/fun/bottom50/1218952392156062310_2339406223.jpg\n"
     ]
    },
    {
     "name": "stderr",
     "output_type": "stream",
     "text": [
      "Processing images:  61%|██████████████         | 92/150 [08:11<04:52,  5.05s/it]"
     ]
    },
    {
     "name": "stdout",
     "output_type": "stream",
     "text": [
      "True Label: 0, Predicted Label: 0\n",
      "Processing image from URL: https://brandperception.s3.amazonaws.com/imagenet_eval_top50_middle50_bottom50/fun/top50/11189889_874510782635442_505897026_n.jpg\n"
     ]
    },
    {
     "name": "stderr",
     "output_type": "stream",
     "text": [
      "Processing images:  62%|██████████████▎        | 93/150 [08:15<04:37,  4.86s/it]"
     ]
    },
    {
     "name": "stdout",
     "output_type": "stream",
     "text": [
      "True Label: 1, Predicted Label: 1\n",
      "Processing image from URL: https://brandperception.s3.amazonaws.com/imagenet_eval_top50_middle50_bottom50/fun/middle50/1242091973671125172_1724215511.jpg\n"
     ]
    },
    {
     "name": "stderr",
     "output_type": "stream",
     "text": [
      "Processing images:  63%|██████████████▍        | 94/150 [08:20<04:26,  4.76s/it]"
     ]
    },
    {
     "name": "stdout",
     "output_type": "stream",
     "text": [
      "True Label: 0, Predicted Label: 1\n",
      "Processing image from URL: https://brandperception.s3.amazonaws.com/imagenet_eval_top50_middle50_bottom50/fun/top50/11192729_822413834506780_636396086_n.jpg\n"
     ]
    },
    {
     "name": "stderr",
     "output_type": "stream",
     "text": [
      "Processing images:  63%|██████████████▌        | 95/150 [08:24<04:12,  4.59s/it]"
     ]
    },
    {
     "name": "stdout",
     "output_type": "stream",
     "text": [
      "True Label: 1, Predicted Label: 1\n",
      "Processing image from URL: https://brandperception.s3.amazonaws.com/imagenet_eval_top50_middle50_bottom50/fun/bottom50/1077645236149947091_592731793.jpg\n"
     ]
    },
    {
     "name": "stderr",
     "output_type": "stream",
     "text": [
      "Processing images:  64%|██████████████▋        | 96/150 [08:29<04:16,  4.75s/it]"
     ]
    },
    {
     "name": "stdout",
     "output_type": "stream",
     "text": [
      "True Label: 0, Predicted Label: 1\n",
      "Processing image from URL: https://brandperception.s3.amazonaws.com/imagenet_eval_top50_middle50_bottom50/fun/top50/10608065_275330646000499_197815010_n.jpg\n"
     ]
    },
    {
     "name": "stderr",
     "output_type": "stream",
     "text": [
      "Processing images:  65%|██████████████▊        | 97/150 [08:33<04:04,  4.61s/it]"
     ]
    },
    {
     "name": "stdout",
     "output_type": "stream",
     "text": [
      "True Label: 1, Predicted Label: 1\n",
      "Processing image from URL: https://brandperception.s3.amazonaws.com/imagenet_eval_top50_middle50_bottom50/fun/middle50/1241786924771323610_2213593594.jpg\n"
     ]
    },
    {
     "name": "stderr",
     "output_type": "stream",
     "text": [
      "Processing images:  65%|███████████████        | 98/150 [08:37<03:53,  4.49s/it]"
     ]
    },
    {
     "name": "stdout",
     "output_type": "stream",
     "text": [
      "True Label: 0, Predicted Label: 0\n",
      "Processing image from URL: https://brandperception.s3.amazonaws.com/imagenet_eval_top50_middle50_bottom50/fun/middle50/1239477041926844141_338899938.jpg\n"
     ]
    },
    {
     "name": "stderr",
     "output_type": "stream",
     "text": [
      "Processing images:  66%|███████████████▏       | 99/150 [08:42<03:45,  4.43s/it]"
     ]
    },
    {
     "name": "stdout",
     "output_type": "stream",
     "text": [
      "True Label: 0, Predicted Label: 0\n",
      "Processing image from URL: https://brandperception.s3.amazonaws.com/imagenet_eval_top50_middle50_bottom50/fun/top50/1244654009645206102_54797753.jpg\n"
     ]
    },
    {
     "name": "stderr",
     "output_type": "stream",
     "text": [
      "Processing images:  67%|██████████████▋       | 100/150 [08:46<03:38,  4.36s/it]"
     ]
    },
    {
     "name": "stdout",
     "output_type": "stream",
     "text": [
      "True Label: 1, Predicted Label: 1\n",
      "Processing image from URL: https://brandperception.s3.amazonaws.com/imagenet_eval_top50_middle50_bottom50/fun/middle50/1249563198100254870_44232731.jpg\n"
     ]
    },
    {
     "name": "stderr",
     "output_type": "stream",
     "text": [
      "Processing images:  67%|██████████████▊       | 101/150 [09:17<10:11, 12.48s/it]"
     ]
    },
    {
     "name": "stdout",
     "output_type": "stream",
     "text": [
      "True Label: 0, Predicted Label: 1\n",
      "Processing image from URL: https://brandperception.s3.amazonaws.com/imagenet_eval_top50_middle50_bottom50/fun/bottom50/1245266612933941447_337451333.jpg\n"
     ]
    },
    {
     "name": "stderr",
     "output_type": "stream",
     "text": [
      "Processing images:  68%|██████████████▉       | 102/150 [09:22<08:07, 10.15s/it]"
     ]
    },
    {
     "name": "stdout",
     "output_type": "stream",
     "text": [
      "True Label: 0, Predicted Label: 1\n",
      "Processing image from URL: https://brandperception.s3.amazonaws.com/imagenet_eval_top50_middle50_bottom50/fun/bottom50/1243365565552976735_16388895.jpg\n"
     ]
    },
    {
     "name": "stderr",
     "output_type": "stream",
     "text": [
      "Processing images:  69%|███████████████       | 103/150 [09:26<06:36,  8.43s/it]"
     ]
    },
    {
     "name": "stdout",
     "output_type": "stream",
     "text": [
      "True Label: 0, Predicted Label: 1\n",
      "Processing image from URL: https://brandperception.s3.amazonaws.com/imagenet_eval_top50_middle50_bottom50/fun/middle50/11187046_1632102733671280_1342468477_n.jpg\n"
     ]
    },
    {
     "name": "stderr",
     "output_type": "stream",
     "text": [
      "Processing images:  69%|███████████████▎      | 104/150 [09:31<05:31,  7.20s/it]"
     ]
    },
    {
     "name": "stdout",
     "output_type": "stream",
     "text": [
      "True Label: 0, Predicted Label: 1\n",
      "Processing image from URL: https://brandperception.s3.amazonaws.com/imagenet_eval_top50_middle50_bottom50/fun/middle50/1239382066354152144_1475795471.jpg\n"
     ]
    },
    {
     "name": "stderr",
     "output_type": "stream",
     "text": [
      "Processing images:  70%|███████████████▍      | 105/150 [09:35<04:37,  6.17s/it]"
     ]
    },
    {
     "name": "stdout",
     "output_type": "stream",
     "text": [
      "True Label: 0, Predicted Label: 1\n",
      "Processing image from URL: https://brandperception.s3.amazonaws.com/imagenet_eval_top50_middle50_bottom50/fun/top50/10932173_483914818423881_1255970083_n.jpg\n"
     ]
    },
    {
     "name": "stderr",
     "output_type": "stream",
     "text": [
      "Processing images:  71%|███████████████▌      | 106/150 [09:39<04:13,  5.76s/it]"
     ]
    },
    {
     "name": "stdout",
     "output_type": "stream",
     "text": [
      "True Label: 1, Predicted Label: 1\n",
      "Processing image from URL: https://brandperception.s3.amazonaws.com/imagenet_eval_top50_middle50_bottom50/fun/bottom50/1241338146575290928_192624291.jpg\n"
     ]
    },
    {
     "name": "stderr",
     "output_type": "stream",
     "text": [
      "Processing images:  71%|███████████████▋      | 107/150 [09:45<04:01,  5.63s/it]"
     ]
    },
    {
     "name": "stdout",
     "output_type": "stream",
     "text": [
      "True Label: 0, Predicted Label: 1\n",
      "Processing image from URL: https://brandperception.s3.amazonaws.com/imagenet_eval_top50_middle50_bottom50/fun/middle50/12677519_494384397416375_1803365679_n.jpg\n"
     ]
    },
    {
     "name": "stderr",
     "output_type": "stream",
     "text": [
      "Processing images:  72%|███████████████▊      | 108/150 [09:49<03:44,  5.35s/it]"
     ]
    },
    {
     "name": "stdout",
     "output_type": "stream",
     "text": [
      "True Label: 0, Predicted Label: 0\n",
      "Processing image from URL: https://brandperception.s3.amazonaws.com/imagenet_eval_top50_middle50_bottom50/fun/bottom50/11909946_1623510704598023_692881117_n.jpg\n"
     ]
    },
    {
     "name": "stderr",
     "output_type": "stream",
     "text": [
      "Processing images:  73%|███████████████▉      | 109/150 [09:54<03:32,  5.19s/it]"
     ]
    },
    {
     "name": "stdout",
     "output_type": "stream",
     "text": [
      "True Label: 0, Predicted Label: 1\n",
      "Processing image from URL: https://brandperception.s3.amazonaws.com/imagenet_eval_top50_middle50_bottom50/fun/top50/11351779_844132708967717_552517428_n.jpg\n"
     ]
    },
    {
     "name": "stderr",
     "output_type": "stream",
     "text": [
      "Processing images:  73%|████████████████▏     | 110/150 [09:59<03:25,  5.14s/it]"
     ]
    },
    {
     "name": "stdout",
     "output_type": "stream",
     "text": [
      "True Label: 0, Predicted Label: 1\n",
      "Processing image from URL: https://brandperception.s3.amazonaws.com/imagenet_eval_top50_middle50_bottom50/fun/middle50/10454181_666487360094188_509085183_n.jpg\n"
     ]
    },
    {
     "name": "stderr",
     "output_type": "stream",
     "text": [
      "Processing images:  74%|████████████████▎     | 111/150 [10:05<03:22,  5.20s/it]"
     ]
    },
    {
     "name": "stdout",
     "output_type": "stream",
     "text": [
      "True Label: 1, Predicted Label: 1\n",
      "Processing image from URL: https://brandperception.s3.amazonaws.com/imagenet_eval_top50_middle50_bottom50/fun/middle50/10299812_1533357070290405_891924511_n.jpg\n"
     ]
    },
    {
     "name": "stderr",
     "output_type": "stream",
     "text": [
      "Processing images:  75%|████████████████▍     | 112/150 [10:10<03:22,  5.33s/it]"
     ]
    },
    {
     "name": "stdout",
     "output_type": "stream",
     "text": [
      "True Label: 0, Predicted Label: 0\n",
      "Processing image from URL: https://brandperception.s3.amazonaws.com/imagenet_eval_top50_middle50_bottom50/fun/top50/11191245_363243070544620_740514413_n.jpg\n"
     ]
    },
    {
     "name": "stderr",
     "output_type": "stream",
     "text": [
      "Processing images:  75%|████████████████▌     | 113/150 [10:15<03:09,  5.11s/it]"
     ]
    },
    {
     "name": "stdout",
     "output_type": "stream",
     "text": [
      "True Label: 1, Predicted Label: 1\n",
      "Processing image from URL: https://brandperception.s3.amazonaws.com/imagenet_eval_top50_middle50_bottom50/fun/middle50/1889251_1468563873355154_800289784_n.jpg\n"
     ]
    },
    {
     "name": "stderr",
     "output_type": "stream",
     "text": [
      "Processing images:  76%|████████████████▋     | 114/150 [10:19<02:56,  4.90s/it]"
     ]
    },
    {
     "name": "stdout",
     "output_type": "stream",
     "text": [
      "True Label: 0, Predicted Label: 1\n",
      "Processing image from URL: https://brandperception.s3.amazonaws.com/imagenet_eval_top50_middle50_bottom50/fun/top50/1235952580393200579_288381049.jpg\n"
     ]
    },
    {
     "name": "stderr",
     "output_type": "stream",
     "text": [
      "Processing images:  77%|████████████████▊     | 115/150 [10:23<02:45,  4.72s/it]"
     ]
    },
    {
     "name": "stdout",
     "output_type": "stream",
     "text": [
      "True Label: 1, Predicted Label: 1\n",
      "Processing image from URL: https://brandperception.s3.amazonaws.com/imagenet_eval_top50_middle50_bottom50/fun/middle50/1153549859927114020_2400452575.jpg\n"
     ]
    },
    {
     "name": "stderr",
     "output_type": "stream",
     "text": [
      "Processing images:  77%|█████████████████     | 116/150 [10:28<02:36,  4.59s/it]"
     ]
    },
    {
     "name": "stdout",
     "output_type": "stream",
     "text": [
      "True Label: 0, Predicted Label: 1\n",
      "Processing image from URL: https://brandperception.s3.amazonaws.com/imagenet_eval_top50_middle50_bottom50/fun/middle50/1242858038275765888_366777716.jpg\n"
     ]
    },
    {
     "name": "stderr",
     "output_type": "stream",
     "text": [
      "Processing images:  78%|█████████████████▏    | 117/150 [10:32<02:29,  4.54s/it]"
     ]
    },
    {
     "name": "stdout",
     "output_type": "stream",
     "text": [
      "True Label: 0, Predicted Label: 1\n",
      "Processing image from URL: https://brandperception.s3.amazonaws.com/imagenet_eval_top50_middle50_bottom50/fun/middle50/12912402_1677980479089405_1788037006_n.jpg\n"
     ]
    },
    {
     "name": "stderr",
     "output_type": "stream",
     "text": [
      "Processing images:  79%|█████████████████▎    | 118/150 [10:37<02:31,  4.74s/it]"
     ]
    },
    {
     "name": "stdout",
     "output_type": "stream",
     "text": [
      "True Label: 1, Predicted Label: 1\n",
      "Processing image from URL: https://brandperception.s3.amazonaws.com/imagenet_eval_top50_middle50_bottom50/fun/middle50/1244214044991585830_2218259510.jpg\n"
     ]
    },
    {
     "name": "stderr",
     "output_type": "stream",
     "text": [
      "Processing images:  79%|█████████████████▍    | 119/150 [10:42<02:21,  4.58s/it]"
     ]
    },
    {
     "name": "stdout",
     "output_type": "stream",
     "text": [
      "True Label: 1, Predicted Label: 1\n",
      "Processing image from URL: https://brandperception.s3.amazonaws.com/imagenet_eval_top50_middle50_bottom50/fun/bottom50/1241939216091931510_2307229695.jpg\n"
     ]
    },
    {
     "name": "stderr",
     "output_type": "stream",
     "text": [
      "Processing images:  80%|█████████████████▌    | 120/150 [10:47<02:25,  4.84s/it]"
     ]
    },
    {
     "name": "stdout",
     "output_type": "stream",
     "text": [
      "True Label: 0, Predicted Label: 1\n",
      "Processing image from URL: https://brandperception.s3.amazonaws.com/imagenet_eval_top50_middle50_bottom50/fun/bottom50/1251001955864412569_242141919.jpg\n"
     ]
    },
    {
     "name": "stderr",
     "output_type": "stream",
     "text": [
      "Processing images:  81%|█████████████████▋    | 121/150 [10:51<02:16,  4.70s/it]"
     ]
    },
    {
     "name": "stdout",
     "output_type": "stream",
     "text": [
      "True Label: 0, Predicted Label: 1\n",
      "Processing image from URL: https://brandperception.s3.amazonaws.com/imagenet_eval_top50_middle50_bottom50/fun/middle50/10311083_576436042467495_1174114542_n.jpg\n"
     ]
    },
    {
     "name": "stderr",
     "output_type": "stream",
     "text": [
      "Processing images:  81%|█████████████████▉    | 122/150 [10:56<02:11,  4.71s/it]"
     ]
    },
    {
     "name": "stdout",
     "output_type": "stream",
     "text": [
      "True Label: 0, Predicted Label: 0\n",
      "Processing image from URL: https://brandperception.s3.amazonaws.com/imagenet_eval_top50_middle50_bottom50/fun/bottom50/13117787_1603259463298882_1234509953_n.jpg\n"
     ]
    },
    {
     "name": "stderr",
     "output_type": "stream",
     "text": [
      "Processing images:  82%|██████████████████    | 123/150 [11:02<02:14,  4.98s/it]"
     ]
    },
    {
     "name": "stdout",
     "output_type": "stream",
     "text": [
      "True Label: 0, Predicted Label: 0\n",
      "Processing image from URL: https://brandperception.s3.amazonaws.com/imagenet_eval_top50_middle50_bottom50/fun/middle50/11358143_625395264261415_375170524_n.jpg\n"
     ]
    },
    {
     "name": "stderr",
     "output_type": "stream",
     "text": [
      "Processing images:  83%|██████████████████▏   | 124/150 [11:06<02:05,  4.84s/it]"
     ]
    },
    {
     "name": "stdout",
     "output_type": "stream",
     "text": [
      "True Label: 0, Predicted Label: 1\n",
      "Processing image from URL: https://brandperception.s3.amazonaws.com/imagenet_eval_top50_middle50_bottom50/fun/top50/1241590660948717466_3100899762.jpg\n"
     ]
    },
    {
     "name": "stderr",
     "output_type": "stream",
     "text": [
      "Processing images:  83%|██████████████████▎   | 125/150 [11:19<03:02,  7.29s/it]"
     ]
    },
    {
     "name": "stdout",
     "output_type": "stream",
     "text": [
      "True Label: 1, Predicted Label: 1\n",
      "Processing image from URL: https://brandperception.s3.amazonaws.com/imagenet_eval_top50_middle50_bottom50/fun/bottom50/1088732765152693732_1450079178.jpg\n"
     ]
    },
    {
     "name": "stderr",
     "output_type": "stream",
     "text": [
      "Processing images:  84%|██████████████████▍   | 126/150 [11:24<02:34,  6.46s/it]"
     ]
    },
    {
     "name": "stdout",
     "output_type": "stream",
     "text": [
      "True Label: 0, Predicted Label: 1\n",
      "Processing image from URL: https://brandperception.s3.amazonaws.com/imagenet_eval_top50_middle50_bottom50/fun/bottom50/1228197246324134039_563709307.jpg\n"
     ]
    },
    {
     "name": "stderr",
     "output_type": "stream",
     "text": [
      "Processing images:  85%|██████████████████▋   | 127/150 [11:28<02:12,  5.78s/it]"
     ]
    },
    {
     "name": "stdout",
     "output_type": "stream",
     "text": [
      "True Label: 0, Predicted Label: 1\n",
      "Processing image from URL: https://brandperception.s3.amazonaws.com/imagenet_eval_top50_middle50_bottom50/fun/middle50/12558874_524701331065512_1675826634_n.jpg\n"
     ]
    },
    {
     "name": "stderr",
     "output_type": "stream",
     "text": [
      "Processing images:  85%|██████████████████▊   | 128/150 [11:33<02:00,  5.46s/it]"
     ]
    },
    {
     "name": "stdout",
     "output_type": "stream",
     "text": [
      "True Label: 1, Predicted Label: 1\n",
      "Processing image from URL: https://brandperception.s3.amazonaws.com/imagenet_eval_top50_middle50_bottom50/fun/middle50/1237635674067857465_2273647715.jpg\n"
     ]
    },
    {
     "name": "stderr",
     "output_type": "stream",
     "text": [
      "Processing images:  86%|██████████████████▉   | 129/150 [11:36<01:43,  4.93s/it]"
     ]
    },
    {
     "name": "stdout",
     "output_type": "stream",
     "text": [
      "True Label: 0, Predicted Label: 1\n",
      "Processing image from URL: https://brandperception.s3.amazonaws.com/imagenet_eval_top50_middle50_bottom50/fun/top50/1515322_212155625634787_1027581323_n.jpg\n"
     ]
    },
    {
     "name": "stderr",
     "output_type": "stream",
     "text": [
      "Processing images:  87%|███████████████████   | 130/150 [11:41<01:34,  4.71s/it]"
     ]
    },
    {
     "name": "stdout",
     "output_type": "stream",
     "text": [
      "True Label: 1, Predicted Label: 1\n",
      "Processing image from URL: https://brandperception.s3.amazonaws.com/imagenet_eval_top50_middle50_bottom50/fun/bottom50/1250130254434690432_1431560792.jpg\n"
     ]
    },
    {
     "name": "stderr",
     "output_type": "stream",
     "text": [
      "Processing images:  87%|███████████████████▏  | 131/150 [11:45<01:26,  4.57s/it]"
     ]
    },
    {
     "name": "stdout",
     "output_type": "stream",
     "text": [
      "True Label: 0, Predicted Label: 1\n",
      "Processing image from URL: https://brandperception.s3.amazonaws.com/imagenet_eval_top50_middle50_bottom50/fun/middle50/1240261616401215535_1208982395.jpg\n"
     ]
    },
    {
     "name": "stderr",
     "output_type": "stream",
     "text": [
      "Processing images:  88%|███████████████████▎  | 132/150 [11:49<01:18,  4.38s/it]"
     ]
    },
    {
     "name": "stdout",
     "output_type": "stream",
     "text": [
      "True Label: 1, Predicted Label: 1\n",
      "Processing image from URL: https://brandperception.s3.amazonaws.com/imagenet_eval_top50_middle50_bottom50/fun/bottom50/1118563345606298439_792225.jpg\n"
     ]
    },
    {
     "name": "stderr",
     "output_type": "stream",
     "text": [
      "Processing images:  89%|███████████████████▌  | 133/150 [11:55<01:22,  4.88s/it]"
     ]
    },
    {
     "name": "stdout",
     "output_type": "stream",
     "text": [
      "True Label: 0, Predicted Label: 1\n",
      "Processing image from URL: https://brandperception.s3.amazonaws.com/imagenet_eval_top50_middle50_bottom50/fun/middle50/10584592_699815656738184_2066384875_n.jpg\n"
     ]
    },
    {
     "name": "stderr",
     "output_type": "stream",
     "text": [
      "Processing images:  89%|███████████████████▋  | 134/150 [12:03<01:34,  5.88s/it]"
     ]
    },
    {
     "name": "stdout",
     "output_type": "stream",
     "text": [
      "True Label: 0, Predicted Label: 1\n",
      "Processing image from URL: https://brandperception.s3.amazonaws.com/imagenet_eval_top50_middle50_bottom50/fun/middle50/10932594_618534751612837_1262151423_n.jpg\n"
     ]
    },
    {
     "name": "stderr",
     "output_type": "stream",
     "text": [
      "Processing images:  90%|███████████████████▊  | 135/150 [12:08<01:22,  5.49s/it]"
     ]
    },
    {
     "name": "stdout",
     "output_type": "stream",
     "text": [
      "True Label: 0, Predicted Label: 0\n",
      "Processing image from URL: https://brandperception.s3.amazonaws.com/imagenet_eval_top50_middle50_bottom50/fun/middle50/926192_396808567126750_258281978_n.jpg\n"
     ]
    },
    {
     "name": "stderr",
     "output_type": "stream",
     "text": [
      "Processing images:  91%|███████████████████▉  | 136/150 [12:13<01:14,  5.32s/it]"
     ]
    },
    {
     "name": "stdout",
     "output_type": "stream",
     "text": [
      "True Label: 0, Predicted Label: 1\n",
      "Processing image from URL: https://brandperception.s3.amazonaws.com/imagenet_eval_top50_middle50_bottom50/fun/middle50/1183978722214724942_1687893760.jpg\n"
     ]
    },
    {
     "name": "stderr",
     "output_type": "stream",
     "text": [
      "Processing images:  91%|████████████████████  | 137/150 [12:16<01:01,  4.74s/it]"
     ]
    },
    {
     "name": "stdout",
     "output_type": "stream",
     "text": [
      "True Label: 0, Predicted Label: 1\n",
      "Processing image from URL: https://brandperception.s3.amazonaws.com/imagenet_eval_top50_middle50_bottom50/fun/top50/10261059_1649500431932271_1409500617_n.jpg\n"
     ]
    },
    {
     "name": "stderr",
     "output_type": "stream",
     "text": [
      "Processing images:  92%|████████████████████▏ | 138/150 [12:20<00:55,  4.64s/it]"
     ]
    },
    {
     "name": "stdout",
     "output_type": "stream",
     "text": [
      "True Label: 1, Predicted Label: 1\n",
      "Processing image from URL: https://brandperception.s3.amazonaws.com/imagenet_eval_top50_middle50_bottom50/fun/top50/11192657_416075038565051_537494873_n.jpg\n"
     ]
    },
    {
     "name": "stderr",
     "output_type": "stream",
     "text": [
      "Processing images:  93%|████████████████████▍ | 139/150 [12:24<00:49,  4.47s/it]"
     ]
    },
    {
     "name": "stdout",
     "output_type": "stream",
     "text": [
      "True Label: 1, Predicted Label: 1\n",
      "Processing image from URL: https://brandperception.s3.amazonaws.com/imagenet_eval_top50_middle50_bottom50/fun/middle50/10724652_297016037176257_1800889629_n.jpg\n"
     ]
    },
    {
     "name": "stderr",
     "output_type": "stream",
     "text": [
      "Processing images:  93%|████████████████████▌ | 140/150 [12:31<00:49,  4.97s/it]"
     ]
    },
    {
     "name": "stdout",
     "output_type": "stream",
     "text": [
      "True Label: 0, Predicted Label: 1\n",
      "Processing image from URL: https://brandperception.s3.amazonaws.com/imagenet_eval_top50_middle50_bottom50/fun/bottom50/1238562538302872956_2910722438.jpg\n"
     ]
    },
    {
     "name": "stderr",
     "output_type": "stream",
     "text": [
      "Processing images:  94%|████████████████████▋ | 141/150 [12:35<00:44,  4.90s/it]"
     ]
    },
    {
     "name": "stdout",
     "output_type": "stream",
     "text": [
      "True Label: 0, Predicted Label: 0\n",
      "Processing image from URL: https://brandperception.s3.amazonaws.com/imagenet_eval_top50_middle50_bottom50/fun/top50/11202470_437228703125250_73869218_n.jpg\n"
     ]
    },
    {
     "name": "stderr",
     "output_type": "stream",
     "text": [
      "Processing images:  95%|████████████████████▊ | 142/150 [12:40<00:37,  4.72s/it]"
     ]
    },
    {
     "name": "stdout",
     "output_type": "stream",
     "text": [
      "True Label: 0, Predicted Label: 1\n",
      "Processing image from URL: https://brandperception.s3.amazonaws.com/imagenet_eval_top50_middle50_bottom50/fun/top50/1219420777964129669_2805289626.jpg\n"
     ]
    },
    {
     "name": "stderr",
     "output_type": "stream",
     "text": [
      "Processing images:  95%|████████████████████▉ | 143/150 [12:44<00:31,  4.56s/it]"
     ]
    },
    {
     "name": "stdout",
     "output_type": "stream",
     "text": [
      "True Label: 0, Predicted Label: 1\n",
      "Processing image from URL: https://brandperception.s3.amazonaws.com/imagenet_eval_top50_middle50_bottom50/fun/bottom50/1211313590851430246_31224952.jpg\n"
     ]
    },
    {
     "name": "stderr",
     "output_type": "stream",
     "text": [
      "Processing images:  96%|█████████████████████ | 144/150 [12:48<00:27,  4.61s/it]"
     ]
    },
    {
     "name": "stdout",
     "output_type": "stream",
     "text": [
      "True Label: 0, Predicted Label: 0\n",
      "Processing image from URL: https://brandperception.s3.amazonaws.com/imagenet_eval_top50_middle50_bottom50/fun/bottom50/1210454880530845478_2214942930.jpg\n"
     ]
    },
    {
     "name": "stderr",
     "output_type": "stream",
     "text": [
      "Processing images:  97%|█████████████████████▎| 145/150 [12:53<00:23,  4.61s/it]"
     ]
    },
    {
     "name": "stdout",
     "output_type": "stream",
     "text": [
      "True Label: 0, Predicted Label: 1\n",
      "Processing image from URL: https://brandperception.s3.amazonaws.com/imagenet_eval_top50_middle50_bottom50/fun/top50/11378140_1634612996756860_1191118369_n.jpg\n"
     ]
    },
    {
     "name": "stderr",
     "output_type": "stream",
     "text": [
      "Processing images:  97%|█████████████████████▍| 146/150 [13:03<00:25,  6.30s/it]"
     ]
    },
    {
     "name": "stdout",
     "output_type": "stream",
     "text": [
      "True Label: 1, Predicted Label: 1\n",
      "Processing image from URL: https://brandperception.s3.amazonaws.com/imagenet_eval_top50_middle50_bottom50/fun/bottom50/1245044139047019513_49361303.jpg\n"
     ]
    },
    {
     "name": "stderr",
     "output_type": "stream",
     "text": [
      "Processing images:  98%|█████████████████████▌| 147/150 [13:08<00:17,  5.78s/it]"
     ]
    },
    {
     "name": "stdout",
     "output_type": "stream",
     "text": [
      "True Label: 0, Predicted Label: 1\n",
      "Processing image from URL: https://brandperception.s3.amazonaws.com/imagenet_eval_top50_middle50_bottom50/fun/top50/11176335_1579238449018896_1551269832_n.jpg\n"
     ]
    },
    {
     "name": "stderr",
     "output_type": "stream",
     "text": [
      "Processing images:  99%|█████████████████████▋| 148/150 [13:12<00:10,  5.35s/it]"
     ]
    },
    {
     "name": "stdout",
     "output_type": "stream",
     "text": [
      "True Label: 1, Predicted Label: 1\n",
      "Processing image from URL: https://brandperception.s3.amazonaws.com/imagenet_eval_top50_middle50_bottom50/fun/middle50/11176575_1438773159754722_928027814_n.jpg\n"
     ]
    },
    {
     "name": "stderr",
     "output_type": "stream",
     "text": [
      "Processing images:  99%|█████████████████████▊| 149/150 [13:17<00:05,  5.19s/it]"
     ]
    },
    {
     "name": "stdout",
     "output_type": "stream",
     "text": [
      "True Label: 1, Predicted Label: 1\n",
      "Processing image from URL: https://brandperception.s3.amazonaws.com/imagenet_eval_top50_middle50_bottom50/fun/bottom50/1239236415910053139_1834310768.jpg\n"
     ]
    },
    {
     "name": "stderr",
     "output_type": "stream",
     "text": [
      "Processing images: 100%|██████████████████████| 150/150 [13:22<00:00,  5.35s/it]"
     ]
    },
    {
     "name": "stdout",
     "output_type": "stream",
     "text": [
      "True Label: 0, Predicted Label: 0\n"
     ]
    },
    {
     "name": "stderr",
     "output_type": "stream",
     "text": [
      "\n"
     ]
    }
   ],
   "source": [
    "drive.mount('/content/drive')\n",
    "file_path = '/content/drive/My Drive/Colab Notebooks/CV_task/fun_dataset.csv'\n",
    "data = pd.read_csv(file_path)\n",
    "\n",
    "# data = data.head(10) # test if code works fine\n",
    "\n",
    "true_labels = []\n",
    "predicted_labels = []  # 1 for fun, 0 for dull\n",
    "fun_probs = []\n",
    "\n",
    "group_results = {\"top50\": [], \"middle50\": [], \"bottom50\": []}\n",
    "consumer_results = {}\n",
    "\n",
    "for _, row in tqdm(data.iterrows(), desc=\"Processing images\", total=len(data)):\n",
    "    image_url = row['image_url']\n",
    "    true_label = 1 if row['fun'].strip().lower() == 'yes' else 0\n",
    "    group = row['top_middle_bottom']  # Group classification (top50, middle50, bottom50)\n",
    "    consumer = row['consumer_official']  # Consumer/98official information\n",
    "\n",
    "    # Initialize consumer group in the dictionary\n",
    "    if consumer not in consumer_results:\n",
    "        consumer_results[consumer] = {\"true_labels\": [], \"predicted_labels\": []}\n",
    "\n",
    "    # Get the image from the URL\n",
    "    try:\n",
    "        response = requests.get(image_url)\n",
    "        # img = Image.open(BytesIO(response.content))\n",
    "\n",
    "        print(f\"Processing image from URL: {image_url}\")\n",
    "        # plt.imshow(img)\n",
    "        # plt.axis('off')\n",
    "        # plt.show()\n",
    "\n",
    "        # Send the image URL to the GPT model\n",
    "        response = client.chat.completions.create(\n",
    "            model=\"gpt-4o\",\n",
    "            messages=[\n",
    "                {\n",
    "                    \"role\": \"user\",\n",
    "                    \"content\": [\n",
    "                        {\n",
    "                            \"type\": \"text\",\n",
    "                            \"text\": label_attribution_prompt_text,\n",
    "                        },\n",
    "                        {\n",
    "                            \"type\": \"image_url\",\n",
    "                            \"image_url\": {\"url\": image_url},\n",
    "                        },\n",
    "                    ],\n",
    "                }\n",
    "            ],\n",
    "        )\n",
    "        result = response.choices[0].message.content.lower()\n",
    "\n",
    "        # Determine predicted label (1 if fun, 0 otherwise)\n",
    "        predicted_label = 1 if \"fun\" in result else 0\n",
    "        predicted_labels.append(predicted_label)\n",
    "        fun_probs.append(1.0 if \"fun\" in result else 0.0)\n",
    "        true_labels.append(true_label)\n",
    "\n",
    "        group_results[group].append((true_label, predicted_label))\n",
    "\n",
    "        consumer_results[consumer][\"true_labels\"].append(true_label)\n",
    "        consumer_results[consumer][\"predicted_labels\"].append(predicted_label)\n",
    "\n",
    "        print(f\"True Label: {true_label}, Predicted Label: {predicted_label}\")\n",
    "    except Exception as e:\n",
    "        print(f\"Failed to process image from URL: {image_url}. Error: {e}\")\n"
   ]
  },
  {
   "cell_type": "code",
   "execution_count": null,
   "metadata": {
    "id": "Wn1FUYN3dEC2",
    "outputId": "d0f135b0-0640-437a-c476-8a6bc0018ba7"
   },
   "outputs": [
    {
     "name": "stdout",
     "output_type": "stream",
     "text": [
      "Overall Accuracy: 0.5503355704697986\n",
      "Overall AUC: 0.6277777777777778\n",
      "Accuracy for top50: 0.9387755102040817\n",
      "Accuracy for middle50: 0.4\n",
      "Accuracy for bottom50: 0.32\n",
      "Accuracy for consumer user: 0.4594594594594595\n",
      "Accuracy for consumer official: 0.64\n"
     ]
    }
   ],
   "source": [
    "results_list = []\n",
    "\n",
    "# Calculate Overall Accuracy\n",
    "overall_accuracy = accuracy_score(true_labels, predicted_labels)\n",
    "results_list.append([\"Overall Accuracy\", overall_accuracy])\n",
    "print(f\"Overall Accuracy: {overall_accuracy}\")\n",
    "\n",
    "# Calculate Overall AUC\n",
    "if len(set(true_labels)) > 1:\n",
    "    overall_auc = roc_auc_score(true_labels, fun_probs)\n",
    "    results_list.append([\"Overall AUC\", overall_auc])\n",
    "    print(f\"Overall AUC: {overall_auc}\")\n",
    "else:\n",
    "    print(\"AUC cannot be calculated as there is only one class in true labels.\")\n",
    "\n",
    "# Group-wise accuracy\n",
    "for group, values in group_results.items():\n",
    "    if values:  # Ensure the group has data\n",
    "        group_true_labels, group_predicted_labels = zip(*values)\n",
    "        group_accuracy = accuracy_score(group_true_labels, group_predicted_labels)\n",
    "        results_list.append([f\"Accuracy for group {group}\", group_accuracy])\n",
    "        print(f\"Accuracy for {group}: {group_accuracy}\")\n",
    "    else:\n",
    "        print(f\"No data for group {group}.\")\n",
    "\n",
    "# Consumer-wise accuracy\n",
    "for consumer, results_dict in consumer_results.items():\n",
    "    if results_dict[\"true_labels\"]:  # Ensure the consumer has data\n",
    "        consumer_accuracy = accuracy_score(results_dict[\"true_labels\"], results_dict[\"predicted_labels\"])\n",
    "        results_list.append([f\"Accuracy for consumer {consumer}\", consumer_accuracy])\n",
    "        print(f\"Accuracy for consumer {consumer}: {consumer_accuracy}\")\n",
    "    else:\n",
    "        print(f\"No data for consumer {consumer}.\")\n",
    "\n",
    "df_results = pd.DataFrame(results_list, columns=[\"Metric\", \"Value\"])\n",
    "df_results.to_csv('test_results_fun.csv', index=False)\n"
   ]
  }
 ],
 "metadata": {
  "colab": {
   "provenance": []
  },
  "kernelspec": {
   "display_name": "Python [conda env:base] *",
   "language": "python",
   "name": "conda-base-py"
  },
  "language_info": {
   "codemirror_mode": {
    "name": "ipython",
    "version": 3
   },
   "file_extension": ".py",
   "mimetype": "text/x-python",
   "name": "python",
   "nbconvert_exporter": "python",
   "pygments_lexer": "ipython3",
   "version": "3.12.7"
  }
 },
 "nbformat": 4,
 "nbformat_minor": 0
}
